{
  "nbformat": 4,
  "nbformat_minor": 0,
  "metadata": {
    "kernelspec": {
      "display_name": "Python 3",
      "language": "python",
      "name": "python3"
    },
    "language_info": {
      "codemirror_mode": {
        "name": "ipython",
        "version": 3
      },
      "file_extension": ".py",
      "mimetype": "text/x-python",
      "name": "python",
      "nbconvert_exporter": "python",
      "pygments_lexer": "ipython3",
      "version": "3.6.7"
    },
    "colab": {
      "name": "template.ipynb",
      "provenance": [],
      "collapsed_sections": []
    },
    "widgets": {
      "application/vnd.jupyter.widget-state+json": {
        "3422c1e71ab2421ca81452baae58d15e": {
          "model_module": "catboost-widget",
          "model_name": "CatboostWidgetModel",
          "state": {
            "_view_name": "CatboostWidgetView",
            "_dom_classes": [],
            "_model_name": "CatboostWidgetModel",
            "data": {
              "catboost_info": {
                "content": {
                  "data": {
                    "meta": {
                      "name": "experiment",
                      "parameters": "",
                      "test_metrics": [],
                      "learn_sets": [
                        "learn"
                      ],
                      "launch_mode": "Train",
                      "learn_metrics": [
                        {
                          "best_value": "Min",
                          "name": "RMSE"
                        }
                      ],
                      "iteration_count": 1200,
                      "test_sets": []
                    },
                    "iterations": [
                      {
                        "passed_time": 3.304732121,
                        "iteration": 0,
                        "remaining_time": 3962.373813,
                        "learn": [
                          1.412960392
                        ]
                      },
                      {
                        "passed_time": 6.095174782,
                        "iteration": 1,
                        "remaining_time": 3651.009694,
                        "learn": [
                          1.359453767
                        ]
                      },
                      {
                        "passed_time": 8.753923896,
                        "iteration": 2,
                        "remaining_time": 3492.815635,
                        "learn": [
                          1.319310351
                        ]
                      },
                      {
                        "passed_time": 11.11933678,
                        "iteration": 3,
                        "remaining_time": 3324.681697,
                        "learn": [
                          1.286039602
                        ]
                      },
                      {
                        "passed_time": 13.37202025,
                        "iteration": 4,
                        "remaining_time": 3195.912839,
                        "learn": [
                          1.260541009
                        ]
                      },
                      {
                        "passed_time": 15.57259861,
                        "iteration": 5,
                        "remaining_time": 3098.947124,
                        "learn": [
                          1.239866597
                        ]
                      },
                      {
                        "passed_time": 18.28962903,
                        "iteration": 6,
                        "remaining_time": 3117.075347,
                        "learn": [
                          1.223323264
                        ]
                      },
                      {
                        "passed_time": 20.70422175,
                        "iteration": 7,
                        "remaining_time": 3084.929041,
                        "learn": [
                          1.209195593
                        ]
                      },
                      {
                        "passed_time": 22.73201563,
                        "iteration": 8,
                        "remaining_time": 3008.203401,
                        "learn": [
                          1.19685637
                        ]
                      },
                      {
                        "passed_time": 25.25097814,
                        "iteration": 9,
                        "remaining_time": 3004.866399,
                        "learn": [
                          1.187330196
                        ]
                      },
                      {
                        "passed_time": 27.41799157,
                        "iteration": 10,
                        "remaining_time": 2963.635634,
                        "learn": [
                          1.178751167
                        ]
                      },
                      {
                        "passed_time": 30.16519543,
                        "iteration": 11,
                        "remaining_time": 2986.354347,
                        "learn": [
                          1.171059748
                        ]
                      },
                      {
                        "passed_time": 33.61869421,
                        "iteration": 12,
                        "remaining_time": 3069.645387,
                        "learn": [
                          1.164648009
                        ]
                      },
                      {
                        "passed_time": 36.26757881,
                        "iteration": 13,
                        "remaining_time": 3072.382034,
                        "learn": [
                          1.155863399
                        ]
                      },
                      {
                        "passed_time": 38.63201904,
                        "iteration": 14,
                        "remaining_time": 3051.929504,
                        "learn": [
                          1.150380053
                        ]
                      },
                      {
                        "passed_time": 40.79475843,
                        "iteration": 15,
                        "remaining_time": 3018.812124,
                        "learn": [
                          1.144946379
                        ]
                      },
                      {
                        "passed_time": 43.15591683,
                        "iteration": 16,
                        "remaining_time": 3003.144094,
                        "learn": [
                          1.140047582
                        ]
                      },
                      {
                        "passed_time": 45.13800005,
                        "iteration": 17,
                        "remaining_time": 2964.062003,
                        "learn": [
                          1.13529366
                        ]
                      },
                      {
                        "passed_time": 47.27357273,
                        "iteration": 18,
                        "remaining_time": 2938.425758,
                        "learn": [
                          1.130822965
                        ]
                      },
                      {
                        "passed_time": 49.68828711,
                        "iteration": 19,
                        "remaining_time": 2931.60894,
                        "learn": [
                          1.127372416
                        ]
                      },
                      {
                        "passed_time": 51.92356853,
                        "iteration": 20,
                        "remaining_time": 2915.13749,
                        "learn": [
                          1.123904793
                        ]
                      },
                      {
                        "passed_time": 53.89073074,
                        "iteration": 21,
                        "remaining_time": 2885.603673,
                        "learn": [
                          1.1203183
                        ]
                      },
                      {
                        "passed_time": 56.16984637,
                        "iteration": 22,
                        "remaining_time": 2874.430834,
                        "learn": [
                          1.117355015
                        ]
                      },
                      {
                        "passed_time": 58.06461769,
                        "iteration": 23,
                        "remaining_time": 2845.166267,
                        "learn": [
                          1.1138231
                        ]
                      },
                      {
                        "passed_time": 60.29528299,
                        "iteration": 24,
                        "remaining_time": 2833.8783,
                        "learn": [
                          1.111743998
                        ]
                      },
                      {
                        "passed_time": 62.6696329,
                        "iteration": 25,
                        "remaining_time": 2829.774962,
                        "learn": [
                          1.107707109
                        ]
                      },
                      {
                        "passed_time": 64.97532096,
                        "iteration": 26,
                        "remaining_time": 2822.816722,
                        "learn": [
                          1.104109546
                        ]
                      },
                      {
                        "passed_time": 67.16492442,
                        "iteration": 27,
                        "remaining_time": 2811.331836,
                        "learn": [
                          1.100740131
                        ]
                      },
                      {
                        "passed_time": 69.39364681,
                        "iteration": 28,
                        "remaining_time": 2802.0676,
                        "learn": [
                          1.098664941
                        ]
                      },
                      {
                        "passed_time": 71.33325603,
                        "iteration": 29,
                        "remaining_time": 2781.996985,
                        "learn": [
                          1.095957529
                        ]
                      },
                      {
                        "passed_time": 73.65196953,
                        "iteration": 30,
                        "remaining_time": 2777.392012,
                        "learn": [
                          1.093303797
                        ]
                      },
                      {
                        "passed_time": 75.84792803,
                        "iteration": 31,
                        "remaining_time": 2768.449373,
                        "learn": [
                          1.091133986
                        ]
                      },
                      {
                        "passed_time": 78.1591171,
                        "iteration": 32,
                        "remaining_time": 2763.990596,
                        "learn": [
                          1.087669288
                        ]
                      },
                      {
                        "passed_time": 80.35994738,
                        "iteration": 33,
                        "remaining_time": 2755.87349,
                        "learn": [
                          1.085125859
                        ]
                      },
                      {
                        "passed_time": 82.54390677,
                        "iteration": 34,
                        "remaining_time": 2747.532897,
                        "learn": [
                          1.082677112
                        ]
                      },
                      {
                        "passed_time": 84.33107407,
                        "iteration": 35,
                        "remaining_time": 2726.704728,
                        "learn": [
                          1.080331565
                        ]
                      },
                      {
                        "passed_time": 86.46370303,
                        "iteration": 36,
                        "remaining_time": 2717.764503,
                        "learn": [
                          1.078664493
                        ]
                      },
                      {
                        "passed_time": 88.57346997,
                        "iteration": 37,
                        "remaining_time": 2708.483476,
                        "learn": [
                          1.076272807
                        ]
                      },
                      {
                        "passed_time": 91.15383961,
                        "iteration": 38,
                        "remaining_time": 2713.579687,
                        "learn": [
                          1.074326255
                        ]
                      },
                      {
                        "passed_time": 93.33375134,
                        "iteration": 39,
                        "remaining_time": 2706.678789,
                        "learn": [
                          1.072469668
                        ]
                      },
                      {
                        "passed_time": 95.83803181,
                        "iteration": 40,
                        "remaining_time": 2709.177533,
                        "learn": [
                          1.070103869
                        ]
                      },
                      {
                        "passed_time": 97.65456102,
                        "iteration": 41,
                        "remaining_time": 2692.475754,
                        "learn": [
                          1.06868062
                        ]
                      },
                      {
                        "passed_time": 100.1596329,
                        "iteration": 42,
                        "remaining_time": 2694.992914,
                        "learn": [
                          1.066359515
                        ]
                      },
                      {
                        "passed_time": 102.0869924,
                        "iteration": 43,
                        "remaining_time": 2682.103711,
                        "learn": [
                          1.065182653
                        ]
                      },
                      {
                        "passed_time": 104.4330153,
                        "iteration": 44,
                        "remaining_time": 2680.447392,
                        "learn": [
                          1.063918771
                        ]
                      },
                      {
                        "passed_time": 106.4362988,
                        "iteration": 45,
                        "remaining_time": 2670.162799,
                        "learn": [
                          1.062387418
                        ]
                      },
                      {
                        "passed_time": 108.6307406,
                        "iteration": 46,
                        "remaining_time": 2664.920083,
                        "learn": [
                          1.060165152
                        ]
                      },
                      {
                        "passed_time": 110.4805307,
                        "iteration": 47,
                        "remaining_time": 2651.532738,
                        "learn": [
                          1.058598559
                        ]
                      },
                      {
                        "passed_time": 112.665046,
                        "iteration": 48,
                        "remaining_time": 2646.478937,
                        "learn": [
                          1.056947696
                        ]
                      },
                      {
                        "passed_time": 114.4852633,
                        "iteration": 49,
                        "remaining_time": 2633.161056,
                        "learn": [
                          1.055180026
                        ]
                      },
                      {
                        "passed_time": 116.628939,
                        "iteration": 50,
                        "remaining_time": 2627.581391,
                        "learn": [
                          1.053855385
                        ]
                      },
                      {
                        "passed_time": 118.7452181,
                        "iteration": 51,
                        "remaining_time": 2621.529046,
                        "learn": [
                          1.051319073
                        ]
                      },
                      {
                        "passed_time": 121.2291023,
                        "iteration": 52,
                        "remaining_time": 2623.580761,
                        "learn": [
                          1.04974708
                        ]
                      },
                      {
                        "passed_time": 123.2723526,
                        "iteration": 53,
                        "remaining_time": 2616.11326,
                        "learn": [
                          1.047778878
                        ]
                      },
                      {
                        "passed_time": 125.1953242,
                        "iteration": 54,
                        "remaining_time": 2606.339022,
                        "learn": [
                          1.046336962
                        ]
                      },
                      {
                        "passed_time": 127.4789171,
                        "iteration": 55,
                        "remaining_time": 2604.212163,
                        "learn": [
                          1.044923211
                        ]
                      },
                      {
                        "passed_time": 129.9098202,
                        "iteration": 56,
                        "remaining_time": 2605.033763,
                        "learn": [
                          1.043325773
                        ]
                      },
                      {
                        "passed_time": 132.0302082,
                        "iteration": 57,
                        "remaining_time": 2599.629272,
                        "learn": [
                          1.042225801
                        ]
                      },
                      {
                        "passed_time": 134.4749,
                        "iteration": 58,
                        "remaining_time": 2600.607813,
                        "learn": [
                          1.040820425
                        ]
                      },
                      {
                        "passed_time": 136.4435319,
                        "iteration": 59,
                        "remaining_time": 2592.427106,
                        "learn": [
                          1.039434133
                        ]
                      },
                      {
                        "passed_time": 138.7760274,
                        "iteration": 60,
                        "remaining_time": 2591.244184,
                        "learn": [
                          1.038328551
                        ]
                      },
                      {
                        "passed_time": 140.8025866,
                        "iteration": 61,
                        "remaining_time": 2584.408766,
                        "learn": [
                          1.037009128
                        ]
                      },
                      {
                        "passed_time": 143.0349302,
                        "iteration": 62,
                        "remaining_time": 2581.439931,
                        "learn": [
                          1.035700913
                        ]
                      },
                      {
                        "passed_time": 145.4264921,
                        "iteration": 63,
                        "remaining_time": 2581.320235,
                        "learn": [
                          1.034649413
                        ]
                      },
                      {
                        "passed_time": 147.5465101,
                        "iteration": 64,
                        "remaining_time": 2576.38906,
                        "learn": [
                          1.033088305
                        ]
                      },
                      {
                        "passed_time": 149.8851945,
                        "iteration": 65,
                        "remaining_time": 2575.30016,
                        "learn": [
                          1.031943711
                        ]
                      },
                      {
                        "passed_time": 151.6739791,
                        "iteration": 66,
                        "remaining_time": 2564.8749,
                        "learn": [
                          1.030982244
                        ]
                      },
                      {
                        "passed_time": 153.8027688,
                        "iteration": 67,
                        "remaining_time": 2560.36374,
                        "learn": [
                          1.029800672
                        ]
                      },
                      {
                        "passed_time": 155.799562,
                        "iteration": 68,
                        "remaining_time": 2553.758039,
                        "learn": [
                          1.028877257
                        ]
                      },
                      {
                        "passed_time": 157.6958197,
                        "iteration": 69,
                        "remaining_time": 2545.66109,
                        "learn": [
                          1.027284479
                        ]
                      },
                      {
                        "passed_time": 159.4891159,
                        "iteration": 70,
                        "remaining_time": 2536.101576,
                        "learn": [
                          1.026603105
                        ]
                      },
                      {
                        "passed_time": 161.5115204,
                        "iteration": 71,
                        "remaining_time": 2530.347153,
                        "learn": [
                          1.02557281
                        ]
                      },
                      {
                        "passed_time": 163.9615176,
                        "iteration": 72,
                        "remaining_time": 2531.296305,
                        "learn": [
                          1.023888355
                        ]
                      },
                      {
                        "passed_time": 166.2041083,
                        "iteration": 73,
                        "remaining_time": 2528.997648,
                        "learn": [
                          1.022668447
                        ]
                      },
                      {
                        "passed_time": 167.9792036,
                        "iteration": 74,
                        "remaining_time": 2519.688055,
                        "learn": [
                          1.021970869
                        ]
                      },
                      {
                        "passed_time": 169.7814504,
                        "iteration": 75,
                        "remaining_time": 2510.978293,
                        "learn": [
                          1.020858722
                        ]
                      },
                      {
                        "passed_time": 171.9576865,
                        "iteration": 76,
                        "remaining_time": 2507.902363,
                        "learn": [
                          1.019467748
                        ]
                      },
                      {
                        "passed_time": 174.2436832,
                        "iteration": 77,
                        "remaining_time": 2506.428366,
                        "learn": [
                          1.018479045
                        ]
                      },
                      {
                        "passed_time": 176.1584691,
                        "iteration": 78,
                        "remaining_time": 2499.666378,
                        "learn": [
                          1.017286329
                        ]
                      },
                      {
                        "passed_time": 178.6886893,
                        "iteration": 79,
                        "remaining_time": 2501.641651,
                        "learn": [
                          1.015970582
                        ]
                      },
                      {
                        "passed_time": 181.2103604,
                        "iteration": 80,
                        "remaining_time": 2503.387572,
                        "learn": [
                          1.01505801
                        ]
                      },
                      {
                        "passed_time": 183.7396901,
                        "iteration": 81,
                        "remaining_time": 2505.133823,
                        "learn": [
                          1.013831058
                        ]
                      },
                      {
                        "passed_time": 186.1494308,
                        "iteration": 82,
                        "remaining_time": 2505.167641,
                        "learn": [
                          1.012232139
                        ]
                      },
                      {
                        "passed_time": 188.6273431,
                        "iteration": 83,
                        "remaining_time": 2506.048987,
                        "learn": [
                          1.011385001
                        ]
                      },
                      {
                        "passed_time": 190.5030884,
                        "iteration": 84,
                        "remaining_time": 2498.952277,
                        "learn": [
                          1.010314423
                        ]
                      },
                      {
                        "passed_time": 192.3659781,
                        "iteration": 85,
                        "remaining_time": 2491.810461,
                        "learn": [
                          1.009224108
                        ]
                      },
                      {
                        "passed_time": 194.1976117,
                        "iteration": 86,
                        "remaining_time": 2484.390135,
                        "learn": [
                          1.008242132
                        ]
                      },
                      {
                        "passed_time": 196.6458205,
                        "iteration": 87,
                        "remaining_time": 2484.888095,
                        "learn": [
                          1.007401339
                        ]
                      },
                      {
                        "passed_time": 198.9774357,
                        "iteration": 88,
                        "remaining_time": 2483.864393,
                        "learn": [
                          1.006274112
                        ]
                      },
                      {
                        "passed_time": 200.8752904,
                        "iteration": 89,
                        "remaining_time": 2477.461916,
                        "learn": [
                          1.005558987
                        ]
                      },
                      {
                        "passed_time": 202.8952425,
                        "iteration": 90,
                        "remaining_time": 2472.646417,
                        "learn": [
                          1.00471927
                        ]
                      },
                      {
                        "passed_time": 204.8405161,
                        "iteration": 91,
                        "remaining_time": 2466.992303,
                        "learn": [
                          1.003943611
                        ]
                      },
                      {
                        "passed_time": 206.8226827,
                        "iteration": 92,
                        "remaining_time": 2461.857094,
                        "learn": [
                          1.003071586
                        ]
                      },
                      {
                        "passed_time": 208.4704261,
                        "iteration": 93,
                        "remaining_time": 2452.854163,
                        "learn": [
                          1.00243902
                        ]
                      },
                      {
                        "passed_time": 210.517976,
                        "iteration": 94,
                        "remaining_time": 2448.656457,
                        "learn": [
                          1.001869044
                        ]
                      },
                      {
                        "passed_time": 212.6756471,
                        "iteration": 95,
                        "remaining_time": 2445.769941,
                        "learn": [
                          1.000412226
                        ]
                      },
                      {
                        "passed_time": 214.8689778,
                        "iteration": 96,
                        "remaining_time": 2443.303943,
                        "learn": [
                          0.9991032873
                        ]
                      },
                      {
                        "passed_time": 216.6815741,
                        "iteration": 97,
                        "remaining_time": 2436.562191,
                        "learn": [
                          0.9983734696
                        ]
                      },
                      {
                        "passed_time": 218.6628238,
                        "iteration": 98,
                        "remaining_time": 2431.795647,
                        "learn": [
                          0.9978266814
                        ]
                      },
                      {
                        "passed_time": 220.9994873,
                        "iteration": 99,
                        "remaining_time": 2430.99436,
                        "learn": [
                          0.9967823576
                        ]
                      },
                      {
                        "passed_time": 223.4300302,
                        "iteration": 100,
                        "remaining_time": 2431.18419,
                        "learn": [
                          0.9962308346
                        ]
                      },
                      {
                        "passed_time": 226.0383236,
                        "iteration": 101,
                        "remaining_time": 2433.236072,
                        "learn": [
                          0.9953148374
                        ]
                      },
                      {
                        "passed_time": 228.4538486,
                        "iteration": 102,
                        "remaining_time": 2433.144387,
                        "learn": [
                          0.9944287399
                        ]
                      },
                      {
                        "passed_time": 230.7116209,
                        "iteration": 103,
                        "remaining_time": 2431.345543,
                        "learn": [
                          0.9934110449
                        ]
                      },
                      {
                        "passed_time": 232.6375328,
                        "iteration": 104,
                        "remaining_time": 2426.077128,
                        "learn": [
                          0.9929073151
                        ]
                      },
                      {
                        "passed_time": 235.0564453,
                        "iteration": 105,
                        "remaining_time": 2425.959916,
                        "learn": [
                          0.9921631401
                        ]
                      },
                      {
                        "passed_time": 237.4634476,
                        "iteration": 106,
                        "remaining_time": 2425.67802,
                        "learn": [
                          0.991200548
                        ]
                      },
                      {
                        "passed_time": 239.63755,
                        "iteration": 107,
                        "remaining_time": 2423.001894,
                        "learn": [
                          0.9903676712
                        ]
                      },
                      {
                        "passed_time": 242.0388463,
                        "iteration": 108,
                        "remaining_time": 2422.609003,
                        "learn": [
                          0.9893452915
                        ]
                      },
                      {
                        "passed_time": 243.985963,
                        "iteration": 109,
                        "remaining_time": 2417.679088,
                        "learn": [
                          0.9882614569
                        ]
                      },
                      {
                        "passed_time": 246.0555694,
                        "iteration": 110,
                        "remaining_time": 2414.00464,
                        "learn": [
                          0.9875376396
                        ]
                      },
                      {
                        "passed_time": 248.3530048,
                        "iteration": 111,
                        "remaining_time": 2412.572047,
                        "learn": [
                          0.986289818
                        ]
                      },
                      {
                        "passed_time": 250.525707,
                        "iteration": 112,
                        "remaining_time": 2409.924279,
                        "learn": [
                          0.9851296435
                        ]
                      },
                      {
                        "passed_time": 253.0041648,
                        "iteration": 113,
                        "remaining_time": 2410.19757,
                        "learn": [
                          0.9844723387
                        ]
                      },
                      {
                        "passed_time": 255.4226751,
                        "iteration": 114,
                        "remaining_time": 2409.857413,
                        "learn": [
                          0.9834550629
                        ]
                      },
                      {
                        "passed_time": 257.3590902,
                        "iteration": 115,
                        "remaining_time": 2404.976325,
                        "learn": [
                          0.9828616075
                        ]
                      },
                      {
                        "passed_time": 259.6548918,
                        "iteration": 116,
                        "remaining_time": 2403.472203,
                        "learn": [
                          0.9822804082
                        ]
                      },
                      {
                        "passed_time": 261.5070184,
                        "iteration": 117,
                        "remaining_time": 2397.886389,
                        "learn": [
                          0.9817282454
                        ]
                      },
                      {
                        "passed_time": 263.1988067,
                        "iteration": 118,
                        "remaining_time": 2390.906807,
                        "learn": [
                          0.9810676624
                        ]
                      },
                      {
                        "passed_time": 265.4605696,
                        "iteration": 119,
                        "remaining_time": 2389.145126,
                        "learn": [
                          0.9797121421
                        ]
                      },
                      {
                        "passed_time": 267.7008913,
                        "iteration": 120,
                        "remaining_time": 2387.183982,
                        "learn": [
                          0.9787565983
                        ]
                      },
                      {
                        "passed_time": 270.2530062,
                        "iteration": 121,
                        "remaining_time": 2387.973284,
                        "learn": [
                          0.9778610903
                        ]
                      },
                      {
                        "passed_time": 272.8084119,
                        "iteration": 122,
                        "remaining_time": 2388.73707,
                        "learn": [
                          0.9770980863
                        ]
                      },
                      {
                        "passed_time": 274.6756498,
                        "iteration": 123,
                        "remaining_time": 2383.4758,
                        "learn": [
                          0.9763914713
                        ]
                      },
                      {
                        "passed_time": 277.2480761,
                        "iteration": 124,
                        "remaining_time": 2384.333455,
                        "learn": [
                          0.9753774833
                        ]
                      },
                      {
                        "passed_time": 279.5306385,
                        "iteration": 125,
                        "remaining_time": 2382.665919,
                        "learn": [
                          0.9747796318
                        ]
                      },
                      {
                        "passed_time": 281.7850717,
                        "iteration": 126,
                        "remaining_time": 2380.751039,
                        "learn": [
                          0.9743137833
                        ]
                      },
                      {
                        "passed_time": 283.7670051,
                        "iteration": 127,
                        "remaining_time": 2376.548667,
                        "learn": [
                          0.9737917983
                        ]
                      },
                      {
                        "passed_time": 286.1543311,
                        "iteration": 128,
                        "remaining_time": 2375.746423,
                        "learn": [
                          0.9728298152
                        ]
                      },
                      {
                        "passed_time": 288.4704442,
                        "iteration": 129,
                        "remaining_time": 2374.333656,
                        "learn": [
                          0.9718203779
                        ]
                      },
                      {
                        "passed_time": 290.8103814,
                        "iteration": 130,
                        "remaining_time": 2373.101509,
                        "learn": [
                          0.9706069996
                        ]
                      },
                      {
                        "passed_time": 292.8358216,
                        "iteration": 131,
                        "remaining_time": 2369.308011,
                        "learn": [
                          0.9701183762
                        ]
                      },
                      {
                        "passed_time": 295.0746574,
                        "iteration": 132,
                        "remaining_time": 2367.253078,
                        "learn": [
                          0.9695661181
                        ]
                      },
                      {
                        "passed_time": 297.2262964,
                        "iteration": 133,
                        "remaining_time": 2364.501731,
                        "learn": [
                          0.9684882183
                        ]
                      },
                      {
                        "passed_time": 299.7453963,
                        "iteration": 134,
                        "remaining_time": 2364.658127,
                        "learn": [
                          0.9680988584
                        ]
                      },
                      {
                        "passed_time": 301.8457325,
                        "iteration": 135,
                        "remaining_time": 2361.498966,
                        "learn": [
                          0.9674764699
                        ]
                      },
                      {
                        "passed_time": 304.4383745,
                        "iteration": 136,
                        "remaining_time": 2362.175125,
                        "learn": [
                          0.9665751483
                        ]
                      },
                      {
                        "passed_time": 306.4622985,
                        "iteration": 137,
                        "remaining_time": 2358.427253,
                        "learn": [
                          0.9659147764
                        ]
                      },
                      {
                        "passed_time": 308.838901,
                        "iteration": 138,
                        "remaining_time": 2357.396215,
                        "learn": [
                          0.9651167053
                        ]
                      },
                      {
                        "passed_time": 310.61637,
                        "iteration": 139,
                        "remaining_time": 2351.809658,
                        "learn": [
                          0.9645532579
                        ]
                      },
                      {
                        "passed_time": 312.9039839,
                        "iteration": 140,
                        "remaining_time": 2350.108645,
                        "learn": [
                          0.9638084771
                        ]
                      },
                      {
                        "passed_time": 314.8042007,
                        "iteration": 141,
                        "remaining_time": 2345.512988,
                        "learn": [
                          0.9630458206
                        ]
                      },
                      {
                        "passed_time": 317.1708565,
                        "iteration": 142,
                        "remaining_time": 2344.402765,
                        "learn": [
                          0.9623638131
                        ]
                      },
                      {
                        "passed_time": 319.527756,
                        "iteration": 143,
                        "remaining_time": 2343.203544,
                        "learn": [
                          0.9617640197
                        ]
                      },
                      {
                        "passed_time": 321.7984415,
                        "iteration": 144,
                        "remaining_time": 2341.361075,
                        "learn": [
                          0.9608265562
                        ]
                      },
                      {
                        "passed_time": 324.1984808,
                        "iteration": 145,
                        "remaining_time": 2340.446567,
                        "learn": [
                          0.9603529034
                        ]
                      },
                      {
                        "passed_time": 326.5349703,
                        "iteration": 146,
                        "remaining_time": 2339.056624,
                        "learn": [
                          0.9591638517
                        ]
                      },
                      {
                        "passed_time": 328.453218,
                        "iteration": 147,
                        "remaining_time": 2334.680982,
                        "learn": [
                          0.9586019918
                        ]
                      },
                      {
                        "passed_time": 330.6099164,
                        "iteration": 148,
                        "remaining_time": 2332.020283,
                        "learn": [
                          0.9582310159
                        ]
                      },
                      {
                        "passed_time": 332.7323786,
                        "iteration": 149,
                        "remaining_time": 2329.126651,
                        "learn": [
                          0.9578523666
                        ]
                      },
                      {
                        "passed_time": 335.2476581,
                        "iteration": 150,
                        "remaining_time": 2328.972141,
                        "learn": [
                          0.9570567366
                        ]
                      },
                      {
                        "passed_time": 337.9037712,
                        "iteration": 151,
                        "remaining_time": 2329.757581,
                        "learn": [
                          0.9564342444
                        ]
                      },
                      {
                        "passed_time": 340.2855386,
                        "iteration": 152,
                        "remaining_time": 2328.620646,
                        "learn": [
                          0.9560371368
                        ]
                      },
                      {
                        "passed_time": 342.7407947,
                        "iteration": 153,
                        "remaining_time": 2327.966697,
                        "learn": [
                          0.9555038811
                        ]
                      },
                      {
                        "passed_time": 345.0132612,
                        "iteration": 154,
                        "remaining_time": 2326.057148,
                        "learn": [
                          0.9548737356
                        ]
                      },
                      {
                        "passed_time": 347.5177624,
                        "iteration": 155,
                        "remaining_time": 2325.695794,
                        "learn": [
                          0.954065343
                        ]
                      },
                      {
                        "passed_time": 349.9173449,
                        "iteration": 156,
                        "remaining_time": 2324.610132,
                        "learn": [
                          0.9535252767
                        ]
                      },
                      {
                        "passed_time": 351.8002105,
                        "iteration": 157,
                        "remaining_time": 2320.100122,
                        "learn": [
                          0.9525849007
                        ]
                      },
                      {
                        "passed_time": 354.0428947,
                        "iteration": 158,
                        "remaining_time": 2317.978952,
                        "learn": [
                          0.952154346
                        ]
                      },
                      {
                        "passed_time": 356.4855471,
                        "iteration": 159,
                        "remaining_time": 2317.156056,
                        "learn": [
                          0.9514404404
                        ]
                      },
                      {
                        "passed_time": 358.6549657,
                        "iteration": 160,
                        "remaining_time": 2314.549747,
                        "learn": [
                          0.9509276649
                        ]
                      },
                      {
                        "passed_time": 360.6777012,
                        "iteration": 161,
                        "remaining_time": 2311.008974,
                        "learn": [
                          0.9503937854
                        ]
                      },
                      {
                        "passed_time": 363.302733,
                        "iteration": 162,
                        "remaining_time": 2311.318614,
                        "learn": [
                          0.9497580695
                        ]
                      },
                      {
                        "passed_time": 365.2468013,
                        "iteration": 163,
                        "remaining_time": 2307.290769,
                        "learn": [
                          0.9493929849
                        ]
                      },
                      {
                        "passed_time": 367.5915649,
                        "iteration": 164,
                        "remaining_time": 2305.801634,
                        "learn": [
                          0.9488757154
                        ]
                      },
                      {
                        "passed_time": 369.4991264,
                        "iteration": 165,
                        "remaining_time": 2301.578896,
                        "learn": [
                          0.9481540846
                        ]
                      },
                      {
                        "passed_time": 371.5735386,
                        "iteration": 166,
                        "remaining_time": 2298.415961,
                        "learn": [
                          0.9476297632
                        ]
                      },
                      {
                        "passed_time": 373.588957,
                        "iteration": 167,
                        "remaining_time": 2294.903593,
                        "learn": [
                          0.9471818972
                        ]
                      },
                      {
                        "passed_time": 375.7643105,
                        "iteration": 168,
                        "remaining_time": 2292.38464,
                        "learn": [
                          0.9463449769
                        ]
                      },
                      {
                        "passed_time": 377.9779098,
                        "iteration": 169,
                        "remaining_time": 2290.101454,
                        "learn": [
                          0.9454384507
                        ]
                      },
                      {
                        "passed_time": 380.3518206,
                        "iteration": 170,
                        "remaining_time": 2288.783763,
                        "learn": [
                          0.9447796971
                        ]
                      },
                      {
                        "passed_time": 382.4220247,
                        "iteration": 171,
                        "remaining_time": 2285.638613,
                        "learn": [
                          0.944393038
                        ]
                      },
                      {
                        "passed_time": 384.6710956,
                        "iteration": 172,
                        "remaining_time": 2283.567718,
                        "learn": [
                          0.9438091233
                        ]
                      },
                      {
                        "passed_time": 386.9252832,
                        "iteration": 173,
                        "remaining_time": 2281.524946,
                        "learn": [
                          0.9429042601
                        ]
                      },
                      {
                        "passed_time": 388.7389057,
                        "iteration": 174,
                        "remaining_time": 2276.899305,
                        "learn": [
                          0.9424998568
                        ]
                      },
                      {
                        "passed_time": 391.1114511,
                        "iteration": 175,
                        "remaining_time": 2275.557534,
                        "learn": [
                          0.9422744621
                        ]
                      },
                      {
                        "passed_time": 393.1810935,
                        "iteration": 176,
                        "remaining_time": 2272.453439,
                        "learn": [
                          0.941590176
                        ]
                      },
                      {
                        "passed_time": 395.530166,
                        "iteration": 177,
                        "remaining_time": 2270.965335,
                        "learn": [
                          0.9407366005
                        ]
                      },
                      {
                        "passed_time": 397.8313022,
                        "iteration": 178,
                        "remaining_time": 2269.194187,
                        "learn": [
                          0.940384798
                        ]
                      },
                      {
                        "passed_time": 399.8511246,
                        "iteration": 179,
                        "remaining_time": 2265.823039,
                        "learn": [
                          0.9400673699
                        ]
                      },
                      {
                        "passed_time": 402.1732611,
                        "iteration": 180,
                        "remaining_time": 2264.168802,
                        "learn": [
                          0.939631109
                        ]
                      },
                      {
                        "passed_time": 404.2911708,
                        "iteration": 181,
                        "remaining_time": 2261.3649,
                        "learn": [
                          0.9390725407
                        ]
                      },
                      {
                        "passed_time": 406.4142853,
                        "iteration": 182,
                        "remaining_time": 2258.597422,
                        "learn": [
                          0.9385423749
                        ]
                      },
                      {
                        "passed_time": 408.9298333,
                        "iteration": 183,
                        "remaining_time": 2258.003862,
                        "learn": [
                          0.9378523781
                        ]
                      },
                      {
                        "passed_time": 411.3146928,
                        "iteration": 184,
                        "remaining_time": 2256.672504,
                        "learn": [
                          0.9367403584
                        ]
                      },
                      {
                        "passed_time": 413.247814,
                        "iteration": 185,
                        "remaining_time": 2252.867115,
                        "learn": [
                          0.9362965373
                        ]
                      },
                      {
                        "passed_time": 415.7308038,
                        "iteration": 186,
                        "remaining_time": 2252.060451,
                        "learn": [
                          0.9355510443
                        ]
                      },
                      {
                        "passed_time": 417.6491087,
                        "iteration": 187,
                        "remaining_time": 2248.196266,
                        "learn": [
                          0.9348661314
                        ]
                      },
                      {
                        "passed_time": 419.7732743,
                        "iteration": 188,
                        "remaining_time": 2245.453864,
                        "learn": [
                          0.934576874
                        ]
                      },
                      {
                        "passed_time": 421.9298474,
                        "iteration": 189,
                        "remaining_time": 2242.890241,
                        "learn": [
                          0.9341025501
                        ]
                      },
                      {
                        "passed_time": 423.7890764,
                        "iteration": 190,
                        "remaining_time": 2238.760094,
                        "learn": [
                          0.9336693394
                        ]
                      },
                      {
                        "passed_time": 426.1021454,
                        "iteration": 191,
                        "remaining_time": 2237.036263,
                        "learn": [
                          0.9330270179
                        ]
                      },
                      {
                        "passed_time": 428.4872754,
                        "iteration": 192,
                        "remaining_time": 2235.682312,
                        "learn": [
                          0.9324794982
                        ]
                      },
                      {
                        "passed_time": 430.6038994,
                        "iteration": 193,
                        "remaining_time": 2232.925375,
                        "learn": [
                          0.9320027999
                        ]
                      },
                      {
                        "passed_time": 432.9542501,
                        "iteration": 194,
                        "remaining_time": 2231.379597,
                        "learn": [
                          0.93141729
                        ]
                      },
                      {
                        "passed_time": 435.207761,
                        "iteration": 195,
                        "remaining_time": 2229.329551,
                        "learn": [
                          0.9310356183
                        ]
                      },
                      {
                        "passed_time": 437.5496103,
                        "iteration": 196,
                        "remaining_time": 2227.727204,
                        "learn": [
                          0.9303730685
                        ]
                      },
                      {
                        "passed_time": 439.9789224,
                        "iteration": 197,
                        "remaining_time": 2226.560001,
                        "learn": [
                          0.9300105684
                        ]
                      },
                      {
                        "passed_time": 442.7146709,
                        "iteration": 198,
                        "remaining_time": 2226.921535,
                        "learn": [
                          0.9295094371
                        ]
                      },
                      {
                        "passed_time": 445.1451908,
                        "iteration": 199,
                        "remaining_time": 2225.725954,
                        "learn": [
                          0.9284672449
                        ]
                      },
                      {
                        "passed_time": 447.6726427,
                        "iteration": 200,
                        "remaining_time": 2224.999851,
                        "learn": [
                          0.9278870494
                        ]
                      },
                      {
                        "passed_time": 450.0437246,
                        "iteration": 201,
                        "remaining_time": 2223.483352,
                        "learn": [
                          0.9273804903
                        ]
                      },
                      {
                        "passed_time": 452.2797145,
                        "iteration": 202,
                        "remaining_time": 2221.294953,
                        "learn": [
                          0.9270084455
                        ]
                      },
                      {
                        "passed_time": 455.0235151,
                        "iteration": 203,
                        "remaining_time": 2221.585397,
                        "learn": [
                          0.926434879
                        ]
                      },
                      {
                        "passed_time": 457.4043257,
                        "iteration": 204,
                        "remaining_time": 2220.08441,
                        "learn": [
                          0.925823421
                        ]
                      },
                      {
                        "passed_time": 459.5166989,
                        "iteration": 205,
                        "remaining_time": 2217.279606,
                        "learn": [
                          0.9253509973
                        ]
                      },
                      {
                        "passed_time": 462.272971,
                        "iteration": 206,
                        "remaining_time": 2217.570339,
                        "learn": [
                          0.9247566881
                        ]
                      },
                      {
                        "passed_time": 464.576745,
                        "iteration": 207,
                        "remaining_time": 2215.673707,
                        "learn": [
                          0.9241129329
                        ]
                      },
                      {
                        "passed_time": 466.8859372,
                        "iteration": 208,
                        "remaining_time": 2213.79887,
                        "learn": [
                          0.9233974901
                        ]
                      },
                      {
                        "passed_time": 469.5440314,
                        "iteration": 209,
                        "remaining_time": 2213.56472,
                        "learn": [
                          0.9231384318
                        ]
                      },
                      {
                        "passed_time": 472.1678598,
                        "iteration": 210,
                        "remaining_time": 2213.146983,
                        "learn": [
                          0.9224434191
                        ]
                      },
                      {
                        "passed_time": 474.5897116,
                        "iteration": 211,
                        "remaining_time": 2211.767147,
                        "learn": [
                          0.9220390389
                        ]
                      },
                      {
                        "passed_time": 476.8928874,
                        "iteration": 212,
                        "remaining_time": 2209.827605,
                        "learn": [
                          0.9216882205
                        ]
                      },
                      {
                        "passed_time": 478.7556104,
                        "iteration": 213,
                        "remaining_time": 2205.855289,
                        "learn": [
                          0.9214079929
                        ]
                      },
                      {
                        "passed_time": 480.7209774,
                        "iteration": 214,
                        "remaining_time": 2202.37285,
                        "learn": [
                          0.9210206922
                        ]
                      },
                      {
                        "passed_time": 483.0587582,
                        "iteration": 215,
                        "remaining_time": 2200.60101,
                        "learn": [
                          0.9206638977
                        ]
                      },
                      {
                        "passed_time": 485.5905595,
                        "iteration": 216,
                        "remaining_time": 2199.702857,
                        "learn": [
                          0.9199886061
                        ]
                      },
                      {
                        "passed_time": 487.6223154,
                        "iteration": 217,
                        "remaining_time": 2196.537219,
                        "learn": [
                          0.919615295
                        ]
                      },
                      {
                        "passed_time": 490.3928088,
                        "iteration": 218,
                        "remaining_time": 2196.691075,
                        "learn": [
                          0.9191479615
                        ]
                      },
                      {
                        "passed_time": 492.397426,
                        "iteration": 219,
                        "remaining_time": 2193.406716,
                        "learn": [
                          0.918609146
                        ]
                      },
                      {
                        "passed_time": 494.731002,
                        "iteration": 220,
                        "remaining_time": 2191.591181,
                        "learn": [
                          0.9179466931
                        ]
                      },
                      {
                        "passed_time": 496.942882,
                        "iteration": 221,
                        "remaining_time": 2189.234859,
                        "learn": [
                          0.9174310733
                        ]
                      },
                      {
                        "passed_time": 499.1972096,
                        "iteration": 222,
                        "remaining_time": 2187.065802,
                        "learn": [
                          0.9168689818
                        ]
                      },
                      {
                        "passed_time": 501.3888578,
                        "iteration": 223,
                        "remaining_time": 2184.62288,
                        "learn": [
                          0.9162133456
                        ]
                      },
                      {
                        "passed_time": 503.681705,
                        "iteration": 224,
                        "remaining_time": 2182.620722,
                        "learn": [
                          0.9158399601
                        ]
                      },
                      {
                        "passed_time": 505.6246224,
                        "iteration": 225,
                        "remaining_time": 2179.107886,
                        "learn": [
                          0.9154401994
                        ]
                      },
                      {
                        "passed_time": 507.8338953,
                        "iteration": 226,
                        "remaining_time": 2176.750573,
                        "learn": [
                          0.914994616
                        ]
                      },
                      {
                        "passed_time": 510.5027961,
                        "iteration": 227,
                        "remaining_time": 2176.354026,
                        "learn": [
                          0.9146033756
                        ]
                      },
                      {
                        "passed_time": 512.9873224,
                        "iteration": 228,
                        "remaining_time": 2175.155852,
                        "learn": [
                          0.914106574
                        ]
                      },
                      {
                        "passed_time": 515.4616788,
                        "iteration": 229,
                        "remaining_time": 2173.903602,
                        "learn": [
                          0.9133699072
                        ]
                      },
                      {
                        "passed_time": 518.2875683,
                        "iteration": 230,
                        "remaining_time": 2174.115384,
                        "learn": [
                          0.9126722419
                        ]
                      },
                      {
                        "passed_time": 520.975997,
                        "iteration": 231,
                        "remaining_time": 2173.727436,
                        "learn": [
                          0.9118409272
                        ]
                      },
                      {
                        "passed_time": 523.5532306,
                        "iteration": 232,
                        "remaining_time": 2172.858258,
                        "learn": [
                          0.9111807147
                        ]
                      },
                      {
                        "passed_time": 526.1612019,
                        "iteration": 233,
                        "remaining_time": 2172.101372,
                        "learn": [
                          0.9104910192
                        ]
                      },
                      {
                        "passed_time": 528.3808054,
                        "iteration": 234,
                        "remaining_time": 2169.733946,
                        "learn": [
                          0.9099355265
                        ]
                      },
                      {
                        "passed_time": 530.5000618,
                        "iteration": 235,
                        "remaining_time": 2166.95788,
                        "learn": [
                          0.9095660529
                        ]
                      },
                      {
                        "passed_time": 533.0183879,
                        "iteration": 236,
                        "remaining_time": 2165.808893,
                        "learn": [
                          0.9092368607
                        ]
                      },
                      {
                        "passed_time": 535.3290191,
                        "iteration": 237,
                        "remaining_time": 2163.808892,
                        "learn": [
                          0.9089236528
                        ]
                      },
                      {
                        "passed_time": 538.081031,
                        "iteration": 238,
                        "remaining_time": 2163.581049,
                        "learn": [
                          0.908448372
                        ]
                      },
                      {
                        "passed_time": 540.4137553,
                        "iteration": 239,
                        "remaining_time": 2161.655021,
                        "learn": [
                          0.9080206369
                        ]
                      },
                      {
                        "passed_time": 542.6272664,
                        "iteration": 240,
                        "remaining_time": 2159.251238,
                        "learn": [
                          0.9073669037
                        ]
                      },
                      {
                        "passed_time": 544.8133265,
                        "iteration": 241,
                        "remaining_time": 2156.740359,
                        "learn": [
                          0.907008288
                        ]
                      },
                      {
                        "passed_time": 547.1676046,
                        "iteration": 242,
                        "remaining_time": 2154.89464,
                        "learn": [
                          0.9065669321
                        ]
                      },
                      {
                        "passed_time": 549.1208993,
                        "iteration": 243,
                        "remaining_time": 2151.473687,
                        "learn": [
                          0.9062828114
                        ]
                      },
                      {
                        "passed_time": 551.5715141,
                        "iteration": 244,
                        "remaining_time": 2150.003249,
                        "learn": [
                          0.9056524244
                        ]
                      },
                      {
                        "passed_time": 553.8686427,
                        "iteration": 245,
                        "remaining_time": 2147.929614,
                        "learn": [
                          0.9052048305
                        ]
                      },
                      {
                        "passed_time": 555.7739744,
                        "iteration": 246,
                        "remaining_time": 2144.342501,
                        "learn": [
                          0.9049459923
                        ]
                      },
                      {
                        "passed_time": 558.0891205,
                        "iteration": 247,
                        "remaining_time": 2142.342108,
                        "learn": [
                          0.9045763816
                        ]
                      },
                      {
                        "passed_time": 560.4930575,
                        "iteration": 248,
                        "remaining_time": 2140.678304,
                        "learn": [
                          0.9041911141
                        ]
                      },
                      {
                        "passed_time": 562.2629178,
                        "iteration": 249,
                        "remaining_time": 2136.599088,
                        "learn": [
                          0.9038086701
                        ]
                      },
                      {
                        "passed_time": 564.4070406,
                        "iteration": 250,
                        "remaining_time": 2133.953313,
                        "learn": [
                          0.9034682764
                        ]
                      },
                      {
                        "passed_time": 566.5056031,
                        "iteration": 251,
                        "remaining_time": 2131.140126,
                        "learn": [
                          0.9031577396
                        ]
                      },
                      {
                        "passed_time": 568.5952923,
                        "iteration": 252,
                        "remaining_time": 2128.299375,
                        "learn": [
                          0.9028499874
                        ]
                      },
                      {
                        "passed_time": 570.7765732,
                        "iteration": 253,
                        "remaining_time": 2125.805662,
                        "learn": [
                          0.9024678519
                        ]
                      },
                      {
                        "passed_time": 573.0055697,
                        "iteration": 254,
                        "remaining_time": 2123.491229,
                        "learn": [
                          0.9021407895
                        ]
                      },
                      {
                        "passed_time": 575.1204179,
                        "iteration": 255,
                        "remaining_time": 2120.756541,
                        "learn": [
                          0.9017613657
                        ]
                      },
                      {
                        "passed_time": 576.9699366,
                        "iteration": 256,
                        "remaining_time": 2117.053114,
                        "learn": [
                          0.9015174583
                        ]
                      },
                      {
                        "passed_time": 579.3057106,
                        "iteration": 257,
                        "remaining_time": 2115.139455,
                        "learn": [
                          0.9011475415
                        ]
                      },
                      {
                        "passed_time": 581.8499478,
                        "iteration": 258,
                        "remaining_time": 2113.979926,
                        "learn": [
                          0.9006959863
                        ]
                      },
                      {
                        "passed_time": 583.884687,
                        "iteration": 259,
                        "remaining_time": 2110.967715,
                        "learn": [
                          0.9001344879
                        ]
                      },
                      {
                        "passed_time": 586.1350623,
                        "iteration": 260,
                        "remaining_time": 2108.738787,
                        "learn": [
                          0.899648593
                        ]
                      },
                      {
                        "passed_time": 588.2801924,
                        "iteration": 261,
                        "remaining_time": 2106.132903,
                        "learn": [
                          0.8993290129
                        ]
                      },
                      {
                        "passed_time": 590.4216739,
                        "iteration": 262,
                        "remaining_time": 2103.517523,
                        "learn": [
                          0.8989408594
                        ]
                      },
                      {
                        "passed_time": 592.9690681,
                        "iteration": 263,
                        "remaining_time": 2102.344878,
                        "learn": [
                          0.8986593172
                        ]
                      },
                      {
                        "passed_time": 595.5989395,
                        "iteration": 264,
                        "remaining_time": 2101.452862,
                        "learn": [
                          0.8981522359
                        ]
                      },
                      {
                        "passed_time": 597.6777456,
                        "iteration": 265,
                        "remaining_time": 2098.612836,
                        "learn": [
                          0.8975587725
                        ]
                      },
                      {
                        "passed_time": 600.2557096,
                        "iteration": 266,
                        "remaining_time": 2097.52276,
                        "learn": [
                          0.8971109225
                        ]
                      },
                      {
                        "passed_time": 602.4270845,
                        "iteration": 267,
                        "remaining_time": 2095.007622,
                        "learn": [
                          0.8967889758
                        ]
                      },
                      {
                        "passed_time": 604.3683235,
                        "iteration": 268,
                        "remaining_time": 2091.698547,
                        "learn": [
                          0.8963863084
                        ]
                      },
                      {
                        "passed_time": 606.5390479,
                        "iteration": 269,
                        "remaining_time": 2089.190054,
                        "learn": [
                          0.8959614242
                        ]
                      },
                      {
                        "passed_time": 608.6979427,
                        "iteration": 270,
                        "remaining_time": 2086.643501,
                        "learn": [
                          0.8954571493
                        ]
                      },
                      {
                        "passed_time": 610.9231471,
                        "iteration": 271,
                        "remaining_time": 2084.326031,
                        "learn": [
                          0.8951011726
                        ]
                      },
                      {
                        "passed_time": 612.9799844,
                        "iteration": 272,
                        "remaining_time": 2081.43753,
                        "learn": [
                          0.8944903809
                        ]
                      },
                      {
                        "passed_time": 615.1358304,
                        "iteration": 273,
                        "remaining_time": 2078.889704,
                        "learn": [
                          0.8941785806
                        ]
                      },
                      {
                        "passed_time": 617.0482268,
                        "iteration": 274,
                        "remaining_time": 2075.525854,
                        "learn": [
                          0.89394459
                        ]
                      },
                      {
                        "passed_time": 618.9592151,
                        "iteration": 275,
                        "remaining_time": 2072.167807,
                        "learn": [
                          0.8936027211
                        ]
                      },
                      {
                        "passed_time": 620.9506625,
                        "iteration": 276,
                        "remaining_time": 2069.088309,
                        "learn": [
                          0.8932954064
                        ]
                      },
                      {
                        "passed_time": 623.5579979,
                        "iteration": 277,
                        "remaining_time": 2068.059259,
                        "learn": [
                          0.8928178238
                        ]
                      },
                      {
                        "passed_time": 625.3672345,
                        "iteration": 278,
                        "remaining_time": 2064.384312,
                        "learn": [
                          0.8926289759
                        ]
                      },
                      {
                        "passed_time": 627.634566,
                        "iteration": 279,
                        "remaining_time": 2062.22786,
                        "learn": [
                          0.892344827
                        ]
                      },
                      {
                        "passed_time": 629.8984919,
                        "iteration": 280,
                        "remaining_time": 2060.059481,
                        "learn": [
                          0.8921123707
                        ]
                      },
                      {
                        "passed_time": 632.2375827,
                        "iteration": 281,
                        "remaining_time": 2058.13511,
                        "learn": [
                          0.8918377165
                        ]
                      },
                      {
                        "passed_time": 634.4431344,
                        "iteration": 282,
                        "remaining_time": 2055.775103,
                        "learn": [
                          0.8913222106
                        ]
                      },
                      {
                        "passed_time": 636.4950164,
                        "iteration": 283,
                        "remaining_time": 2052.920546,
                        "learn": [
                          0.8909805899
                        ]
                      },
                      {
                        "passed_time": 638.8861885,
                        "iteration": 284,
                        "remaining_time": 2051.160921,
                        "learn": [
                          0.8905071836
                        ]
                      },
                      {
                        "passed_time": 640.9731962,
                        "iteration": 285,
                        "remaining_time": 2048.42483,
                        "learn": [
                          0.8902190492
                        ]
                      },
                      {
                        "passed_time": 643.1552388,
                        "iteration": 286,
                        "remaining_time": 2045.995585,
                        "learn": [
                          0.8898929574
                        ]
                      },
                      {
                        "passed_time": 645.4868894,
                        "iteration": 287,
                        "remaining_time": 2044.041817,
                        "learn": [
                          0.889389495
                        ]
                      },
                      {
                        "passed_time": 647.5322083,
                        "iteration": 288,
                        "remaining_time": 2041.182843,
                        "learn": [
                          0.8892224305
                        ]
                      },
                      {
                        "passed_time": 649.7409815,
                        "iteration": 289,
                        "remaining_time": 2038.84239,
                        "learn": [
                          0.8888693766
                        ]
                      },
                      {
                        "passed_time": 651.6870173,
                        "iteration": 290,
                        "remaining_time": 2035.682126,
                        "learn": [
                          0.888570893
                        ]
                      },
                      {
                        "passed_time": 654.3724669,
                        "iteration": 291,
                        "remaining_time": 2034.829452,
                        "learn": [
                          0.8880793971
                        ]
                      },
                      {
                        "passed_time": 656.4200215,
                        "iteration": 292,
                        "remaining_time": 2031.989623,
                        "learn": [
                          0.8878783611
                        ]
                      },
                      {
                        "passed_time": 658.5585879,
                        "iteration": 293,
                        "remaining_time": 2029.435648,
                        "learn": [
                          0.8875205632
                        ]
                      },
                      {
                        "passed_time": 660.7204676,
                        "iteration": 294,
                        "remaining_time": 2026.956011,
                        "learn": [
                          0.8871236485
                        ]
                      },
                      {
                        "passed_time": 663.1391383,
                        "iteration": 295,
                        "remaining_time": 2025.262774,
                        "learn": [
                          0.8866904618
                        ]
                      },
                      {
                        "passed_time": 665.4462466,
                        "iteration": 296,
                        "remaining_time": 2023.225457,
                        "learn": [
                          0.8862441653
                        ]
                      },
                      {
                        "passed_time": 667.7975067,
                        "iteration": 297,
                        "remaining_time": 2021.31997,
                        "learn": [
                          0.8859546692
                        ]
                      },
                      {
                        "passed_time": 670.39084,
                        "iteration": 298,
                        "remaining_time": 2020.140959,
                        "learn": [
                          0.885576842
                        ]
                      },
                      {
                        "passed_time": 672.7049029,
                        "iteration": 299,
                        "remaining_time": 2018.114709,
                        "learn": [
                          0.8853123431
                        ]
                      },
                      {
                        "passed_time": 675.1774993,
                        "iteration": 300,
                        "remaining_time": 2016.560039,
                        "learn": [
                          0.8850545278
                        ]
                      },
                      {
                        "passed_time": 677.0452014,
                        "iteration": 301,
                        "remaining_time": 2013.200632,
                        "learn": [
                          0.8846260601
                        ]
                      },
                      {
                        "passed_time": 679.0598595,
                        "iteration": 302,
                        "remaining_time": 2010.286119,
                        "learn": [
                          0.8842226903
                        ]
                      },
                      {
                        "passed_time": 681.2263532,
                        "iteration": 303,
                        "remaining_time": 2007.825041,
                        "learn": [
                          0.8837751065
                        ]
                      },
                      {
                        "passed_time": 683.766783,
                        "iteration": 304,
                        "remaining_time": 2006.463183,
                        "learn": [
                          0.8835794087
                        ]
                      },
                      {
                        "passed_time": 685.7224592,
                        "iteration": 305,
                        "remaining_time": 2003.385224,
                        "learn": [
                          0.8831281009
                        ]
                      },
                      {
                        "passed_time": 687.7927669,
                        "iteration": 306,
                        "remaining_time": 2000.648016,
                        "learn": [
                          0.8828744997
                        ]
                      },
                      {
                        "passed_time": 690.1268279,
                        "iteration": 307,
                        "remaining_time": 1998.678995,
                        "learn": [
                          0.8826622503
                        ]
                      },
                      {
                        "passed_time": 692.4652176,
                        "iteration": 308,
                        "remaining_time": 1996.720093,
                        "learn": [
                          0.8823640331
                        ]
                      },
                      {
                        "passed_time": 694.9870911,
                        "iteration": 309,
                        "remaining_time": 1995.285519,
                        "learn": [
                          0.8819180434
                        ]
                      },
                      {
                        "passed_time": 697.0526976,
                        "iteration": 310,
                        "remaining_time": 1992.539705,
                        "learn": [
                          0.881651253
                        ]
                      },
                      {
                        "passed_time": 698.9441369,
                        "iteration": 311,
                        "remaining_time": 1989.302543,
                        "learn": [
                          0.8811727047
                        ]
                      },
                      {
                        "passed_time": 701.3031621,
                        "iteration": 312,
                        "remaining_time": 1987.399057,
                        "learn": [
                          0.8808580115
                        ]
                      },
                      {
                        "passed_time": 703.7035518,
                        "iteration": 313,
                        "remaining_time": 1985.609385,
                        "learn": [
                          0.8805363105
                        ]
                      },
                      {
                        "passed_time": 705.9427528,
                        "iteration": 314,
                        "remaining_time": 1983.362972,
                        "learn": [
                          0.8801590165
                        ]
                      },
                      {
                        "passed_time": 708.3175601,
                        "iteration": 315,
                        "remaining_time": 1981.495959,
                        "learn": [
                          0.8796698857
                        ]
                      },
                      {
                        "passed_time": 710.4258126,
                        "iteration": 316,
                        "remaining_time": 1978.883257,
                        "learn": [
                          0.8793978871
                        ]
                      },
                      {
                        "passed_time": 712.7480755,
                        "iteration": 317,
                        "remaining_time": 1976.867304,
                        "learn": [
                          0.8791515364
                        ]
                      },
                      {
                        "passed_time": 715.0062733,
                        "iteration": 318,
                        "remaining_time": 1974.672498,
                        "learn": [
                          0.8788254016
                        ]
                      },
                      {
                        "passed_time": 716.9627857,
                        "iteration": 319,
                        "remaining_time": 1971.647661,
                        "learn": [
                          0.87849844
                        ]
                      },
                      {
                        "passed_time": 719.3179734,
                        "iteration": 320,
                        "remaining_time": 1969.72118,
                        "learn": [
                          0.8782632188
                        ]
                      },
                      {
                        "passed_time": 721.2761764,
                        "iteration": 321,
                        "remaining_time": 1966.709574,
                        "learn": [
                          0.8779183242
                        ]
                      },
                      {
                        "passed_time": 723.6881399,
                        "iteration": 322,
                        "remaining_time": 1964.936528,
                        "learn": [
                          0.8775780458
                        ]
                      },
                      {
                        "passed_time": 726.0842531,
                        "iteration": 323,
                        "remaining_time": 1963.116684,
                        "learn": [
                          0.8772787689
                        ]
                      },
                      {
                        "passed_time": 728.4875504,
                        "iteration": 324,
                        "remaining_time": 1961.312636,
                        "learn": [
                          0.8769961764
                        ]
                      },
                      {
                        "passed_time": 730.8727028,
                        "iteration": 325,
                        "remaining_time": 1959.456265,
                        "learn": [
                          0.8766461853
                        ]
                      },
                      {
                        "passed_time": 733.3228048,
                        "iteration": 326,
                        "remaining_time": 1957.770057,
                        "learn": [
                          0.876138976
                        ]
                      },
                      {
                        "passed_time": 735.7345137,
                        "iteration": 327,
                        "remaining_time": 1955.977122,
                        "learn": [
                          0.8755957379
                        ]
                      },
                      {
                        "passed_time": 738.2888273,
                        "iteration": 328,
                        "remaining_time": 1954.557959,
                        "learn": [
                          0.874920312
                        ]
                      },
                      {
                        "passed_time": 740.7631317,
                        "iteration": 329,
                        "remaining_time": 1952.920984,
                        "learn": [
                          0.8744314898
                        ]
                      },
                      {
                        "passed_time": 742.6844105,
                        "iteration": 330,
                        "remaining_time": 1949.827047,
                        "learn": [
                          0.8740976453
                        ]
                      },
                      {
                        "passed_time": 745.3063784,
                        "iteration": 331,
                        "remaining_time": 1948.572098,
                        "learn": [
                          0.8736942878
                        ]
                      },
                      {
                        "passed_time": 747.8592756,
                        "iteration": 332,
                        "remaining_time": 1947.129105,
                        "learn": [
                          0.8733311799
                        ]
                      },
                      {
                        "passed_time": 750.9861722,
                        "iteration": 333,
                        "remaining_time": 1947.16774,
                        "learn": [
                          0.8729492565
                        ]
                      },
                      {
                        "passed_time": 752.9492414,
                        "iteration": 334,
                        "remaining_time": 1944.18237,
                        "learn": [
                          0.8727300707
                        ]
                      },
                      {
                        "passed_time": 755.0974993,
                        "iteration": 335,
                        "remaining_time": 1941.679284,
                        "learn": [
                          0.8724803184
                        ]
                      },
                      {
                        "passed_time": 757.3964767,
                        "iteration": 336,
                        "remaining_time": 1939.564271,
                        "learn": [
                          0.8721771994
                        ]
                      },
                      {
                        "passed_time": 759.3419414,
                        "iteration": 337,
                        "remaining_time": 1936.546608,
                        "learn": [
                          0.871981509
                        ]
                      },
                      {
                        "passed_time": 761.5010761,
                        "iteration": 338,
                        "remaining_time": 1934.077954,
                        "learn": [
                          0.8718415227
                        ]
                      },
                      {
                        "passed_time": 764.1305658,
                        "iteration": 339,
                        "remaining_time": 1932.800843,
                        "learn": [
                          0.8713454685
                        ]
                      },
                      {
                        "passed_time": 766.4104971,
                        "iteration": 340,
                        "remaining_time": 1930.63524,
                        "learn": [
                          0.8710031167
                        ]
                      },
                      {
                        "passed_time": 769.1816066,
                        "iteration": 341,
                        "remaining_time": 1929.701224,
                        "learn": [
                          0.8706646367
                        ]
                      },
                      {
                        "passed_time": 771.7042065,
                        "iteration": 342,
                        "remaining_time": 1928.135583,
                        "learn": [
                          0.8703848007
                        ]
                      },
                      {
                        "passed_time": 774.1448709,
                        "iteration": 343,
                        "remaining_time": 1926.360493,
                        "learn": [
                          0.8700370189
                        ]
                      },
                      {
                        "passed_time": 776.8267491,
                        "iteration": 344,
                        "remaining_time": 1925.179335,
                        "learn": [
                          0.8696848956
                        ]
                      },
                      {
                        "passed_time": 779.2617489,
                        "iteration": 345,
                        "remaining_time": 1923.380155,
                        "learn": [
                          0.8693482796
                        ]
                      },
                      {
                        "passed_time": 781.4606477,
                        "iteration": 346,
                        "remaining_time": 1920.996924,
                        "learn": [
                          0.8689998246
                        ]
                      },
                      {
                        "passed_time": 783.385143,
                        "iteration": 347,
                        "remaining_time": 1917.942936,
                        "learn": [
                          0.8687795492
                        ]
                      },
                      {
                        "passed_time": 785.8523575,
                        "iteration": 348,
                        "remaining_time": 1916.218786,
                        "learn": [
                          0.8685920382
                        ]
                      },
                      {
                        "passed_time": 787.9971912,
                        "iteration": 349,
                        "remaining_time": 1913.707464,
                        "learn": [
                          0.868219683
                        ]
                      },
                      {
                        "passed_time": 790.5897472,
                        "iteration": 350,
                        "remaining_time": 1912.281183,
                        "learn": [
                          0.8679202457
                        ]
                      },
                      {
                        "passed_time": 792.9041932,
                        "iteration": 351,
                        "remaining_time": 1910.178284,
                        "learn": [
                          0.8676014179
                        ]
                      },
                      {
                        "passed_time": 795.124186,
                        "iteration": 352,
                        "remaining_time": 1907.847551,
                        "learn": [
                          0.8672532652
                        ]
                      },
                      {
                        "passed_time": 797.0383428,
                        "iteration": 353,
                        "remaining_time": 1904.786548,
                        "learn": [
                          0.8668116513
                        ]
                      },
                      {
                        "passed_time": 799.4791737,
                        "iteration": 354,
                        "remaining_time": 1902.985639,
                        "learn": [
                          0.8666104426
                        ]
                      },
                      {
                        "passed_time": 802.1810943,
                        "iteration": 355,
                        "remaining_time": 1901.800122,
                        "learn": [
                          0.8658761832
                        ]
                      },
                      {
                        "passed_time": 804.3533224,
                        "iteration": 356,
                        "remaining_time": 1899.355324,
                        "learn": [
                          0.8656729146
                        ]
                      },
                      {
                        "passed_time": 806.7683111,
                        "iteration": 357,
                        "remaining_time": 1897.483011,
                        "learn": [
                          0.8654437546
                        ]
                      },
                      {
                        "passed_time": 809.1616351,
                        "iteration": 358,
                        "remaining_time": 1895.556922,
                        "learn": [
                          0.8652694245
                        ]
                      },
                      {
                        "passed_time": 811.2252535,
                        "iteration": 359,
                        "remaining_time": 1892.858925,
                        "learn": [
                          0.8650743743
                        ]
                      },
                      {
                        "passed_time": 813.226512,
                        "iteration": 360,
                        "remaining_time": 1890.019511,
                        "learn": [
                          0.8647432606
                        ]
                      },
                      {
                        "passed_time": 815.5416311,
                        "iteration": 361,
                        "remaining_time": 1887.91129,
                        "learn": [
                          0.8644443522
                        ]
                      },
                      {
                        "passed_time": 818.0143825,
                        "iteration": 362,
                        "remaining_time": 1886.165394,
                        "learn": [
                          0.8641883584
                        ]
                      },
                      {
                        "passed_time": 820.3430417,
                        "iteration": 363,
                        "remaining_time": 1884.084568,
                        "learn": [
                          0.8639907266
                        ]
                      },
                      {
                        "passed_time": 822.3860246,
                        "iteration": 364,
                        "remaining_time": 1881.348851,
                        "learn": [
                          0.8635586832
                        ]
                      },
                      {
                        "passed_time": 824.1961962,
                        "iteration": 365,
                        "remaining_time": 1878.086414,
                        "learn": [
                          0.8633594794
                        ]
                      },
                      {
                        "passed_time": 826.3123394,
                        "iteration": 366,
                        "remaining_time": 1875.526373,
                        "learn": [
                          0.8631246366
                        ]
                      },
                      {
                        "passed_time": 828.6984336,
                        "iteration": 367,
                        "remaining_time": 1873.579067,
                        "learn": [
                          0.8629084246
                        ]
                      },
                      {
                        "passed_time": 830.7517872,
                        "iteration": 368,
                        "remaining_time": 1870.880041,
                        "learn": [
                          0.8627640839
                        ]
                      },
                      {
                        "passed_time": 833.0602184,
                        "iteration": 369,
                        "remaining_time": 1868.756706,
                        "learn": [
                          0.862550917
                        ]
                      },
                      {
                        "passed_time": 835.297897,
                        "iteration": 370,
                        "remaining_time": 1866.474277,
                        "learn": [
                          0.8623069064
                        ]
                      },
                      {
                        "passed_time": 838.0986133,
                        "iteration": 371,
                        "remaining_time": 1865.4453,
                        "learn": [
                          0.8619848433
                        ]
                      },
                      {
                        "passed_time": 840.3644208,
                        "iteration": 372,
                        "remaining_time": 1863.220847,
                        "learn": [
                          0.8616547933
                        ]
                      },
                      {
                        "passed_time": 842.1691877,
                        "iteration": 373,
                        "remaining_time": 1859.977939,
                        "learn": [
                          0.8615157437
                        ]
                      },
                      {
                        "passed_time": 844.7121669,
                        "iteration": 374,
                        "remaining_time": 1858.366767,
                        "learn": [
                          0.8612240278
                        ]
                      },
                      {
                        "passed_time": 846.6814998,
                        "iteration": 375,
                        "remaining_time": 1855.493499,
                        "learn": [
                          0.8607856825
                        ]
                      },
                      {
                        "passed_time": 848.9487823,
                        "iteration": 376,
                        "remaining_time": 1853.275458,
                        "learn": [
                          0.8605559136
                        ]
                      },
                      {
                        "passed_time": 850.9992499,
                        "iteration": 377,
                        "remaining_time": 1850.58567,
                        "learn": [
                          0.8602541727
                        ]
                      },
                      {
                        "passed_time": 853.2283647,
                        "iteration": 378,
                        "remaining_time": 1848.286247,
                        "learn": [
                          0.8599594955
                        ]
                      },
                      {
                        "passed_time": 855.6262424,
                        "iteration": 379,
                        "remaining_time": 1846.351365,
                        "learn": [
                          0.8597512224
                        ]
                      },
                      {
                        "passed_time": 857.8079888,
                        "iteration": 380,
                        "remaining_time": 1843.949456,
                        "learn": [
                          0.8595596617
                        ]
                      },
                      {
                        "passed_time": 859.8538552,
                        "iteration": 381,
                        "remaining_time": 1841.257732,
                        "learn": [
                          0.8592883376
                        ]
                      },
                      {
                        "passed_time": 861.7061316,
                        "iteration": 382,
                        "remaining_time": 1838.156422,
                        "learn": [
                          0.8590071433
                        ]
                      },
                      {
                        "passed_time": 864.0687952,
                        "iteration": 383,
                        "remaining_time": 1836.14619,
                        "learn": [
                          0.858703719
                        ]
                      },
                      {
                        "passed_time": 866.4310984,
                        "iteration": 384,
                        "remaining_time": 1834.133364,
                        "learn": [
                          0.8584942132
                        ]
                      },
                      {
                        "passed_time": 868.9647793,
                        "iteration": 385,
                        "remaining_time": 1832.48013,
                        "learn": [
                          0.8581914797
                        ]
                      },
                      {
                        "passed_time": 870.9616971,
                        "iteration": 386,
                        "remaining_time": 1829.694728,
                        "learn": [
                          0.8577959254
                        ]
                      },
                      {
                        "passed_time": 872.8793686,
                        "iteration": 387,
                        "remaining_time": 1826.747545,
                        "learn": [
                          0.8576217331
                        ]
                      },
                      {
                        "passed_time": 875.2644526,
                        "iteration": 388,
                        "remaining_time": 1824.780131,
                        "learn": [
                          0.8572134509
                        ]
                      },
                      {
                        "passed_time": 877.8133077,
                        "iteration": 389,
                        "remaining_time": 1823.150716,
                        "learn": [
                          0.8569702456
                        ]
                      },
                      {
                        "passed_time": 880.1652277,
                        "iteration": 390,
                        "remaining_time": 1821.109128,
                        "learn": [
                          0.8567097862
                        ]
                      },
                      {
                        "passed_time": 882.619183,
                        "iteration": 391,
                        "remaining_time": 1819.276275,
                        "learn": [
                          0.8564646228
                        ]
                      },
                      {
                        "passed_time": 885.0091447,
                        "iteration": 392,
                        "remaining_time": 1817.308854,
                        "learn": [
                          0.8562839784
                        ]
                      },
                      {
                        "passed_time": 886.7463932,
                        "iteration": 393,
                        "remaining_time": 1814.004043,
                        "learn": [
                          0.8561682707
                        ]
                      },
                      {
                        "passed_time": 889.0539348,
                        "iteration": 394,
                        "remaining_time": 1811.869411,
                        "learn": [
                          0.8559429988
                        ]
                      },
                      {
                        "passed_time": 891.2857352,
                        "iteration": 395,
                        "remaining_time": 1809.580129,
                        "learn": [
                          0.855672575
                        ]
                      },
                      {
                        "passed_time": 893.2207808,
                        "iteration": 396,
                        "remaining_time": 1806.690899,
                        "learn": [
                          0.8554390964
                        ]
                      },
                      {
                        "passed_time": 895.4070468,
                        "iteration": 397,
                        "remaining_time": 1804.312692,
                        "learn": [
                          0.8551231638
                        ]
                      },
                      {
                        "passed_time": 897.8215887,
                        "iteration": 398,
                        "remaining_time": 1802.393716,
                        "learn": [
                          0.8548660855
                        ]
                      },
                      {
                        "passed_time": 900.5109859,
                        "iteration": 399,
                        "remaining_time": 1801.021972,
                        "learn": [
                          0.8546134626
                        ]
                      },
                      {
                        "passed_time": 902.8076359,
                        "iteration": 400,
                        "remaining_time": 1798.8611,
                        "learn": [
                          0.8543944321
                        ]
                      },
                      {
                        "passed_time": 904.9708868,
                        "iteration": 401,
                        "remaining_time": 1796.434745,
                        "learn": [
                          0.8542099164
                        ]
                      },
                      {
                        "passed_time": 907.4497912,
                        "iteration": 402,
                        "remaining_time": 1794.633954,
                        "learn": [
                          0.8540104775
                        ]
                      },
                      {
                        "passed_time": 909.4087855,
                        "iteration": 403,
                        "remaining_time": 1791.805429,
                        "learn": [
                          0.8537640157
                        ]
                      },
                      {
                        "passed_time": 911.5076792,
                        "iteration": 404,
                        "remaining_time": 1789.255815,
                        "learn": [
                          0.8536661086
                        ]
                      },
                      {
                        "passed_time": 914.1003557,
                        "iteration": 405,
                        "remaining_time": 1787.674095,
                        "learn": [
                          0.8533484205
                        ]
                      },
                      {
                        "passed_time": 916.3130896,
                        "iteration": 406,
                        "remaining_time": 1785.347125,
                        "learn": [
                          0.8531913585
                        ]
                      },
                      {
                        "passed_time": 918.5884759,
                        "iteration": 407,
                        "remaining_time": 1783.142336,
                        "learn": [
                          0.8529513204
                        ]
                      },
                      {
                        "passed_time": 920.8980073,
                        "iteration": 408,
                        "remaining_time": 1781.003237,
                        "learn": [
                          0.8526941611
                        ]
                      },
                      {
                        "passed_time": 923.1760377,
                        "iteration": 409,
                        "remaining_time": 1778.802609,
                        "learn": [
                          0.8523085069
                        ]
                      },
                      {
                        "passed_time": 925.4205326,
                        "iteration": 410,
                        "remaining_time": 1776.537227,
                        "learn": [
                          0.8519787235
                        ]
                      },
                      {
                        "passed_time": 927.7831275,
                        "iteration": 411,
                        "remaining_time": 1774.497826,
                        "learn": [
                          0.8518811712
                        ]
                      },
                      {
                        "passed_time": 929.9661433,
                        "iteration": 412,
                        "remaining_time": 1772.114661,
                        "learn": [
                          0.8516504154
                        ]
                      },
                      {
                        "passed_time": 932.4644793,
                        "iteration": 413,
                        "remaining_time": 1770.331113,
                        "learn": [
                          0.8512846787
                        ]
                      },
                      {
                        "passed_time": 934.53612,
                        "iteration": 414,
                        "remaining_time": 1767.736998,
                        "learn": [
                          0.8511153492
                        ]
                      },
                      {
                        "passed_time": 937.1374557,
                        "iteration": 415,
                        "remaining_time": 1766.143666,
                        "learn": [
                          0.8509056472
                        ]
                      },
                      {
                        "passed_time": 939.2653393,
                        "iteration": 416,
                        "remaining_time": 1763.6565,
                        "learn": [
                          0.8505799943
                        ]
                      },
                      {
                        "passed_time": 941.0932882,
                        "iteration": 417,
                        "remaining_time": 1760.609931,
                        "learn": [
                          0.8502869891
                        ]
                      },
                      {
                        "passed_time": 943.3329976,
                        "iteration": 418,
                        "remaining_time": 1758.336685,
                        "learn": [
                          0.8501427622
                        ]
                      },
                      {
                        "passed_time": 945.6204547,
                        "iteration": 419,
                        "remaining_time": 1756.152273,
                        "learn": [
                          0.8498632639
                        ]
                      },
                      {
                        "passed_time": 947.8229903,
                        "iteration": 420,
                        "remaining_time": 1753.810236,
                        "learn": [
                          0.849525052
                        ]
                      },
                      {
                        "passed_time": 950.2403404,
                        "iteration": 421,
                        "remaining_time": 1751.864893,
                        "learn": [
                          0.8491821671
                        ]
                      },
                      {
                        "passed_time": 952.7533513,
                        "iteration": 422,
                        "remaining_time": 1750.093035,
                        "learn": [
                          0.8489636874
                        ]
                      },
                      {
                        "passed_time": 955.1981041,
                        "iteration": 423,
                        "remaining_time": 1748.192757,
                        "learn": [
                          0.8487082861
                        ]
                      },
                      {
                        "passed_time": 957.2961257,
                        "iteration": 424,
                        "remaining_time": 1745.657641,
                        "learn": [
                          0.8484554093
                        ]
                      },
                      {
                        "passed_time": 959.9489061,
                        "iteration": 425,
                        "remaining_time": 1744.13252,
                        "learn": [
                          0.8481642436
                        ]
                      },
                      {
                        "passed_time": 962.1880564,
                        "iteration": 426,
                        "remaining_time": 1741.85332,
                        "learn": [
                          0.8479013338
                        ]
                      },
                      {
                        "passed_time": 964.7322209,
                        "iteration": 427,
                        "remaining_time": 1740.124473,
                        "learn": [
                          0.8477091467
                        ]
                      },
                      {
                        "passed_time": 967.4568306,
                        "iteration": 428,
                        "remaining_time": 1738.716122,
                        "learn": [
                          0.847268793
                        ]
                      },
                      {
                        "passed_time": 969.7467579,
                        "iteration": 429,
                        "remaining_time": 1736.523264,
                        "learn": [
                          0.8469830713
                        ]
                      },
                      {
                        "passed_time": 971.9892229,
                        "iteration": 430,
                        "remaining_time": 1734.245272,
                        "learn": [
                          0.8466160354
                        ]
                      },
                      {
                        "passed_time": 974.2623476,
                        "iteration": 431,
                        "remaining_time": 1732.021951,
                        "learn": [
                          0.8463106193
                        ]
                      },
                      {
                        "passed_time": 976.6336759,
                        "iteration": 432,
                        "remaining_time": 1729.972354,
                        "learn": [
                          0.8459619383
                        ]
                      },
                      {
                        "passed_time": 979.0700574,
                        "iteration": 433,
                        "remaining_time": 1728.036092,
                        "learn": [
                          0.8457338407
                        ]
                      },
                      {
                        "passed_time": 981.2416955,
                        "iteration": 434,
                        "remaining_time": 1725.631947,
                        "learn": [
                          0.8455561274
                        ]
                      },
                      {
                        "passed_time": 983.2978496,
                        "iteration": 435,
                        "remaining_time": 1723.026507,
                        "learn": [
                          0.8451211008
                        ]
                      },
                      {
                        "passed_time": 985.6415102,
                        "iteration": 436,
                        "remaining_time": 1720.925566,
                        "learn": [
                          0.8448565853
                        ]
                      },
                      {
                        "passed_time": 988.0953466,
                        "iteration": 437,
                        "remaining_time": 1719.015192,
                        "learn": [
                          0.8446197076
                        ]
                      },
                      {
                        "passed_time": 990.4722529,
                        "iteration": 438,
                        "remaining_time": 1716.968985,
                        "learn": [
                          0.844444365
                        ]
                      },
                      {
                        "passed_time": 992.485688,
                        "iteration": 439,
                        "remaining_time": 1714.293461,
                        "learn": [
                          0.8442693663
                        ]
                      },
                      {
                        "passed_time": 994.7569652,
                        "iteration": 440,
                        "remaining_time": 1712.064709,
                        "learn": [
                          0.8440513589
                        ]
                      },
                      {
                        "passed_time": 996.6077198,
                        "iteration": 441,
                        "remaining_time": 1709.114596,
                        "learn": [
                          0.8439369167
                        ]
                      },
                      {
                        "passed_time": 999.2266129,
                        "iteration": 442,
                        "remaining_time": 1707.482045,
                        "learn": [
                          0.8436577089
                        ]
                      },
                      {
                        "passed_time": 1001.561524,
                        "iteration": 443,
                        "remaining_time": 1705.361513,
                        "learn": [
                          0.8435113804
                        ]
                      },
                      {
                        "passed_time": 1004.252661,
                        "iteration": 444,
                        "remaining_time": 1703.844403,
                        "learn": [
                          0.8432115246
                        ]
                      },
                      {
                        "passed_time": 1006.745841,
                        "iteration": 445,
                        "remaining_time": 1701.987364,
                        "learn": [
                          0.8429994575
                        ]
                      },
                      {
                        "passed_time": 1008.634562,
                        "iteration": 446,
                        "remaining_time": 1699.109228,
                        "learn": [
                          0.8426747064
                        ]
                      },
                      {
                        "passed_time": 1010.934473,
                        "iteration": 447,
                        "remaining_time": 1696.925722,
                        "learn": [
                          0.8425085395
                        ]
                      },
                      {
                        "passed_time": 1013.010393,
                        "iteration": 448,
                        "remaining_time": 1694.367049,
                        "learn": [
                          0.8423498903
                        ]
                      },
                      {
                        "passed_time": 1015.283143,
                        "iteration": 449,
                        "remaining_time": 1692.138572,
                        "learn": [
                          0.8420578881
                        ]
                      },
                      {
                        "passed_time": 1017.759484,
                        "iteration": 450,
                        "remaining_time": 1690.248012,
                        "learn": [
                          0.8418901921
                        ]
                      },
                      {
                        "passed_time": 1019.970983,
                        "iteration": 451,
                        "remaining_time": 1687.916583,
                        "learn": [
                          0.8417498948
                        ]
                      },
                      {
                        "passed_time": 1021.980019,
                        "iteration": 452,
                        "remaining_time": 1685.25182,
                        "learn": [
                          0.8415911862
                        ]
                      },
                      {
                        "passed_time": 1024.364881,
                        "iteration": 453,
                        "remaining_time": 1683.207491,
                        "learn": [
                          0.8414056077
                        ]
                      },
                      {
                        "passed_time": 1026.891394,
                        "iteration": 454,
                        "remaining_time": 1681.393602,
                        "learn": [
                          0.8412721592
                        ]
                      },
                      {
                        "passed_time": 1029.351138,
                        "iteration": 455,
                        "remaining_time": 1679.467647,
                        "learn": [
                          0.8409719468
                        ]
                      },
                      {
                        "passed_time": 1031.320723,
                        "iteration": 456,
                        "remaining_time": 1676.742444,
                        "learn": [
                          0.8407247186
                        ]
                      },
                      {
                        "passed_time": 1033.72965,
                        "iteration": 457,
                        "remaining_time": 1674.732315,
                        "learn": [
                          0.840466595
                        ]
                      },
                      {
                        "passed_time": 1036.14258,
                        "iteration": 458,
                        "remaining_time": 1672.726909,
                        "learn": [
                          0.8401982266
                        ]
                      },
                      {
                        "passed_time": 1038.181182,
                        "iteration": 459,
                        "remaining_time": 1670.117554,
                        "learn": [
                          0.8399133206
                        ]
                      },
                      {
                        "passed_time": 1040.184448,
                        "iteration": 460,
                        "remaining_time": 1667.454029,
                        "learn": [
                          0.8398041532
                        ]
                      },
                      {
                        "passed_time": 1042.477039,
                        "iteration": 461,
                        "remaining_time": 1665.255529,
                        "learn": [
                          0.8395662401
                        ]
                      },
                      {
                        "passed_time": 1044.824339,
                        "iteration": 462,
                        "remaining_time": 1663.143711,
                        "learn": [
                          0.8393707674
                        ]
                      },
                      {
                        "passed_time": 1046.827702,
                        "iteration": 463,
                        "remaining_time": 1660.485321,
                        "learn": [
                          0.8391962497
                        ]
                      },
                      {
                        "passed_time": 1048.646955,
                        "iteration": 464,
                        "remaining_time": 1657.538735,
                        "learn": [
                          0.8390303853
                        ]
                      },
                      {
                        "passed_time": 1050.856629,
                        "iteration": 465,
                        "remaining_time": 1655.211944,
                        "learn": [
                          0.8388255834
                        ]
                      },
                      {
                        "passed_time": 1053.376854,
                        "iteration": 466,
                        "remaining_time": 1653.373092,
                        "learn": [
                          0.8385086869
                        ]
                      },
                      {
                        "passed_time": 1055.779377,
                        "iteration": 467,
                        "remaining_time": 1651.347231,
                        "learn": [
                          0.8381716141
                        ]
                      },
                      {
                        "passed_time": 1057.871503,
                        "iteration": 468,
                        "remaining_time": 1648.835968,
                        "learn": [
                          0.8378755264
                        ]
                      },
                      {
                        "passed_time": 1059.906511,
                        "iteration": 469,
                        "remaining_time": 1646.237772,
                        "learn": [
                          0.8376639778
                        ]
                      },
                      {
                        "passed_time": 1062.600268,
                        "iteration": 470,
                        "remaining_time": 1644.661561,
                        "learn": [
                          0.8374086665
                        ]
                      },
                      {
                        "passed_time": 1065.382776,
                        "iteration": 471,
                        "remaining_time": 1643.217502,
                        "learn": [
                          0.8371460271
                        ]
                      },
                      {
                        "passed_time": 1068.189797,
                        "iteration": 472,
                        "remaining_time": 1641.805459,
                        "learn": [
                          0.8368622785
                        ]
                      },
                      {
                        "passed_time": 1070.395144,
                        "iteration": 473,
                        "remaining_time": 1639.465981,
                        "learn": [
                          0.836655702
                        ]
                      },
                      {
                        "passed_time": 1072.58171,
                        "iteration": 474,
                        "remaining_time": 1637.098399,
                        "learn": [
                          0.8364133929
                        ]
                      },
                      {
                        "passed_time": 1074.964162,
                        "iteration": 475,
                        "remaining_time": 1635.029524,
                        "learn": [
                          0.8361806349
                        ]
                      },
                      {
                        "passed_time": 1077.012965,
                        "iteration": 476,
                        "remaining_time": 1632.453614,
                        "learn": [
                          0.8360223827
                        ]
                      },
                      {
                        "passed_time": 1079.065986,
                        "iteration": 477,
                        "remaining_time": 1629.88628,
                        "learn": [
                          0.8358528246
                        ]
                      },
                      {
                        "passed_time": 1081.290973,
                        "iteration": 478,
                        "remaining_time": 1627.579941,
                        "learn": [
                          0.8356308694
                        ]
                      },
                      {
                        "passed_time": 1083.82967,
                        "iteration": 479,
                        "remaining_time": 1625.744505,
                        "learn": [
                          0.8353995201
                        ]
                      },
                      {
                        "passed_time": 1086.085265,
                        "iteration": 480,
                        "remaining_time": 1623.482964,
                        "learn": [
                          0.8352220799
                        ]
                      },
                      {
                        "passed_time": 1088.492138,
                        "iteration": 481,
                        "remaining_time": 1621.446795,
                        "learn": [
                          0.8349017017
                        ]
                      },
                      {
                        "passed_time": 1090.943024,
                        "iteration": 482,
                        "remaining_time": 1619.474427,
                        "learn": [
                          0.8346680544
                        ]
                      },
                      {
                        "passed_time": 1093.184088,
                        "iteration": 483,
                        "remaining_time": 1617.189684,
                        "learn": [
                          0.8343681858
                        ]
                      },
                      {
                        "passed_time": 1095.550065,
                        "iteration": 484,
                        "remaining_time": 1615.089271,
                        "learn": [
                          0.8340313771
                        ]
                      },
                      {
                        "passed_time": 1098.291197,
                        "iteration": 485,
                        "remaining_time": 1613.53892,
                        "learn": [
                          0.8337184765
                        ]
                      },
                      {
                        "passed_time": 1100.113412,
                        "iteration": 486,
                        "remaining_time": 1610.638322,
                        "learn": [
                          0.8336083637
                        ]
                      },
                      {
                        "passed_time": 1102.22531,
                        "iteration": 487,
                        "remaining_time": 1608.164796,
                        "learn": [
                          0.8334131589
                        ]
                      },
                      {
                        "passed_time": 1104.74825,
                        "iteration": 488,
                        "remaining_time": 1606.2904,
                        "learn": [
                          0.8332364512
                        ]
                      },
                      {
                        "passed_time": 1106.766845,
                        "iteration": 489,
                        "remaining_time": 1603.682571,
                        "learn": [
                          0.8330663498
                        ]
                      },
                      {
                        "passed_time": 1109.127076,
                        "iteration": 490,
                        "remaining_time": 1601.570462,
                        "learn": [
                          0.832797754
                        ]
                      },
                      {
                        "passed_time": 1111.176208,
                        "iteration": 491,
                        "remaining_time": 1599.009665,
                        "learn": [
                          0.832597258
                        ]
                      },
                      {
                        "passed_time": 1113.738254,
                        "iteration": 492,
                        "remaining_time": 1597.186501,
                        "learn": [
                          0.832267041
                        ]
                      },
                      {
                        "passed_time": 1115.752734,
                        "iteration": 493,
                        "remaining_time": 1594.577794,
                        "learn": [
                          0.8320356092
                        ]
                      },
                      {
                        "passed_time": 1118.191225,
                        "iteration": 494,
                        "remaining_time": 1592.57538,
                        "learn": [
                          0.8316802222
                        ]
                      },
                      {
                        "passed_time": 1120.649721,
                        "iteration": 495,
                        "remaining_time": 1590.599605,
                        "learn": [
                          0.8315039187
                        ]
                      },
                      {
                        "passed_time": 1122.916963,
                        "iteration": 496,
                        "remaining_time": 1588.351357,
                        "learn": [
                          0.8313217564
                        ]
                      },
                      {
                        "passed_time": 1125.014538,
                        "iteration": 497,
                        "remaining_time": 1585.863867,
                        "learn": [
                          0.8311771208
                        ]
                      },
                      {
                        "passed_time": 1127.525448,
                        "iteration": 498,
                        "remaining_time": 1583.958596,
                        "learn": [
                          0.8309831302
                        ]
                      },
                      {
                        "passed_time": 1129.915224,
                        "iteration": 499,
                        "remaining_time": 1581.881314,
                        "learn": [
                          0.8308365573
                        ]
                      },
                      {
                        "passed_time": 1131.828389,
                        "iteration": 500,
                        "remaining_time": 1579.137812,
                        "learn": [
                          0.830692505
                        ]
                      },
                      {
                        "passed_time": 1134.284709,
                        "iteration": 501,
                        "remaining_time": 1577.152842,
                        "learn": [
                          0.8305210806
                        ]
                      },
                      {
                        "passed_time": 1136.451026,
                        "iteration": 502,
                        "remaining_time": 1574.764145,
                        "learn": [
                          0.830360377
                        ]
                      },
                      {
                        "passed_time": 1139.006582,
                        "iteration": 503,
                        "remaining_time": 1572.913851,
                        "learn": [
                          0.8301677194
                        ]
                      },
                      {
                        "passed_time": 1141.537484,
                        "iteration": 504,
                        "remaining_time": 1571.026835,
                        "learn": [
                          0.8299507903
                        ]
                      },
                      {
                        "passed_time": 1144.202718,
                        "iteration": 505,
                        "remaining_time": 1569.321514,
                        "learn": [
                          0.8297065128
                        ]
                      },
                      {
                        "passed_time": 1146.377767,
                        "iteration": 506,
                        "remaining_time": 1566.942391,
                        "learn": [
                          0.8295604342
                        ]
                      },
                      {
                        "passed_time": 1148.768458,
                        "iteration": 507,
                        "remaining_time": 1564.857821,
                        "learn": [
                          0.8294417881
                        ]
                      },
                      {
                        "passed_time": 1151.199312,
                        "iteration": 508,
                        "remaining_time": 1562.826571,
                        "learn": [
                          0.829316317
                        ]
                      },
                      {
                        "passed_time": 1153.418261,
                        "iteration": 509,
                        "remaining_time": 1560.507059,
                        "learn": [
                          0.8291126147
                        ]
                      },
                      {
                        "passed_time": 1155.69955,
                        "iteration": 510,
                        "remaining_time": 1558.271996,
                        "learn": [
                          0.8288847069
                        ]
                      },
                      {
                        "passed_time": 1158.122175,
                        "iteration": 511,
                        "remaining_time": 1556.226673,
                        "learn": [
                          0.8286800683
                        ]
                      },
                      {
                        "passed_time": 1160.468233,
                        "iteration": 512,
                        "remaining_time": 1554.077342,
                        "learn": [
                          0.8283992517
                        ]
                      },
                      {
                        "passed_time": 1162.857433,
                        "iteration": 513,
                        "remaining_time": 1551.984823,
                        "learn": [
                          0.8280928081
                        ]
                      },
                      {
                        "passed_time": 1164.827311,
                        "iteration": 514,
                        "remaining_time": 1549.333414,
                        "learn": [
                          0.8278224287
                        ]
                      },
                      {
                        "passed_time": 1166.841398,
                        "iteration": 515,
                        "remaining_time": 1546.743249,
                        "learn": [
                          0.8276420686
                        ]
                      },
                      {
                        "passed_time": 1169.125142,
                        "iteration": 516,
                        "remaining_time": 1544.511551,
                        "learn": [
                          0.8274603255
                        ]
                      },
                      {
                        "passed_time": 1171.255896,
                        "iteration": 517,
                        "remaining_time": 1542.078226,
                        "learn": [
                          0.8272244517
                        ]
                      },
                      {
                        "passed_time": 1173.344745,
                        "iteration": 518,
                        "remaining_time": 1539.591081,
                        "learn": [
                          0.8270541327
                        ]
                      },
                      {
                        "passed_time": 1175.668972,
                        "iteration": 519,
                        "remaining_time": 1537.41327,
                        "learn": [
                          0.8269327494
                        ]
                      },
                      {
                        "passed_time": 1177.555716,
                        "iteration": 520,
                        "remaining_time": 1534.664743,
                        "learn": [
                          0.8267787655
                        ]
                      },
                      {
                        "passed_time": 1179.620194,
                        "iteration": 521,
                        "remaining_time": 1532.150367,
                        "learn": [
                          0.8266621172
                        ]
                      },
                      {
                        "passed_time": 1181.395647,
                        "iteration": 522,
                        "remaining_time": 1529.263582,
                        "learn": [
                          0.8265221518
                        ]
                      },
                      {
                        "passed_time": 1183.684608,
                        "iteration": 523,
                        "remaining_time": 1527.043502,
                        "learn": [
                          0.8263934591
                        ]
                      },
                      {
                        "passed_time": 1185.818698,
                        "iteration": 524,
                        "remaining_time": 1524.62404,
                        "learn": [
                          0.8262467437
                        ]
                      },
                      {
                        "passed_time": 1188.444818,
                        "iteration": 525,
                        "remaining_time": 1522.836135,
                        "learn": [
                          0.8259523676
                        ]
                      },
                      {
                        "passed_time": 1190.537257,
                        "iteration": 526,
                        "remaining_time": 1520.363518,
                        "learn": [
                          0.8258428414
                        ]
                      },
                      {
                        "passed_time": 1192.950274,
                        "iteration": 527,
                        "remaining_time": 1518.300348,
                        "learn": [
                          0.8255713044
                        ]
                      },
                      {
                        "passed_time": 1194.917341,
                        "iteration": 528,
                        "remaining_time": 1515.670201,
                        "learn": [
                          0.8253787429
                        ]
                      },
                      {
                        "passed_time": 1197.423696,
                        "iteration": 529,
                        "remaining_time": 1513.724294,
                        "learn": [
                          0.8252247901
                        ]
                      },
                      {
                        "passed_time": 1199.653153,
                        "iteration": 530,
                        "remaining_time": 1511.427419,
                        "learn": [
                          0.8248994658
                        ]
                      },
                      {
                        "passed_time": 1202.119147,
                        "iteration": 531,
                        "remaining_time": 1509.427801,
                        "learn": [
                          0.8247225098
                        ]
                      },
                      {
                        "passed_time": 1204.500863,
                        "iteration": 532,
                        "remaining_time": 1507.320967,
                        "learn": [
                          0.8245285632
                        ]
                      },
                      {
                        "passed_time": 1206.59363,
                        "iteration": 533,
                        "remaining_time": 1504.852729,
                        "learn": [
                          0.8242205941
                        ]
                      },
                      {
                        "passed_time": 1208.691439,
                        "iteration": 534,
                        "remaining_time": 1502.392162,
                        "learn": [
                          0.8240592375
                        ]
                      },
                      {
                        "passed_time": 1210.910995,
                        "iteration": 535,
                        "remaining_time": 1500.08377,
                        "learn": [
                          0.823903306
                        ]
                      },
                      {
                        "passed_time": 1213.12089,
                        "iteration": 536,
                        "remaining_time": 1497.76378,
                        "learn": [
                          0.8237560582
                        ]
                      },
                      {
                        "passed_time": 1215.439421,
                        "iteration": 537,
                        "remaining_time": 1495.577875,
                        "learn": [
                          0.8235909829
                        ]
                      },
                      {
                        "passed_time": 1217.407168,
                        "iteration": 538,
                        "remaining_time": 1492.961295,
                        "learn": [
                          0.8233738412
                        ]
                      },
                      {
                        "passed_time": 1219.315926,
                        "iteration": 539,
                        "remaining_time": 1490.275021,
                        "learn": [
                          0.8232057221
                        ]
                      },
                      {
                        "passed_time": 1221.405704,
                        "iteration": 540,
                        "remaining_time": 1487.812124,
                        "learn": [
                          0.823031946
                        ]
                      },
                      {
                        "passed_time": 1223.495309,
                        "iteration": 541,
                        "remaining_time": 1485.350394,
                        "learn": [
                          0.8228483036
                        ]
                      },
                      {
                        "passed_time": 1225.805738,
                        "iteration": 542,
                        "remaining_time": 1483.157219,
                        "learn": [
                          0.8226970798
                        ]
                      },
                      {
                        "passed_time": 1228.067174,
                        "iteration": 543,
                        "remaining_time": 1480.904533,
                        "learn": [
                          0.822497629
                        ]
                      },
                      {
                        "passed_time": 1230.363307,
                        "iteration": 544,
                        "remaining_time": 1478.693515,
                        "learn": [
                          0.82237508
                        ]
                      },
                      {
                        "passed_time": 1232.709871,
                        "iteration": 545,
                        "remaining_time": 1476.542593,
                        "learn": [
                          0.8222607086
                        ]
                      },
                      {
                        "passed_time": 1234.697342,
                        "iteration": 546,
                        "remaining_time": 1473.962275,
                        "learn": [
                          0.8221192869
                        ]
                      },
                      {
                        "passed_time": 1237.239837,
                        "iteration": 547,
                        "remaining_time": 1472.044478,
                        "learn": [
                          0.8219022078
                        ]
                      },
                      {
                        "passed_time": 1239.826312,
                        "iteration": 548,
                        "remaining_time": 1470.176556,
                        "learn": [
                          0.8217405735
                        ]
                      },
                      {
                        "passed_time": 1241.736101,
                        "iteration": 549,
                        "remaining_time": 1467.506301,
                        "learn": [
                          0.8216331679
                        ]
                      },
                      {
                        "passed_time": 1244.153559,
                        "iteration": 550,
                        "remaining_time": 1465.43677,
                        "learn": [
                          0.8214075681
                        ]
                      },
                      {
                        "passed_time": 1246.298284,
                        "iteration": 551,
                        "remaining_time": 1463.045812,
                        "learn": [
                          0.8211538725
                        ]
                      },
                      {
                        "passed_time": 1248.41962,
                        "iteration": 552,
                        "remaining_time": 1460.62838,
                        "learn": [
                          0.8209303155
                        ]
                      },
                      {
                        "passed_time": 1250.69355,
                        "iteration": 553,
                        "remaining_time": 1458.389951,
                        "learn": [
                          0.820749048
                        ]
                      },
                      {
                        "passed_time": 1252.814679,
                        "iteration": 554,
                        "remaining_time": 1455.973816,
                        "learn": [
                          0.8205586181
                        ]
                      },
                      {
                        "passed_time": 1255.087642,
                        "iteration": 555,
                        "remaining_time": 1453.734607,
                        "learn": [
                          0.8202931603
                        ]
                      },
                      {
                        "passed_time": 1257.449469,
                        "iteration": 556,
                        "remaining_time": 1451.597861,
                        "learn": [
                          0.8201142581
                        ]
                      },
                      {
                        "passed_time": 1259.827365,
                        "iteration": 557,
                        "remaining_time": 1449.478796,
                        "learn": [
                          0.8199794416
                        ]
                      },
                      {
                        "passed_time": 1261.67803,
                        "iteration": 558,
                        "remaining_time": 1446.754235,
                        "learn": [
                          0.8198161939
                        ]
                      },
                      {
                        "passed_time": 1263.939963,
                        "iteration": 559,
                        "remaining_time": 1444.502815,
                        "learn": [
                          0.8196001097
                        ]
                      },
                      {
                        "passed_time": 1265.870722,
                        "iteration": 560,
                        "remaining_time": 1441.874138,
                        "learn": [
                          0.819417705
                        ]
                      },
                      {
                        "passed_time": 1268.377101,
                        "iteration": 561,
                        "remaining_time": 1439.901406,
                        "learn": [
                          0.8192051972
                        ]
                      },
                      {
                        "passed_time": 1270.829176,
                        "iteration": 562,
                        "remaining_time": 1437.865338,
                        "learn": [
                          0.8190450634
                        ]
                      },
                      {
                        "passed_time": 1273.464339,
                        "iteration": 563,
                        "remaining_time": 1436.034255,
                        "learn": [
                          0.8188287193
                        ]
                      },
                      {
                        "passed_time": 1275.936422,
                        "iteration": 564,
                        "remaining_time": 1434.017041,
                        "learn": [
                          0.8185893994
                        ]
                      },
                      {
                        "passed_time": 1277.939443,
                        "iteration": 565,
                        "remaining_time": 1431.472803,
                        "learn": [
                          0.8183964015
                        ]
                      },
                      {
                        "passed_time": 1279.825719,
                        "iteration": 566,
                        "remaining_time": 1428.800141,
                        "learn": [
                          0.8182730593
                        ]
                      },
                      {
                        "passed_time": 1281.986047,
                        "iteration": 567,
                        "remaining_time": 1426.435179,
                        "learn": [
                          0.8177932326
                        ]
                      },
                      {
                        "passed_time": 1283.946967,
                        "iteration": 568,
                        "remaining_time": 1423.8498,
                        "learn": [
                          0.8175542616
                        ]
                      },
                      {
                        "passed_time": 1285.814634,
                        "iteration": 569,
                        "remaining_time": 1421.163543,
                        "learn": [
                          0.8174041685
                        ]
                      },
                      {
                        "passed_time": 1288.018703,
                        "iteration": 570,
                        "remaining_time": 1418.850725,
                        "learn": [
                          0.8171801505
                        ]
                      },
                      {
                        "passed_time": 1289.788295,
                        "iteration": 571,
                        "remaining_time": 1416.061275,
                        "learn": [
                          0.8168553121
                        ]
                      },
                      {
                        "passed_time": 1292.038148,
                        "iteration": 572,
                        "remaining_time": 1413.800905,
                        "learn": [
                          0.8167291542
                        ]
                      },
                      {
                        "passed_time": 1294.35801,
                        "iteration": 573,
                        "remaining_time": 1411.616924,
                        "learn": [
                          0.8164895571
                        ]
                      },
                      {
                        "passed_time": 1296.256912,
                        "iteration": 574,
                        "remaining_time": 1408.974904,
                        "learn": [
                          0.8162981633
                        ]
                      },
                      {
                        "passed_time": 1298.441023,
                        "iteration": 575,
                        "remaining_time": 1406.644441,
                        "learn": [
                          0.8161706782
                        ]
                      },
                      {
                        "passed_time": 1300.377938,
                        "iteration": 576,
                        "remaining_time": 1404.047583,
                        "learn": [
                          0.8159695104
                        ]
                      },
                      {
                        "passed_time": 1302.202184,
                        "iteration": 577,
                        "remaining_time": 1401.331762,
                        "learn": [
                          0.8158162443
                        ]
                      },
                      {
                        "passed_time": 1304.741893,
                        "iteration": 578,
                        "remaining_time": 1399.386382,
                        "learn": [
                          0.8157103539
                        ]
                      },
                      {
                        "passed_time": 1306.850231,
                        "iteration": 579,
                        "remaining_time": 1396.977833,
                        "learn": [
                          0.8156123576
                        ]
                      },
                      {
                        "passed_time": 1309.327881,
                        "iteration": 580,
                        "remaining_time": 1394.963784,
                        "learn": [
                          0.8154856935
                        ]
                      },
                      {
                        "passed_time": 1311.689446,
                        "iteration": 581,
                        "remaining_time": 1392.824876,
                        "learn": [
                          0.8153218277
                        ]
                      },
                      {
                        "passed_time": 1314.035339,
                        "iteration": 582,
                        "remaining_time": 1390.668618,
                        "learn": [
                          0.8151668397
                        ]
                      },
                      {
                        "passed_time": 1316.714252,
                        "iteration": 583,
                        "remaining_time": 1388.862978,
                        "learn": [
                          0.8150089049
                        ]
                      },
                      {
                        "passed_time": 1318.710985,
                        "iteration": 584,
                        "remaining_time": 1386.33719,
                        "learn": [
                          0.8147687451
                        ]
                      },
                      {
                        "passed_time": 1320.869986,
                        "iteration": 585,
                        "remaining_time": 1383.983228,
                        "learn": [
                          0.8146028134
                        ]
                      },
                      {
                        "passed_time": 1323.165668,
                        "iteration": 586,
                        "remaining_time": 1381.772665,
                        "learn": [
                          0.8143638697
                        ]
                      },
                      {
                        "passed_time": 1325.368292,
                        "iteration": 587,
                        "remaining_time": 1379.464957,
                        "learn": [
                          0.8141672531
                        ]
                      },
                      {
                        "passed_time": 1327.400924,
                        "iteration": 588,
                        "remaining_time": 1376.981265,
                        "learn": [
                          0.8140060086
                        ]
                      },
                      {
                        "passed_time": 1329.413064,
                        "iteration": 589,
                        "remaining_time": 1374.477913,
                        "learn": [
                          0.8138430371
                        ]
                      },
                      {
                        "passed_time": 1331.868459,
                        "iteration": 590,
                        "remaining_time": 1372.432981,
                        "learn": [
                          0.8136279686
                        ]
                      },
                      {
                        "passed_time": 1334.277404,
                        "iteration": 591,
                        "remaining_time": 1370.338956,
                        "learn": [
                          0.8134950438
                        ]
                      },
                      {
                        "passed_time": 1336.899981,
                        "iteration": 592,
                        "remaining_time": 1368.462544,
                        "learn": [
                          0.8132978009
                        ]
                      },
                      {
                        "passed_time": 1339.208349,
                        "iteration": 593,
                        "remaining_time": 1366.263063,
                        "learn": [
                          0.8130956414
                        ]
                      },
                      {
                        "passed_time": 1341.937538,
                        "iteration": 594,
                        "remaining_time": 1364.49111,
                        "learn": [
                          0.8129190224
                        ]
                      },
                      {
                        "passed_time": 1344.127319,
                        "iteration": 595,
                        "remaining_time": 1362.169296,
                        "learn": [
                          0.8128006761
                        ]
                      },
                      {
                        "passed_time": 1346.2263,
                        "iteration": 596,
                        "remaining_time": 1359.756213,
                        "learn": [
                          0.8125393831
                        ]
                      },
                      {
                        "passed_time": 1348.395245,
                        "iteration": 597,
                        "remaining_time": 1357.414611,
                        "learn": [
                          0.8123833338
                        ]
                      },
                      {
                        "passed_time": 1350.897837,
                        "iteration": 598,
                        "remaining_time": 1355.408347,
                        "learn": [
                          0.8122483821
                        ]
                      },
                      {
                        "passed_time": 1353.171913,
                        "iteration": 599,
                        "remaining_time": 1353.171913,
                        "learn": [
                          0.8121196916
                        ]
                      },
                      {
                        "passed_time": 1355.777871,
                        "iteration": 600,
                        "remaining_time": 1351.266131,
                        "learn": [
                          0.8119592364
                        ]
                      },
                      {
                        "passed_time": 1358.149951,
                        "iteration": 601,
                        "remaining_time": 1349.125699,
                        "learn": [
                          0.8118405326
                        ]
                      },
                      {
                        "passed_time": 1360.612712,
                        "iteration": 602,
                        "remaining_time": 1347.074277,
                        "learn": [
                          0.81170415
                        ]
                      },
                      {
                        "passed_time": 1363.165878,
                        "iteration": 603,
                        "remaining_time": 1345.110701,
                        "learn": [
                          0.8115421946
                        ]
                      },
                      {
                        "passed_time": 1365.785088,
                        "iteration": 604,
                        "remaining_time": 1343.210128,
                        "learn": [
                          0.8113193827
                        ]
                      },
                      {
                        "passed_time": 1368.429958,
                        "iteration": 605,
                        "remaining_time": 1341.332335,
                        "learn": [
                          0.811131193
                        ]
                      },
                      {
                        "passed_time": 1370.656284,
                        "iteration": 606,
                        "remaining_time": 1339.043124,
                        "learn": [
                          0.8109902651
                        ]
                      },
                      {
                        "passed_time": 1372.88247,
                        "iteration": 607,
                        "remaining_time": 1336.753983,
                        "learn": [
                          0.8107225719
                        ]
                      },
                      {
                        "passed_time": 1374.518939,
                        "iteration": 608,
                        "remaining_time": 1333.892763,
                        "learn": [
                          0.8105787676
                        ]
                      },
                      {
                        "passed_time": 1376.977743,
                        "iteration": 609,
                        "remaining_time": 1331.830932,
                        "learn": [
                          0.8104349653
                        ]
                      },
                      {
                        "passed_time": 1379.211683,
                        "iteration": 610,
                        "remaining_time": 1329.551033,
                        "learn": [
                          0.810319604
                        ]
                      },
                      {
                        "passed_time": 1381.588461,
                        "iteration": 611,
                        "remaining_time": 1327.408522,
                        "learn": [
                          0.8102051868
                        ]
                      },
                      {
                        "passed_time": 1384.331604,
                        "iteration": 612,
                        "remaining_time": 1325.616071,
                        "learn": [
                          0.8100463358
                        ]
                      },
                      {
                        "passed_time": 1386.648827,
                        "iteration": 613,
                        "remaining_time": 1323.414027,
                        "learn": [
                          0.8097756194
                        ]
                      },
                      {
                        "passed_time": 1389.105505,
                        "iteration": 614,
                        "remaining_time": 1321.34426,
                        "learn": [
                          0.8096414352
                        ]
                      },
                      {
                        "passed_time": 1391.119004,
                        "iteration": 615,
                        "remaining_time": 1318.853082,
                        "learn": [
                          0.8095312353
                        ]
                      },
                      {
                        "passed_time": 1393.092948,
                        "iteration": 616,
                        "remaining_time": 1316.326075,
                        "learn": [
                          0.8092464629
                        ]
                      },
                      {
                        "passed_time": 1395.786452,
                        "iteration": 617,
                        "remaining_time": 1314.478503,
                        "learn": [
                          0.8090797157
                        ]
                      },
                      {
                        "passed_time": 1398.29501,
                        "iteration": 618,
                        "remaining_time": 1312.454605,
                        "learn": [
                          0.808872139
                        ]
                      },
                      {
                        "passed_time": 1400.439952,
                        "iteration": 619,
                        "remaining_time": 1310.088987,
                        "learn": [
                          0.8087098443
                        ]
                      },
                      {
                        "passed_time": 1403.039956,
                        "iteration": 620,
                        "remaining_time": 1308.148365,
                        "learn": [
                          0.8085006033
                        ]
                      },
                      {
                        "passed_time": 1405.522026,
                        "iteration": 621,
                        "remaining_time": 1306.096031,
                        "learn": [
                          0.8082448219
                        ]
                      },
                      {
                        "passed_time": 1407.780937,
                        "iteration": 622,
                        "remaining_time": 1303.835635,
                        "learn": [
                          0.8081272631
                        ]
                      },
                      {
                        "passed_time": 1409.839879,
                        "iteration": 623,
                        "remaining_time": 1301.390658,
                        "learn": [
                          0.8079335337
                        ]
                      },
                      {
                        "passed_time": 1412.393799,
                        "iteration": 624,
                        "remaining_time": 1299.402296,
                        "learn": [
                          0.8077654422
                        ]
                      },
                      {
                        "passed_time": 1414.507327,
                        "iteration": 625,
                        "remaining_time": 1297.008316,
                        "learn": [
                          0.807522656
                        ]
                      },
                      {
                        "passed_time": 1416.69777,
                        "iteration": 626,
                        "remaining_time": 1294.685522,
                        "learn": [
                          0.8074179535
                        ]
                      },
                      {
                        "passed_time": 1418.834488,
                        "iteration": 627,
                        "remaining_time": 1292.314215,
                        "learn": [
                          0.8072988346
                        ]
                      },
                      {
                        "passed_time": 1421.391322,
                        "iteration": 628,
                        "remaining_time": 1290.325032,
                        "learn": [
                          0.8071450254
                        ]
                      },
                      {
                        "passed_time": 1423.640293,
                        "iteration": 629,
                        "remaining_time": 1288.055503,
                        "learn": [
                          0.8070010742
                        ]
                      },
                      {
                        "passed_time": 1425.606527,
                        "iteration": 630,
                        "remaining_time": 1285.531084,
                        "learn": [
                          0.8068870457
                        ]
                      },
                      {
                        "passed_time": 1427.973795,
                        "iteration": 631,
                        "remaining_time": 1283.368854,
                        "learn": [
                          0.8067907874
                        ]
                      },
                      {
                        "passed_time": 1430.387117,
                        "iteration": 632,
                        "remaining_time": 1281.247228,
                        "learn": [
                          0.8065977122
                        ]
                      },
                      {
                        "passed_time": 1432.592451,
                        "iteration": 633,
                        "remaining_time": 1278.939002,
                        "learn": [
                          0.8063773721
                        ]
                      },
                      {
                        "passed_time": 1435.064708,
                        "iteration": 634,
                        "remaining_time": 1276.868599,
                        "learn": [
                          0.8062714542
                        ]
                      },
                      {
                        "passed_time": 1437.693478,
                        "iteration": 635,
                        "remaining_time": 1274.935726,
                        "learn": [
                          0.806106559
                        ]
                      },
                      {
                        "passed_time": 1439.995553,
                        "iteration": 636,
                        "remaining_time": 1272.711925,
                        "learn": [
                          0.8059385307
                        ]
                      },
                      {
                        "passed_time": 1442.308067,
                        "iteration": 637,
                        "remaining_time": 1270.497074,
                        "learn": [
                          0.8057904281
                        ]
                      },
                      {
                        "passed_time": 1444.414382,
                        "iteration": 638,
                        "remaining_time": 1268.100889,
                        "learn": [
                          0.8056896833
                        ]
                      },
                      {
                        "passed_time": 1446.884041,
                        "iteration": 639,
                        "remaining_time": 1266.023536,
                        "learn": [
                          0.8054664864
                        ]
                      },
                      {
                        "passed_time": 1449.017932,
                        "iteration": 640,
                        "remaining_time": 1263.652144,
                        "learn": [
                          0.8052398145
                        ]
                      },
                      {
                        "passed_time": 1451.342798,
                        "iteration": 641,
                        "remaining_time": 1261.447479,
                        "learn": [
                          0.8050783475
                        ]
                      },
                      {
                        "passed_time": 1453.80816,
                        "iteration": 642,
                        "remaining_time": 1259.364145,
                        "learn": [
                          0.8047887731
                        ]
                      },
                      {
                        "passed_time": 1456.326542,
                        "iteration": 643,
                        "remaining_time": 1257.3254,
                        "learn": [
                          0.8046433472
                        ]
                      },
                      {
                        "passed_time": 1458.881136,
                        "iteration": 644,
                        "remaining_time": 1255.316327,
                        "learn": [
                          0.8044901411
                        ]
                      },
                      {
                        "passed_time": 1460.807225,
                        "iteration": 645,
                        "remaining_time": 1252.766567,
                        "learn": [
                          0.8043184006
                        ]
                      },
                      {
                        "passed_time": 1462.795517,
                        "iteration": 646,
                        "remaining_time": 1250.271902,
                        "learn": [
                          0.8041941215
                        ]
                      },
                      {
                        "passed_time": 1464.845685,
                        "iteration": 647,
                        "remaining_time": 1247.831509,
                        "learn": [
                          0.8041145063
                        ]
                      },
                      {
                        "passed_time": 1467.116275,
                        "iteration": 648,
                        "remaining_time": 1245.579457,
                        "learn": [
                          0.8039171044
                        ]
                      },
                      {
                        "passed_time": 1469.570681,
                        "iteration": 649,
                        "remaining_time": 1243.482884,
                        "learn": [
                          0.8037130627
                        ]
                      },
                      {
                        "passed_time": 1471.94801,
                        "iteration": 650,
                        "remaining_time": 1241.320211,
                        "learn": [
                          0.8036036736
                        ]
                      },
                      {
                        "passed_time": 1474.134133,
                        "iteration": 651,
                        "remaining_time": 1238.996174,
                        "learn": [
                          0.8033793127
                        ]
                      },
                      {
                        "passed_time": 1476.178491,
                        "iteration": 652,
                        "remaining_time": 1236.553805,
                        "learn": [
                          0.8031737901
                        ]
                      },
                      {
                        "passed_time": 1478.518771,
                        "iteration": 653,
                        "remaining_time": 1234.359708,
                        "learn": [
                          0.8029105932
                        ]
                      },
                      {
                        "passed_time": 1481.252449,
                        "iteration": 654,
                        "remaining_time": 1232.492495,
                        "learn": [
                          0.8027068345
                        ]
                      },
                      {
                        "passed_time": 1483.782639,
                        "iteration": 655,
                        "remaining_time": 1230.453896,
                        "learn": [
                          0.8025546881
                        ]
                      },
                      {
                        "passed_time": 1486.456275,
                        "iteration": 656,
                        "remaining_time": 1228.532355,
                        "learn": [
                          0.8022768591
                        ]
                      },
                      {
                        "passed_time": 1488.989878,
                        "iteration": 657,
                        "remaining_time": 1226.493182,
                        "learn": [
                          0.8020968889
                        ]
                      },
                      {
                        "passed_time": 1491.65251,
                        "iteration": 658,
                        "remaining_time": 1224.558433,
                        "learn": [
                          0.8018319083
                        ]
                      },
                      {
                        "passed_time": 1494.187348,
                        "iteration": 659,
                        "remaining_time": 1222.516921,
                        "learn": [
                          0.8017353757
                        ]
                      },
                      {
                        "passed_time": 1496.300547,
                        "iteration": 660,
                        "remaining_time": 1220.130098,
                        "learn": [
                          0.8015923515
                        ]
                      },
                      {
                        "passed_time": 1498.29002,
                        "iteration": 661,
                        "remaining_time": 1217.643551,
                        "learn": [
                          0.8014565161
                        ]
                      },
                      {
                        "passed_time": 1500.368735,
                        "iteration": 662,
                        "remaining_time": 1215.230785,
                        "learn": [
                          0.8012745127
                        ]
                      },
                      {
                        "passed_time": 1502.585995,
                        "iteration": 663,
                        "remaining_time": 1212.930863,
                        "learn": [
                          0.8011287603
                        ]
                      },
                      {
                        "passed_time": 1504.670116,
                        "iteration": 664,
                        "remaining_time": 1210.524078,
                        "learn": [
                          0.800973882
                        ]
                      },
                      {
                        "passed_time": 1507.398266,
                        "iteration": 665,
                        "remaining_time": 1208.634646,
                        "learn": [
                          0.8008834695
                        ]
                      },
                      {
                        "passed_time": 1509.863036,
                        "iteration": 666,
                        "remaining_time": 1206.532231,
                        "learn": [
                          0.8007714326
                        ]
                      },
                      {
                        "passed_time": 1512.276302,
                        "iteration": 667,
                        "remaining_time": 1204.387714,
                        "learn": [
                          0.8006722994
                        ]
                      },
                      {
                        "passed_time": 1514.374016,
                        "iteration": 668,
                        "remaining_time": 1201.991932,
                        "learn": [
                          0.800570576
                        ]
                      },
                      {
                        "passed_time": 1516.867167,
                        "iteration": 669,
                        "remaining_time": 1199.909848,
                        "learn": [
                          0.8004565452
                        ]
                      },
                      {
                        "passed_time": 1519.444047,
                        "iteration": 670,
                        "remaining_time": 1197.89255,
                        "learn": [
                          0.8002240226
                        ]
                      },
                      {
                        "passed_time": 1521.63995,
                        "iteration": 671,
                        "remaining_time": 1195.574247,
                        "learn": [
                          0.8000988676
                        ]
                      },
                      {
                        "passed_time": 1523.645456,
                        "iteration": 672,
                        "remaining_time": 1193.107215,
                        "learn": [
                          0.7999177903
                        ]
                      },
                      {
                        "passed_time": 1526.009704,
                        "iteration": 673,
                        "remaining_time": 1190.92152,
                        "learn": [
                          0.7997568417
                        ]
                      },
                      {
                        "passed_time": 1528.325291,
                        "iteration": 674,
                        "remaining_time": 1188.697449,
                        "learn": [
                          0.7995814331
                        ]
                      },
                      {
                        "passed_time": 1530.227778,
                        "iteration": 675,
                        "remaining_time": 1186.152893,
                        "learn": [
                          0.799432365
                        ]
                      },
                      {
                        "passed_time": 1532.379021,
                        "iteration": 676,
                        "remaining_time": 1183.802405,
                        "learn": [
                          0.7993384758
                        ]
                      },
                      {
                        "passed_time": 1534.751148,
                        "iteration": 677,
                        "remaining_time": 1181.622565,
                        "learn": [
                          0.7992132451
                        ]
                      },
                      {
                        "passed_time": 1536.917166,
                        "iteration": 678,
                        "remaining_time": 1179.284011,
                        "learn": [
                          0.7990814561
                        ]
                      },
                      {
                        "passed_time": 1538.81537,
                        "iteration": 679,
                        "remaining_time": 1176.741165,
                        "learn": [
                          0.7990012385
                        ]
                      },
                      {
                        "passed_time": 1541.155063,
                        "iteration": 680,
                        "remaining_time": 1174.536678,
                        "learn": [
                          0.7988060022
                        ]
                      },
                      {
                        "passed_time": 1543.916728,
                        "iteration": 681,
                        "remaining_time": 1172.652295,
                        "learn": [
                          0.7986101367
                        ]
                      },
                      {
                        "passed_time": 1546.17052,
                        "iteration": 682,
                        "remaining_time": 1170.380906,
                        "learn": [
                          0.7983871682
                        ]
                      },
                      {
                        "passed_time": 1548.85692,
                        "iteration": 683,
                        "remaining_time": 1168.435922,
                        "learn": [
                          0.7981611175
                        ]
                      },
                      {
                        "passed_time": 1551.247002,
                        "iteration": 684,
                        "remaining_time": 1166.265994,
                        "learn": [
                          0.7980474007
                        ]
                      },
                      {
                        "passed_time": 1553.265131,
                        "iteration": 685,
                        "remaining_time": 1163.81673,
                        "learn": [
                          0.7978802392
                        ]
                      },
                      {
                        "passed_time": 1555.827652,
                        "iteration": 686,
                        "remaining_time": 1161.775233,
                        "learn": [
                          0.7977538173
                        ]
                      },
                      {
                        "passed_time": 1558.058933,
                        "iteration": 687,
                        "remaining_time": 1159.485718,
                        "learn": [
                          0.7976421746
                        ]
                      },
                      {
                        "passed_time": 1560.370986,
                        "iteration": 688,
                        "remaining_time": 1157.256276,
                        "learn": [
                          0.7975246622
                        ]
                      },
                      {
                        "passed_time": 1562.628012,
                        "iteration": 689,
                        "remaining_time": 1154.985922,
                        "learn": [
                          0.7973462397
                        ]
                      },
                      {
                        "passed_time": 1565.305511,
                        "iteration": 690,
                        "remaining_time": 1153.025333,
                        "learn": [
                          0.7971232088
                        ]
                      },
                      {
                        "passed_time": 1567.751659,
                        "iteration": 691,
                        "remaining_time": 1150.892836,
                        "learn": [
                          0.7969587276
                        ]
                      },
                      {
                        "passed_time": 1570.007128,
                        "iteration": 692,
                        "remaining_time": 1148.619934,
                        "learn": [
                          0.7968508913
                        ]
                      },
                      {
                        "passed_time": 1572.628589,
                        "iteration": 693,
                        "remaining_time": 1146.613928,
                        "learn": [
                          0.7966599573
                        ]
                      },
                      {
                        "passed_time": 1574.774129,
                        "iteration": 694,
                        "remaining_time": 1144.260338,
                        "learn": [
                          0.7965787257
                        ]
                      },
                      {
                        "passed_time": 1576.987857,
                        "iteration": 695,
                        "remaining_time": 1141.956724,
                        "learn": [
                          0.7964458005
                        ]
                      },
                      {
                        "passed_time": 1579.016912,
                        "iteration": 696,
                        "remaining_time": 1139.520096,
                        "learn": [
                          0.7962106459
                        ]
                      },
                      {
                        "passed_time": 1581.637543,
                        "iteration": 697,
                        "remaining_time": 1137.510096,
                        "learn": [
                          0.7960054931
                        ]
                      },
                      {
                        "passed_time": 1584.129117,
                        "iteration": 698,
                        "remaining_time": 1135.405848,
                        "learn": [
                          0.7958745359
                        ]
                      },
                      {
                        "passed_time": 1586.611091,
                        "iteration": 699,
                        "remaining_time": 1133.293637,
                        "learn": [
                          0.7957777198
                        ]
                      },
                      {
                        "passed_time": 1588.880147,
                        "iteration": 700,
                        "remaining_time": 1131.028806,
                        "learn": [
                          0.7956399231
                        ]
                      },
                      {
                        "passed_time": 1591.433346,
                        "iteration": 701,
                        "remaining_time": 1128.965536,
                        "learn": [
                          0.7955606685
                        ]
                      },
                      {
                        "passed_time": 1594.091803,
                        "iteration": 702,
                        "remaining_time": 1126.975286,
                        "learn": [
                          0.7952195881
                        ]
                      },
                      {
                        "passed_time": 1596.332623,
                        "iteration": 703,
                        "remaining_time": 1124.688894,
                        "learn": [
                          0.7951291431
                        ]
                      },
                      {
                        "passed_time": 1598.926944,
                        "iteration": 704,
                        "remaining_time": 1122.650833,
                        "learn": [
                          0.7949786076
                        ]
                      },
                      {
                        "passed_time": 1601.398137,
                        "iteration": 705,
                        "remaining_time": 1120.525042,
                        "learn": [
                          0.7948532034
                        ]
                      },
                      {
                        "passed_time": 1603.562104,
                        "iteration": 706,
                        "remaining_time": 1118.184041,
                        "learn": [
                          0.7947075214
                        ]
                      },
                      {
                        "passed_time": 1605.709979,
                        "iteration": 707,
                        "remaining_time": 1115.832358,
                        "learn": [
                          0.794492994
                        ]
                      },
                      {
                        "passed_time": 1608.382612,
                        "iteration": 708,
                        "remaining_time": 1113.844658,
                        "learn": [
                          0.7942840029
                        ]
                      },
                      {
                        "passed_time": 1610.941306,
                        "iteration": 709,
                        "remaining_time": 1111.776394,
                        "learn": [
                          0.7941245911
                        ]
                      },
                      {
                        "passed_time": 1613.257462,
                        "iteration": 710,
                        "remaining_time": 1109.539942,
                        "learn": [
                          0.7939861977
                        ]
                      },
                      {
                        "passed_time": 1615.289529,
                        "iteration": 711,
                        "remaining_time": 1107.108554,
                        "learn": [
                          0.7938643264
                        ]
                      },
                      {
                        "passed_time": 1617.695293,
                        "iteration": 712,
                        "remaining_time": 1104.933531,
                        "learn": [
                          0.7937709862
                        ]
                      },
                      {
                        "passed_time": 1620.216763,
                        "iteration": 713,
                        "remaining_time": 1102.83662,
                        "learn": [
                          0.7936317268
                        ]
                      },
                      {
                        "passed_time": 1622.777647,
                        "iteration": 714,
                        "remaining_time": 1100.765257,
                        "learn": [
                          0.7935215315
                        ]
                      },
                      {
                        "passed_time": 1625.433935,
                        "iteration": 715,
                        "remaining_time": 1098.757017,
                        "learn": [
                          0.7932964022
                        ]
                      },
                      {
                        "passed_time": 1627.903563,
                        "iteration": 716,
                        "remaining_time": 1096.621229,
                        "learn": [
                          0.7931064128
                        ]
                      },
                      {
                        "passed_time": 1630.013166,
                        "iteration": 717,
                        "remaining_time": 1094.242822,
                        "learn": [
                          0.793001792
                        ]
                      },
                      {
                        "passed_time": 1632.166172,
                        "iteration": 718,
                        "remaining_time": 1091.894199,
                        "learn": [
                          0.7929129589
                        ]
                      },
                      {
                        "passed_time": 1634.696227,
                        "iteration": 719,
                        "remaining_time": 1089.797485,
                        "learn": [
                          0.792855672
                        ]
                      },
                      {
                        "passed_time": 1636.703998,
                        "iteration": 720,
                        "remaining_time": 1087.352586,
                        "learn": [
                          0.7927616441
                        ]
                      },
                      {
                        "passed_time": 1639.287534,
                        "iteration": 721,
                        "remaining_time": 1085.290085,
                        "learn": [
                          0.7926206249
                        ]
                      },
                      {
                        "passed_time": 1641.255467,
                        "iteration": 722,
                        "remaining_time": 1082.819997,
                        "learn": [
                          0.7925256623
                        ]
                      },
                      {
                        "passed_time": 1643.786656,
                        "iteration": 723,
                        "remaining_time": 1080.721614,
                        "learn": [
                          0.792307694
                        ]
                      },
                      {
                        "passed_time": 1646.201623,
                        "iteration": 724,
                        "remaining_time": 1078.545891,
                        "learn": [
                          0.7920930919
                        ]
                      },
                      {
                        "passed_time": 1648.93823,
                        "iteration": 725,
                        "remaining_time": 1076.579506,
                        "learn": [
                          0.7919538001
                        ]
                      },
                      {
                        "passed_time": 1650.912564,
                        "iteration": 726,
                        "remaining_time": 1074.115052,
                        "learn": [
                          0.7918389845
                        ]
                      },
                      {
                        "passed_time": 1653.004346,
                        "iteration": 727,
                        "remaining_time": 1071.728092,
                        "learn": [
                          0.7917339174
                        ]
                      },
                      {
                        "passed_time": 1655.583702,
                        "iteration": 728,
                        "remaining_time": 1069.65696,
                        "learn": [
                          0.7915787168
                        ]
                      },
                      {
                        "passed_time": 1657.832185,
                        "iteration": 729,
                        "remaining_time": 1067.371407,
                        "learn": [
                          0.7914303013
                        ]
                      },
                      {
                        "passed_time": 1660.218457,
                        "iteration": 730,
                        "remaining_time": 1065.174359,
                        "learn": [
                          0.7913315991
                        ]
                      },
                      {
                        "passed_time": 1662.530632,
                        "iteration": 731,
                        "remaining_time": 1062.92942,
                        "learn": [
                          0.7912016613
                        ]
                      },
                      {
                        "passed_time": 1664.578253,
                        "iteration": 732,
                        "remaining_time": 1060.515749,
                        "learn": [
                          0.791136061
                        ]
                      },
                      {
                        "passed_time": 1667.124567,
                        "iteration": 733,
                        "remaining_time": 1058.419684,
                        "learn": [
                          0.791020599
                        ]
                      },
                      {
                        "passed_time": 1669.699382,
                        "iteration": 734,
                        "remaining_time": 1056.340425,
                        "learn": [
                          0.7908361847
                        ]
                      },
                      {
                        "passed_time": 1671.76532,
                        "iteration": 735,
                        "remaining_time": 1053.939006,
                        "learn": [
                          0.7907205536
                        ]
                      },
                      {
                        "passed_time": 1674.134758,
                        "iteration": 736,
                        "remaining_time": 1051.729163,
                        "learn": [
                          0.7906156473
                        ]
                      },
                      {
                        "passed_time": 1676.257059,
                        "iteration": 737,
                        "remaining_time": 1049.364175,
                        "learn": [
                          0.7905005332
                        ]
                      },
                      {
                        "passed_time": 1678.709586,
                        "iteration": 738,
                        "remaining_time": 1047.205845,
                        "learn": [
                          0.7903002232
                        ]
                      },
                      {
                        "passed_time": 1681.344105,
                        "iteration": 739,
                        "remaining_time": 1045.159849,
                        "learn": [
                          0.7901786678
                        ]
                      },
                      {
                        "passed_time": 1683.878032,
                        "iteration": 740,
                        "remaining_time": 1043.049955,
                        "learn": [
                          0.7900912698
                        ]
                      },
                      {
                        "passed_time": 1686.204578,
                        "iteration": 741,
                        "remaining_time": 1040.810912,
                        "learn": [
                          0.7899157254
                        ]
                      },
                      {
                        "passed_time": 1688.856719,
                        "iteration": 742,
                        "remaining_time": 1038.771899,
                        "learn": [
                          0.7896972741
                        ]
                      },
                      {
                        "passed_time": 1691.113493,
                        "iteration": 743,
                        "remaining_time": 1036.488915,
                        "learn": [
                          0.7895568312
                        ]
                      },
                      {
                        "passed_time": 1693.404155,
                        "iteration": 744,
                        "remaining_time": 1034.226698,
                        "learn": [
                          0.7894443621
                        ]
                      },
                      {
                        "passed_time": 1695.587813,
                        "iteration": 745,
                        "remaining_time": 1031.899286,
                        "learn": [
                          0.7893697651
                        ]
                      },
                      {
                        "passed_time": 1697.78103,
                        "iteration": 746,
                        "remaining_time": 1029.578055,
                        "learn": [
                          0.7892532028
                        ]
                      },
                      {
                        "passed_time": 1700.317106,
                        "iteration": 747,
                        "remaining_time": 1027.464347,
                        "learn": [
                          0.7891090634
                        ]
                      },
                      {
                        "passed_time": 1702.213534,
                        "iteration": 748,
                        "remaining_time": 1024.964358,
                        "learn": [
                          0.7890140308
                        ]
                      },
                      {
                        "passed_time": 1704.636515,
                        "iteration": 749,
                        "remaining_time": 1022.781909,
                        "learn": [
                          0.7888625164
                        ]
                      },
                      {
                        "passed_time": 1706.384102,
                        "iteration": 750,
                        "remaining_time": 1020.195022,
                        "learn": [
                          0.788772636
                        ]
                      },
                      {
                        "passed_time": 1708.725167,
                        "iteration": 751,
                        "remaining_time": 1017.96393,
                        "learn": [
                          0.7886266503
                        ]
                      },
                      {
                        "passed_time": 1711.205019,
                        "iteration": 752,
                        "remaining_time": 1015.814931,
                        "learn": [
                          0.7884962714
                        ]
                      },
                      {
                        "passed_time": 1714.897215,
                        "iteration": 753,
                        "remaining_time": 1014.382172,
                        "learn": [
                          0.7883686644
                        ]
                      },
                      {
                        "passed_time": 1717.815401,
                        "iteration": 754,
                        "remaining_time": 1012.487223,
                        "learn": [
                          0.7882491082
                        ]
                      },
                      {
                        "passed_time": 1720.506011,
                        "iteration": 755,
                        "remaining_time": 1010.455911,
                        "learn": [
                          0.7880647602
                        ]
                      },
                      {
                        "passed_time": 1722.870931,
                        "iteration": 756,
                        "remaining_time": 1008.232262,
                        "learn": [
                          0.7879236658
                        ]
                      },
                      {
                        "passed_time": 1725.083025,
                        "iteration": 757,
                        "remaining_time": 1005.919125,
                        "learn": [
                          0.7878314313
                        ]
                      },
                      {
                        "passed_time": 1727.346913,
                        "iteration": 758,
                        "remaining_time": 1003.636349,
                        "learn": [
                          0.7877022017
                        ]
                      },
                      {
                        "passed_time": 1729.682186,
                        "iteration": 759,
                        "remaining_time": 1001.39495,
                        "learn": [
                          0.7875957565
                        ]
                      },
                      {
                        "passed_time": 1731.702239,
                        "iteration": 760,
                        "remaining_time": 998.9714624,
                        "learn": [
                          0.7873710112
                        ]
                      },
                      {
                        "passed_time": 1733.95266,
                        "iteration": 761,
                        "remaining_time": 996.6814504,
                        "learn": [
                          0.787218385
                        ]
                      },
                      {
                        "passed_time": 1736.419381,
                        "iteration": 762,
                        "remaining_time": 994.5154253,
                        "learn": [
                          0.7871386273
                        ]
                      },
                      {
                        "passed_time": 1739.030327,
                        "iteration": 763,
                        "remaining_time": 992.4309195,
                        "learn": [
                          0.7869818994
                        ]
                      },
                      {
                        "passed_time": 1741.580548,
                        "iteration": 764,
                        "remaining_time": 990.3105077,
                        "learn": [
                          0.7868680106
                        ]
                      },
                      {
                        "passed_time": 1743.70276,
                        "iteration": 765,
                        "remaining_time": 987.9464722,
                        "learn": [
                          0.7867705436
                        ]
                      },
                      {
                        "passed_time": 1746.180496,
                        "iteration": 766,
                        "remaining_time": 985.7837743,
                        "learn": [
                          0.7866432689
                        ]
                      },
                      {
                        "passed_time": 1748.672161,
                        "iteration": 767,
                        "remaining_time": 983.6280905,
                        "learn": [
                          0.7865208254
                        ]
                      },
                      {
                        "passed_time": 1751.35539,
                        "iteration": 768,
                        "remaining_time": 981.5788987,
                        "learn": [
                          0.7863816384
                        ]
                      },
                      {
                        "passed_time": 1753.624262,
                        "iteration": 769,
                        "remaining_time": 979.2966659,
                        "learn": [
                          0.7862743293
                        ]
                      },
                      {
                        "passed_time": 1755.754139,
                        "iteration": 770,
                        "remaining_time": 976.9371278,
                        "learn": [
                          0.7861654559
                        ]
                      },
                      {
                        "passed_time": 1758.397724,
                        "iteration": 771,
                        "remaining_time": 974.8629868,
                        "learn": [
                          0.7859801617
                        ]
                      },
                      {
                        "passed_time": 1760.210389,
                        "iteration": 772,
                        "remaining_time": 972.3283776,
                        "learn": [
                          0.7858325116
                        ]
                      },
                      {
                        "passed_time": 1762.608125,
                        "iteration": 773,
                        "remaining_time": 970.11765,
                        "learn": [
                          0.7857148863
                        ]
                      },
                      {
                        "passed_time": 1765.168858,
                        "iteration": 774,
                        "remaining_time": 967.9958256,
                        "learn": [
                          0.7856009683
                        ]
                      },
                      {
                        "passed_time": 1767.725413,
                        "iteration": 775,
                        "remaining_time": 965.8705866,
                        "learn": [
                          0.7854408431
                        ]
                      },
                      {
                        "passed_time": 1770.435909,
                        "iteration": 776,
                        "remaining_time": 963.828043,
                        "learn": [
                          0.7852965145
                        ]
                      },
                      {
                        "passed_time": 1772.605849,
                        "iteration": 777,
                        "remaining_time": 961.4905762,
                        "learn": [
                          0.7851297927
                        ]
                      },
                      {
                        "passed_time": 1774.726962,
                        "iteration": 778,
                        "remaining_time": 959.1271516,
                        "learn": [
                          0.7850236982
                        ]
                      },
                      {
                        "passed_time": 1776.960122,
                        "iteration": 779,
                        "remaining_time": 956.8246808,
                        "learn": [
                          0.7849200082
                        ]
                      },
                      {
                        "passed_time": 1779.156152,
                        "iteration": 780,
                        "remaining_time": 954.5024685,
                        "learn": [
                          0.7848110446
                        ]
                      },
                      {
                        "passed_time": 1781.194898,
                        "iteration": 781,
                        "remaining_time": 952.0965057,
                        "learn": [
                          0.7846823824
                        ]
                      },
                      {
                        "passed_time": 1783.621209,
                        "iteration": 782,
                        "remaining_time": 949.897885,
                        "learn": [
                          0.7845537468
                        ]
                      },
                      {
                        "passed_time": 1785.772671,
                        "iteration": 783,
                        "remaining_time": 947.5528457,
                        "learn": [
                          0.7844119144
                        ]
                      },
                      {
                        "passed_time": 1787.673654,
                        "iteration": 784,
                        "remaining_time": 945.0758808,
                        "learn": [
                          0.7842392842
                        ]
                      },
                      {
                        "passed_time": 1789.681993,
                        "iteration": 785,
                        "remaining_time": 942.6569277,
                        "learn": [
                          0.7841500055
                        ]
                      },
                      {
                        "passed_time": 1791.80553,
                        "iteration": 786,
                        "remaining_time": 940.2994712,
                        "learn": [
                          0.784039569
                        ]
                      },
                      {
                        "passed_time": 1793.91441,
                        "iteration": 787,
                        "remaining_time": 937.9349456,
                        "learn": [
                          0.7839564405
                        ]
                      },
                      {
                        "passed_time": 1796.402336,
                        "iteration": 788,
                        "remaining_time": 935.7685172,
                        "learn": [
                          0.7838517834
                        ]
                      },
                      {
                        "passed_time": 1798.863735,
                        "iteration": 789,
                        "remaining_time": 933.5875079,
                        "learn": [
                          0.7836990349
                        ]
                      },
                      {
                        "passed_time": 1801.030757,
                        "iteration": 790,
                        "remaining_time": 931.2535775,
                        "learn": [
                          0.7835879937
                        ]
                      },
                      {
                        "passed_time": 1802.820917,
                        "iteration": 791,
                        "remaining_time": 928.7259268,
                        "learn": [
                          0.7835134288
                        ]
                      },
                      {
                        "passed_time": 1805.131322,
                        "iteration": 792,
                        "remaining_time": 926.4671476,
                        "learn": [
                          0.7833654988
                        ]
                      },
                      {
                        "passed_time": 1807.76739,
                        "iteration": 793,
                        "remaining_time": 924.3747612,
                        "learn": [
                          0.7832371931
                        ]
                      },
                      {
                        "passed_time": 1810.455963,
                        "iteration": 794,
                        "remaining_time": 922.307755,
                        "learn": [
                          0.7831190282
                        ]
                      },
                      {
                        "passed_time": 1812.516316,
                        "iteration": 795,
                        "remaining_time": 919.9203415,
                        "learn": [
                          0.7830163077
                        ]
                      },
                      {
                        "passed_time": 1814.962096,
                        "iteration": 796,
                        "remaining_time": 917.7286382,
                        "learn": [
                          0.7829223758
                        ]
                      },
                      {
                        "passed_time": 1817.391478,
                        "iteration": 797,
                        "remaining_time": 915.5280378,
                        "learn": [
                          0.782775514
                        ]
                      },
                      {
                        "passed_time": 1819.876208,
                        "iteration": 798,
                        "remaining_time": 913.3546426,
                        "learn": [
                          0.7826508979
                        ]
                      },
                      {
                        "passed_time": 1822.261238,
                        "iteration": 799,
                        "remaining_time": 911.130619,
                        "learn": [
                          0.7825725013
                        ]
                      },
                      {
                        "passed_time": 1824.510059,
                        "iteration": 800,
                        "remaining_time": 908.8383441,
                        "learn": [
                          0.7824233626
                        ]
                      },
                      {
                        "passed_time": 1826.538109,
                        "iteration": 801,
                        "remaining_time": 906.4366176,
                        "learn": [
                          0.7822737562
                        ]
                      },
                      {
                        "passed_time": 1829.023152,
                        "iteration": 802,
                        "remaining_time": 904.2617575,
                        "learn": [
                          0.7821230766
                        ]
                      },
                      {
                        "passed_time": 1831.646561,
                        "iteration": 803,
                        "remaining_time": 902.1542762,
                        "learn": [
                          0.7819281822
                        ]
                      },
                      {
                        "passed_time": 1833.548169,
                        "iteration": 804,
                        "remaining_time": 899.6913375,
                        "learn": [
                          0.7818482349
                        ]
                      },
                      {
                        "passed_time": 1836.054415,
                        "iteration": 805,
                        "remaining_time": 897.5253594,
                        "learn": [
                          0.7816814944
                        ]
                      },
                      {
                        "passed_time": 1838.702919,
                        "iteration": 806,
                        "remaining_time": 895.4278158,
                        "learn": [
                          0.78148805
                        ]
                      },
                      {
                        "passed_time": 1841.411589,
                        "iteration": 807,
                        "remaining_time": 893.3580976,
                        "learn": [
                          0.7813798267
                        ]
                      },
                      {
                        "passed_time": 1843.911042,
                        "iteration": 808,
                        "remaining_time": 891.1856827,
                        "learn": [
                          0.7813074228
                        ]
                      },
                      {
                        "passed_time": 1846.348235,
                        "iteration": 809,
                        "remaining_time": 888.9824836,
                        "learn": [
                          0.7812168378
                        ]
                      },
                      {
                        "passed_time": 1848.766548,
                        "iteration": 810,
                        "remaining_time": 886.7696512,
                        "learn": [
                          0.781078788
                        ]
                      },
                      {
                        "passed_time": 1850.960888,
                        "iteration": 811,
                        "remaining_time": 884.4492915,
                        "learn": [
                          0.780961539
                        ]
                      },
                      {
                        "passed_time": 1853.24873,
                        "iteration": 812,
                        "remaining_time": 882.1737496,
                        "learn": [
                          0.7808597271
                        ]
                      },
                      {
                        "passed_time": 1855.365931,
                        "iteration": 813,
                        "remaining_time": 879.8172598,
                        "learn": [
                          0.7807083642
                        ]
                      },
                      {
                        "passed_time": 1857.484401,
                        "iteration": 814,
                        "remaining_time": 877.4619562,
                        "learn": [
                          0.7806489967
                        ]
                      },
                      {
                        "passed_time": 1859.516266,
                        "iteration": 815,
                        "remaining_time": 875.0664783,
                        "learn": [
                          0.7805716477
                        ]
                      },
                      {
                        "passed_time": 1862.027011,
                        "iteration": 816,
                        "remaining_time": 872.8963834,
                        "learn": [
                          0.7804327909
                        ]
                      },
                      {
                        "passed_time": 1864.267403,
                        "iteration": 817,
                        "remaining_time": 870.599203,
                        "learn": [
                          0.7803658119
                        ]
                      },
                      {
                        "passed_time": 1866.784632,
                        "iteration": 818,
                        "remaining_time": 868.4309461,
                        "learn": [
                          0.7802435971
                        ]
                      },
                      {
                        "passed_time": 1868.609561,
                        "iteration": 819,
                        "remaining_time": 865.9410161,
                        "learn": [
                          0.7801662157
                        ]
                      },
                      {
                        "passed_time": 1870.772218,
                        "iteration": 820,
                        "remaining_time": 863.6086123,
                        "learn": [
                          0.7800882254
                        ]
                      },
                      {
                        "passed_time": 1872.855498,
                        "iteration": 821,
                        "remaining_time": 861.2401197,
                        "learn": [
                          0.7799002276
                        ]
                      },
                      {
                        "passed_time": 1875.269747,
                        "iteration": 822,
                        "remaining_time": 859.0239302,
                        "learn": [
                          0.7797802964
                        ]
                      },
                      {
                        "passed_time": 1877.392573,
                        "iteration": 823,
                        "remaining_time": 856.6742809,
                        "learn": [
                          0.779667832
                        ]
                      },
                      {
                        "passed_time": 1879.772801,
                        "iteration": 824,
                        "remaining_time": 854.442182,
                        "learn": [
                          0.7795394295
                        ]
                      },
                      {
                        "passed_time": 1882.283748,
                        "iteration": 825,
                        "remaining_time": 852.2689127,
                        "learn": [
                          0.779420824
                        ]
                      },
                      {
                        "passed_time": 1884.512401,
                        "iteration": 826,
                        "remaining_time": 849.9675039,
                        "learn": [
                          0.7793254943
                        ]
                      },
                      {
                        "passed_time": 1886.875397,
                        "iteration": 827,
                        "remaining_time": 847.7266275,
                        "learn": [
                          0.7790712213
                        ]
                      },
                      {
                        "passed_time": 1888.755833,
                        "iteration": 828,
                        "remaining_time": 845.2694981,
                        "learn": [
                          0.778954767
                        ]
                      },
                      {
                        "passed_time": 1891.31487,
                        "iteration": 829,
                        "remaining_time": 843.1162674,
                        "learn": [
                          0.7788513507
                        ]
                      },
                      {
                        "passed_time": 1893.558136,
                        "iteration": 830,
                        "remaining_time": 840.8218439,
                        "learn": [
                          0.7787435548
                        ]
                      },
                      {
                        "passed_time": 1895.689031,
                        "iteration": 831,
                        "remaining_time": 838.4778405,
                        "learn": [
                          0.7786569352
                        ]
                      },
                      {
                        "passed_time": 1898.206892,
                        "iteration": 832,
                        "remaining_time": 836.3048371,
                        "learn": [
                          0.7784853526
                        ]
                      },
                      {
                        "passed_time": 1900.819427,
                        "iteration": 833,
                        "remaining_time": 834.1725542,
                        "learn": [
                          0.778376767
                        ]
                      },
                      {
                        "passed_time": 1903.548472,
                        "iteration": 834,
                        "remaining_time": 832.0900505,
                        "learn": [
                          0.7782166482
                        ]
                      },
                      {
                        "passed_time": 1906.329735,
                        "iteration": 835,
                        "remaining_time": 830.0287363,
                        "learn": [
                          0.778058411
                        ]
                      },
                      {
                        "passed_time": 1908.415087,
                        "iteration": 836,
                        "remaining_time": 827.6638906,
                        "learn": [
                          0.7779751266
                        ]
                      },
                      {
                        "passed_time": 1910.769652,
                        "iteration": 837,
                        "remaining_time": 825.4160072,
                        "learn": [
                          0.7778165689
                        ]
                      },
                      {
                        "passed_time": 1913.221797,
                        "iteration": 838,
                        "remaining_time": 823.2098554,
                        "learn": [
                          0.7776466922
                        ]
                      },
                      {
                        "passed_time": 1915.775864,
                        "iteration": 839,
                        "remaining_time": 821.0467989,
                        "learn": [
                          0.7775069503
                        ]
                      },
                      {
                        "passed_time": 1917.953553,
                        "iteration": 840,
                        "remaining_time": 818.7221471,
                        "learn": [
                          0.7773798966
                        ]
                      },
                      {
                        "passed_time": 1920.340284,
                        "iteration": 841,
                        "remaining_time": 816.4867239,
                        "learn": [
                          0.7771790269
                        ]
                      },
                      {
                        "passed_time": 1922.69037,
                        "iteration": 842,
                        "remaining_time": 814.2354236,
                        "learn": [
                          0.7770571755
                        ]
                      },
                      {
                        "passed_time": 1925.430473,
                        "iteration": 843,
                        "remaining_time": 812.1483987,
                        "learn": [
                          0.7769262639
                        ]
                      },
                      {
                        "passed_time": 1927.680933,
                        "iteration": 844,
                        "remaining_time": 809.8541198,
                        "learn": [
                          0.7768264815
                        ]
                      },
                      {
                        "passed_time": 1930.137802,
                        "iteration": 845,
                        "remaining_time": 807.6463144,
                        "learn": [
                          0.7767523033
                        ]
                      },
                      {
                        "passed_time": 1932.596502,
                        "iteration": 846,
                        "remaining_time": 805.4386837,
                        "learn": [
                          0.7766593775
                        ]
                      },
                      {
                        "passed_time": 1934.824768,
                        "iteration": 847,
                        "remaining_time": 803.1348093,
                        "learn": [
                          0.7765660048
                        ]
                      },
                      {
                        "passed_time": 1937.292623,
                        "iteration": 848,
                        "remaining_time": 800.9301656,
                        "learn": [
                          0.776473258
                        ]
                      },
                      {
                        "passed_time": 1939.899049,
                        "iteration": 849,
                        "remaining_time": 798.7819614,
                        "learn": [
                          0.7763237209
                        ]
                      },
                      {
                        "passed_time": 1941.771343,
                        "iteration": 850,
                        "remaining_time": 796.3316084,
                        "learn": [
                          0.7762455614
                        ]
                      },
                      {
                        "passed_time": 1943.883847,
                        "iteration": 851,
                        "remaining_time": 793.9807264,
                        "learn": [
                          0.7761497627
                        ]
                      },
                      {
                        "passed_time": 1946.187642,
                        "iteration": 852,
                        "remaining_time": 791.7082201,
                        "learn": [
                          0.7760624043
                        ]
                      },
                      {
                        "passed_time": 1948.632293,
                        "iteration": 853,
                        "remaining_time": 789.4927089,
                        "learn": [
                          0.7759793913
                        ]
                      },
                      {
                        "passed_time": 1950.490237,
                        "iteration": 854,
                        "remaining_time": 787.03992,
                        "learn": [
                          0.7758731213
                        ]
                      },
                      {
                        "passed_time": 1952.657258,
                        "iteration": 855,
                        "remaining_time": 784.71273,
                        "learn": [
                          0.7757902279
                        ]
                      },
                      {
                        "passed_time": 1954.622923,
                        "iteration": 856,
                        "remaining_time": 782.3053241,
                        "learn": [
                          0.7757152747
                        ]
                      },
                      {
                        "passed_time": 1956.766355,
                        "iteration": 857,
                        "remaining_time": 779.9698058,
                        "learn": [
                          0.7756113572
                        ]
                      },
                      {
                        "passed_time": 1959.323162,
                        "iteration": 858,
                        "remaining_time": 777.7988338,
                        "learn": [
                          0.7754860846
                        ]
                      },
                      {
                        "passed_time": 1962.044658,
                        "iteration": 859,
                        "remaining_time": 775.6920739,
                        "learn": [
                          0.7753387825
                        ]
                      },
                      {
                        "passed_time": 1964.393091,
                        "iteration": 860,
                        "remaining_time": 773.4370009,
                        "learn": [
                          0.7752511907
                        ]
                      },
                      {
                        "passed_time": 1967.019678,
                        "iteration": 861,
                        "remaining_time": 771.2907786,
                        "learn": [
                          0.7750995843
                        ]
                      },
                      {
                        "passed_time": 1969.553242,
                        "iteration": 862,
                        "remaining_time": 769.1071175,
                        "learn": [
                          0.7749816838
                        ]
                      },
                      {
                        "passed_time": 1971.815358,
                        "iteration": 863,
                        "remaining_time": 766.8170836,
                        "learn": [
                          0.7748828922
                        ]
                      },
                      {
                        "passed_time": 1974.13462,
                        "iteration": 864,
                        "remaining_time": 764.549246,
                        "learn": [
                          0.7747858387
                        ]
                      },
                      {
                        "passed_time": 1976.333066,
                        "iteration": 865,
                        "remaining_time": 762.2346928,
                        "learn": [
                          0.7746306996
                        ]
                      },
                      {
                        "passed_time": 1978.805362,
                        "iteration": 866,
                        "remaining_time": 760.0255888,
                        "learn": [
                          0.7744765182
                        ]
                      },
                      {
                        "passed_time": 1980.82376,
                        "iteration": 867,
                        "remaining_time": 757.6422675,
                        "learn": [
                          0.7743363205
                        ]
                      },
                      {
                        "passed_time": 1982.728108,
                        "iteration": 868,
                        "remaining_time": 755.2163448,
                        "learn": [
                          0.7742366702
                        ]
                      },
                      {
                        "passed_time": 1985.223091,
                        "iteration": 869,
                        "remaining_time": 753.0156552,
                        "learn": [
                          0.7740823127
                        ]
                      },
                      {
                        "passed_time": 1987.637862,
                        "iteration": 870,
                        "remaining_time": 750.7839916,
                        "learn": [
                          0.773934605
                        ]
                      },
                      {
                        "passed_time": 1989.930674,
                        "iteration": 871,
                        "remaining_time": 748.5060333,
                        "learn": [
                          0.7737389504
                        ]
                      },
                      {
                        "passed_time": 1992.351557,
                        "iteration": 872,
                        "remaining_time": 746.2760128,
                        "learn": [
                          0.7735881424
                        ]
                      },
                      {
                        "passed_time": 1994.594188,
                        "iteration": 873,
                        "remaining_time": 743.9790678,
                        "learn": [
                          0.7734378019
                        ]
                      },
                      {
                        "passed_time": 1997.171019,
                        "iteration": 874,
                        "remaining_time": 741.8063786,
                        "learn": [
                          0.773280353
                        ]
                      },
                      {
                        "passed_time": 1999.562703,
                        "iteration": 875,
                        "remaining_time": 739.5642872,
                        "learn": [
                          0.7731887872
                        ]
                      },
                      {
                        "passed_time": 2001.799055,
                        "iteration": 876,
                        "remaining_time": 737.2646461,
                        "learn": [
                          0.7730717705
                        ]
                      },
                      {
                        "passed_time": 2004.3618,
                        "iteration": 877,
                        "remaining_time": 735.0848515,
                        "learn": [
                          0.7729506828
                        ]
                      },
                      {
                        "passed_time": 2006.647198,
                        "iteration": 878,
                        "remaining_time": 732.8029017,
                        "learn": [
                          0.7727899009
                        ]
                      },
                      {
                        "passed_time": 2009.133594,
                        "iteration": 879,
                        "remaining_time": 730.5940344,
                        "learn": [
                          0.7727104677
                        ]
                      },
                      {
                        "passed_time": 2011.50875,
                        "iteration": 880,
                        "remaining_time": 728.3442578,
                        "learn": [
                          0.7726188911
                        ]
                      },
                      {
                        "passed_time": 2013.296202,
                        "iteration": 881,
                        "remaining_time": 725.8823041,
                        "learn": [
                          0.7725151385
                        ]
                      },
                      {
                        "passed_time": 2015.732607,
                        "iteration": 882,
                        "remaining_time": 723.6548545,
                        "learn": [
                          0.7724047366
                        ]
                      },
                      {
                        "passed_time": 2017.895363,
                        "iteration": 883,
                        "remaining_time": 721.3291117,
                        "learn": [
                          0.7723306502
                        ]
                      },
                      {
                        "passed_time": 2020.008872,
                        "iteration": 884,
                        "remaining_time": 718.9862087,
                        "learn": [
                          0.7722581305
                        ]
                      },
                      {
                        "passed_time": 2022.637152,
                        "iteration": 885,
                        "remaining_time": 716.8262591,
                        "learn": [
                          0.7721421233
                        ]
                      },
                      {
                        "passed_time": 2025.206358,
                        "iteration": 886,
                        "remaining_time": 714.6444082,
                        "learn": [
                          0.7720199317
                        ]
                      },
                      {
                        "passed_time": 2027.44202,
                        "iteration": 887,
                        "remaining_time": 712.3444935,
                        "learn": [
                          0.7718396935
                        ]
                      },
                      {
                        "passed_time": 2029.717457,
                        "iteration": 888,
                        "remaining_time": 710.0586379,
                        "learn": [
                          0.7717454234
                        ]
                      },
                      {
                        "passed_time": 2032.077445,
                        "iteration": 889,
                        "remaining_time": 707.802256,
                        "learn": [
                          0.7716736812
                        ]
                      },
                      {
                        "passed_time": 2034.602401,
                        "iteration": 890,
                        "remaining_time": 705.6028528,
                        "learn": [
                          0.7715871279
                        ]
                      },
                      {
                        "passed_time": 2036.748392,
                        "iteration": 891,
                        "remaining_time": 703.2718662,
                        "learn": [
                          0.7715044402
                        ]
                      },
                      {
                        "passed_time": 2039.1842,
                        "iteration": 892,
                        "remaining_time": 701.0409287,
                        "learn": [
                          0.7713403633
                        ]
                      },
                      {
                        "passed_time": 2041.329388,
                        "iteration": 893,
                        "remaining_time": 698.7100589,
                        "learn": [
                          0.7712347461
                        ]
                      },
                      {
                        "passed_time": 2043.931428,
                        "iteration": 894,
                        "remaining_time": 696.5352911,
                        "learn": [
                          0.7711125478
                        ]
                      },
                      {
                        "passed_time": 2046.231925,
                        "iteration": 895,
                        "remaining_time": 694.2572602,
                        "learn": [
                          0.7709762759
                        ]
                      },
                      {
                        "passed_time": 2048.522397,
                        "iteration": 896,
                        "remaining_time": 691.9757931,
                        "learn": [
                          0.770838076
                        ]
                      },
                      {
                        "passed_time": 2050.896373,
                        "iteration": 897,
                        "remaining_time": 689.7223882,
                        "learn": [
                          0.7707433029
                        ]
                      },
                      {
                        "passed_time": 2052.795754,
                        "iteration": 898,
                        "remaining_time": 687.3098131,
                        "learn": [
                          0.7706573287
                        ]
                      },
                      {
                        "passed_time": 2054.674826,
                        "iteration": 899,
                        "remaining_time": 684.8916086,
                        "learn": [
                          0.7705468173
                        ]
                      },
                      {
                        "passed_time": 2056.82777,
                        "iteration": 900,
                        "remaining_time": 682.5654865,
                        "learn": [
                          0.7704689329
                        ]
                      },
                      {
                        "passed_time": 2059.152108,
                        "iteration": 901,
                        "remaining_time": 680.2963728,
                        "learn": [
                          0.7703344094
                        ]
                      },
                      {
                        "passed_time": 2061.395351,
                        "iteration": 902,
                        "remaining_time": 678.0004641,
                        "learn": [
                          0.7702645024
                        ]
                      },
                      {
                        "passed_time": 2063.478306,
                        "iteration": 903,
                        "remaining_time": 675.6521888,
                        "learn": [
                          0.7701800584
                        ]
                      },
                      {
                        "passed_time": 2065.949482,
                        "iteration": 904,
                        "remaining_time": 673.4310468,
                        "learn": [
                          0.7700733293
                        ]
                      },
                      {
                        "passed_time": 2068.168826,
                        "iteration": 905,
                        "remaining_time": 671.1276324,
                        "learn": [
                          0.7699921046
                        ]
                      },
                      {
                        "passed_time": 2070.748052,
                        "iteration": 906,
                        "remaining_time": 668.9406606,
                        "learn": [
                          0.7699054583
                        ]
                      },
                      {
                        "passed_time": 2072.956967,
                        "iteration": 907,
                        "remaining_time": 666.6337381,
                        "learn": [
                          0.7697600058
                        ]
                      },
                      {
                        "passed_time": 2075.041567,
                        "iteration": 908,
                        "remaining_time": 664.2872344,
                        "learn": [
                          0.769694815
                        ]
                      },
                      {
                        "passed_time": 2077.308,
                        "iteration": 909,
                        "remaining_time": 661.9992527,
                        "learn": [
                          0.769568351
                        ]
                      },
                      {
                        "passed_time": 2079.695235,
                        "iteration": 910,
                        "remaining_time": 659.7496409,
                        "learn": [
                          0.7694867105
                        ]
                      },
                      {
                        "passed_time": 2082.046249,
                        "iteration": 911,
                        "remaining_time": 657.4882892,
                        "learn": [
                          0.7693794354
                        ]
                      },
                      {
                        "passed_time": 2084.209718,
                        "iteration": 912,
                        "remaining_time": 655.1677865,
                        "learn": [
                          0.7692634891
                        ]
                      },
                      {
                        "passed_time": 2086.112769,
                        "iteration": 913,
                        "remaining_time": 652.76614,
                        "learn": [
                          0.7691639754
                        ]
                      },
                      {
                        "passed_time": 2088.486036,
                        "iteration": 914,
                        "remaining_time": 650.5120439,
                        "learn": [
                          0.7690599675
                        ]
                      },
                      {
                        "passed_time": 2091.035106,
                        "iteration": 915,
                        "remaining_time": 648.3121943,
                        "learn": [
                          0.7689582821
                        ]
                      },
                      {
                        "passed_time": 2093.202826,
                        "iteration": 916,
                        "remaining_time": 645.9938929,
                        "learn": [
                          0.7688772675
                        ]
                      },
                      {
                        "passed_time": 2095.372776,
                        "iteration": 917,
                        "remaining_time": 643.6766045,
                        "learn": [
                          0.7688063852
                        ]
                      },
                      {
                        "passed_time": 2097.504129,
                        "iteration": 918,
                        "remaining_time": 641.3478348,
                        "learn": [
                          0.7687566852
                        ]
                      },
                      {
                        "passed_time": 2099.915778,
                        "iteration": 919,
                        "remaining_time": 639.1048021,
                        "learn": [
                          0.768622352
                        ]
                      },
                      {
                        "passed_time": 2101.81745,
                        "iteration": 920,
                        "remaining_time": 636.7069149,
                        "learn": [
                          0.7685372383
                        ]
                      },
                      {
                        "passed_time": 2103.743214,
                        "iteration": 921,
                        "remaining_time": 634.3173682,
                        "learn": [
                          0.7684478526
                        ]
                      },
                      {
                        "passed_time": 2105.717267,
                        "iteration": 922,
                        "remaining_time": 631.9433186,
                        "learn": [
                          0.7683550435
                        ]
                      },
                      {
                        "passed_time": 2108.045374,
                        "iteration": 923,
                        "remaining_time": 629.6758909,
                        "learn": [
                          0.7682954849
                        ]
                      },
                      {
                        "passed_time": 2110.324545,
                        "iteration": 924,
                        "remaining_time": 627.3937837,
                        "learn": [
                          0.768211031
                        ]
                      },
                      {
                        "passed_time": 2112.784475,
                        "iteration": 925,
                        "remaining_time": 625.1651687,
                        "learn": [
                          0.7681039944
                        ]
                      },
                      {
                        "passed_time": 2115.630099,
                        "iteration": 926,
                        "remaining_time": 623.0496409,
                        "learn": [
                          0.7679422516
                        ]
                      },
                      {
                        "passed_time": 2118.110152,
                        "iteration": 927,
                        "remaining_time": 620.8253893,
                        "learn": [
                          0.7677934101
                        ]
                      },
                      {
                        "passed_time": 2120.171257,
                        "iteration": 928,
                        "remaining_time": 618.4783754,
                        "learn": [
                          0.7677030136
                        ]
                      },
                      {
                        "passed_time": 2122.635057,
                        "iteration": 929,
                        "remaining_time": 616.2488874,
                        "learn": [
                          0.7676183879
                        ]
                      },
                      {
                        "passed_time": 2125.973186,
                        "iteration": 930,
                        "remaining_time": 614.271522,
                        "learn": [
                          0.7675005694
                        ]
                      },
                      {
                        "passed_time": 2128.183055,
                        "iteration": 931,
                        "remaining_time": 611.9668013,
                        "learn": [
                          0.7674239136
                        ]
                      },
                      {
                        "passed_time": 2130.653908,
                        "iteration": 932,
                        "remaining_time": 609.7369704,
                        "learn": [
                          0.7673322068
                        ]
                      },
                      {
                        "passed_time": 2132.783764,
                        "iteration": 933,
                        "remaining_time": 607.4095089,
                        "learn": [
                          0.7672397247
                        ]
                      },
                      {
                        "passed_time": 2135.207389,
                        "iteration": 934,
                        "remaining_time": 605.1657307,
                        "learn": [
                          0.7671560826
                        ]
                      },
                      {
                        "passed_time": 2137.386261,
                        "iteration": 935,
                        "remaining_time": 602.8525353,
                        "learn": [
                          0.7670158736
                        ]
                      },
                      {
                        "passed_time": 2139.661856,
                        "iteration": 936,
                        "remaining_time": 600.5667751,
                        "learn": [
                          0.7669065476
                        ]
                      },
                      {
                        "passed_time": 2142.199599,
                        "iteration": 937,
                        "remaining_time": 598.3542591,
                        "learn": [
                          0.7668319916
                        ]
                      },
                      {
                        "passed_time": 2144.419206,
                        "iteration": 938,
                        "remaining_time": 596.0526227,
                        "learn": [
                          0.7667223557
                        ]
                      },
                      {
                        "passed_time": 2146.443926,
                        "iteration": 939,
                        "remaining_time": 593.697256,
                        "learn": [
                          0.7666169275
                        ]
                      },
                      {
                        "passed_time": 2148.477129,
                        "iteration": 940,
                        "remaining_time": 591.3449272,
                        "learn": [
                          0.7665095086
                        ]
                      },
                      {
                        "passed_time": 2150.843582,
                        "iteration": 941,
                        "remaining_time": 589.084548,
                        "learn": [
                          0.7663986502
                        ]
                      },
                      {
                        "passed_time": 2153.101363,
                        "iteration": 942,
                        "remaining_time": 586.794327,
                        "learn": [
                          0.7663470269
                        ]
                      },
                      {
                        "passed_time": 2155.670336,
                        "iteration": 943,
                        "remaining_time": 584.5885657,
                        "learn": [
                          0.7662692219
                        ]
                      },
                      {
                        "passed_time": 2158.393875,
                        "iteration": 944,
                        "remaining_time": 582.4237442,
                        "learn": [
                          0.766134821
                        ]
                      },
                      {
                        "passed_time": 2160.593283,
                        "iteration": 945,
                        "remaining_time": 580.1170127,
                        "learn": [
                          0.7660663849
                        ]
                      },
                      {
                        "passed_time": 2163.244667,
                        "iteration": 946,
                        "remaining_time": 577.9312573,
                        "learn": [
                          0.7659370184
                        ]
                      },
                      {
                        "passed_time": 2165.791342,
                        "iteration": 947,
                        "remaining_time": 575.7166859,
                        "learn": [
                          0.7658374795
                        ]
                      },
                      {
                        "passed_time": 2168.433014,
                        "iteration": 948,
                        "remaining_time": 573.52654,
                        "learn": [
                          0.7657704629
                        ]
                      },
                      {
                        "passed_time": 2171.25145,
                        "iteration": 949,
                        "remaining_time": 571.3819606,
                        "learn": [
                          0.7656827164
                        ]
                      },
                      {
                        "passed_time": 2173.79149,
                        "iteration": 950,
                        "remaining_time": 569.1630716,
                        "learn": [
                          0.7655692573
                        ]
                      },
                      {
                        "passed_time": 2176.189484,
                        "iteration": 951,
                        "remaining_time": 566.9065043,
                        "learn": [
                          0.7654644045
                        ]
                      },
                      {
                        "passed_time": 2178.036068,
                        "iteration": 952,
                        "remaining_time": 564.5067248,
                        "learn": [
                          0.765356214
                        ]
                      },
                      {
                        "passed_time": 2180.300726,
                        "iteration": 953,
                        "remaining_time": 562.2159104,
                        "learn": [
                          0.7652504091
                        ]
                      },
                      {
                        "passed_time": 2182.527554,
                        "iteration": 954,
                        "remaining_time": 559.9154458,
                        "learn": [
                          0.7651177982
                        ]
                      },
                      {
                        "passed_time": 2185.080624,
                        "iteration": 955,
                        "remaining_time": 557.6984018,
                        "learn": [
                          0.7649457942
                        ]
                      },
                      {
                        "passed_time": 2187.220536,
                        "iteration": 956,
                        "remaining_time": 555.3757473,
                        "learn": [
                          0.7648747408
                        ]
                      },
                      {
                        "passed_time": 2189.232755,
                        "iteration": 957,
                        "remaining_time": 553.0212178,
                        "learn": [
                          0.7648253221
                        ]
                      },
                      {
                        "passed_time": 2191.509113,
                        "iteration": 958,
                        "remaining_time": 550.7337813,
                        "learn": [
                          0.7647518077
                        ]
                      },
                      {
                        "passed_time": 2194.166526,
                        "iteration": 959,
                        "remaining_time": 548.5416316,
                        "learn": [
                          0.7646209665
                        ]
                      },
                      {
                        "passed_time": 2196.133908,
                        "iteration": 960,
                        "remaining_time": 546.1769033,
                        "learn": [
                          0.7644541207
                        ]
                      },
                      {
                        "passed_time": 2198.442026,
                        "iteration": 961,
                        "remaining_time": 543.8972996,
                        "learn": [
                          0.7643697932
                        ]
                      },
                      {
                        "passed_time": 2200.808736,
                        "iteration": 962,
                        "remaining_time": 541.6320566,
                        "learn": [
                          0.7642078056
                        ]
                      },
                      {
                        "passed_time": 2203.23752,
                        "iteration": 963,
                        "remaining_time": 539.3817995,
                        "learn": [
                          0.7641113211
                        ]
                      },
                      {
                        "passed_time": 2205.491435,
                        "iteration": 964,
                        "remaining_time": 537.0885879,
                        "learn": [
                          0.7639890889
                        ]
                      },
                      {
                        "passed_time": 2207.971771,
                        "iteration": 965,
                        "remaining_time": 534.8503048,
                        "learn": [
                          0.7639252918
                        ]
                      },
                      {
                        "passed_time": 2210.02995,
                        "iteration": 966,
                        "remaining_time": 532.5098019,
                        "learn": [
                          0.7638134649
                        ]
                      },
                      {
                        "passed_time": 2211.825713,
                        "iteration": 967,
                        "remaining_time": 530.1069892,
                        "learn": [
                          0.7637307297
                        ]
                      },
                      {
                        "passed_time": 2213.888736,
                        "iteration": 968,
                        "remaining_time": 527.7691414,
                        "learn": [
                          0.7636300669
                        ]
                      },
                      {
                        "passed_time": 2215.949823,
                        "iteration": 969,
                        "remaining_time": 525.4314013,
                        "learn": [
                          0.7635086202
                        ]
                      },
                      {
                        "passed_time": 2218.101743,
                        "iteration": 970,
                        "remaining_time": 523.1156531,
                        "learn": [
                          0.7634289722
                        ]
                      },
                      {
                        "passed_time": 2220.501867,
                        "iteration": 971,
                        "remaining_time": 520.8584627,
                        "learn": [
                          0.7633299706
                        ]
                      },
                      {
                        "passed_time": 2222.638737,
                        "iteration": 972,
                        "remaining_time": 518.5395614,
                        "learn": [
                          0.7632646463
                        ]
                      },
                      {
                        "passed_time": 2225.139718,
                        "iteration": 973,
                        "remaining_time": 516.3055197,
                        "learn": [
                          0.7631739892
                        ]
                      },
                      {
                        "passed_time": 2227.20726,
                        "iteration": 974,
                        "remaining_time": 513.9709062,
                        "learn": [
                          0.7630821548
                        ]
                      },
                      {
                        "passed_time": 2229.572067,
                        "iteration": 975,
                        "remaining_time": 511.7050645,
                        "learn": [
                          0.7629860558
                        ]
                      },
                      {
                        "passed_time": 2232.110941,
                        "iteration": 976,
                        "remaining_time": 509.4787512,
                        "learn": [
                          0.7629308035
                        ]
                      },
                      {
                        "passed_time": 2234.172051,
                        "iteration": 977,
                        "remaining_time": 507.1433491,
                        "learn": [
                          0.7628008421
                        ]
                      },
                      {
                        "passed_time": 2236.257784,
                        "iteration": 978,
                        "remaining_time": 504.8140657,
                        "learn": [
                          0.7627003341
                        ]
                      },
                      {
                        "passed_time": 2238.920292,
                        "iteration": 979,
                        "remaining_time": 502.6147595,
                        "learn": [
                          0.7625966818
                        ]
                      },
                      {
                        "passed_time": 2241.758631,
                        "iteration": 980,
                        "remaining_time": 500.4537618,
                        "learn": [
                          0.7624330718
                        ]
                      },
                      {
                        "passed_time": 2243.992897,
                        "iteration": 981,
                        "remaining_time": 498.1572827,
                        "learn": [
                          0.7623037133
                        ]
                      },
                      {
                        "passed_time": 2246.386923,
                        "iteration": 982,
                        "remaining_time": 495.8961977,
                        "learn": [
                          0.7621953683
                        ]
                      },
                      {
                        "passed_time": 2248.723049,
                        "iteration": 983,
                        "remaining_time": 493.6221328,
                        "learn": [
                          0.7621209675
                        ]
                      },
                      {
                        "passed_time": 2250.763347,
                        "iteration": 984,
                        "remaining_time": 491.2833702,
                        "learn": [
                          0.7619964849
                        ]
                      },
                      {
                        "passed_time": 2253.088256,
                        "iteration": 985,
                        "remaining_time": 489.0069847,
                        "learn": [
                          0.7619092012
                        ]
                      },
                      {
                        "passed_time": 2255.058054,
                        "iteration": 986,
                        "remaining_time": 486.6538657,
                        "learn": [
                          0.7618378769
                        ]
                      },
                      {
                        "passed_time": 2257.654461,
                        "iteration": 987,
                        "remaining_time": 484.4359775,
                        "learn": [
                          0.7617429887
                        ]
                      },
                      {
                        "passed_time": 2260.222921,
                        "iteration": 988,
                        "remaining_time": 482.2113614,
                        "learn": [
                          0.7616376505
                        ]
                      },
                      {
                        "passed_time": 2262.607053,
                        "iteration": 989,
                        "remaining_time": 479.9469505,
                        "learn": [
                          0.7615584505
                        ]
                      },
                      {
                        "passed_time": 2264.623432,
                        "iteration": 990,
                        "remaining_time": 477.60474,
                        "learn": [
                          0.7614765119
                        ]
                      },
                      {
                        "passed_time": 2267.006854,
                        "iteration": 991,
                        "remaining_time": 475.3401467,
                        "learn": [
                          0.7613867184
                        ]
                      },
                      {
                        "passed_time": 2269.331143,
                        "iteration": 992,
                        "remaining_time": 473.0629874,
                        "learn": [
                          0.7613376563
                        ]
                      },
                      {
                        "passed_time": 2271.532597,
                        "iteration": 993,
                        "remaining_time": 470.7602767,
                        "learn": [
                          0.7612489419
                        ]
                      },
                      {
                        "passed_time": 2273.514311,
                        "iteration": 994,
                        "remaining_time": 468.4124961,
                        "learn": [
                          0.7611996715
                        ]
                      },
                      {
                        "passed_time": 2275.623773,
                        "iteration": 995,
                        "remaining_time": 466.0916161,
                        "learn": [
                          0.7611292111
                        ]
                      },
                      {
                        "passed_time": 2278.039624,
                        "iteration": 996,
                        "remaining_time": 463.8335444,
                        "learn": [
                          0.7610746598
                        ]
                      },
                      {
                        "passed_time": 2279.930708,
                        "iteration": 997,
                        "remaining_time": 461.4689408,
                        "learn": [
                          0.7609863983
                        ]
                      },
                      {
                        "passed_time": 2281.90146,
                        "iteration": 998,
                        "remaining_time": 459.1213147,
                        "learn": [
                          0.7608950385
                        ]
                      },
                      {
                        "passed_time": 2284.357138,
                        "iteration": 999,
                        "remaining_time": 456.8714276,
                        "learn": [
                          0.7607992871
                        ]
                      },
                      {
                        "passed_time": 2286.949777,
                        "iteration": 1000,
                        "remaining_time": 454.6483573,
                        "learn": [
                          0.7607226621
                        ]
                      },
                      {
                        "passed_time": 2289.325138,
                        "iteration": 1001,
                        "remaining_time": 452.3816142,
                        "learn": [
                          0.7606435472
                        ]
                      },
                      {
                        "passed_time": 2291.767103,
                        "iteration": 1002,
                        "remaining_time": 450.1277361,
                        "learn": [
                          0.760530523
                        ]
                      },
                      {
                        "passed_time": 2294.007712,
                        "iteration": 1003,
                        "remaining_time": 447.8341748,
                        "learn": [
                          0.7604520822
                        ]
                      },
                      {
                        "passed_time": 2296.438904,
                        "iteration": 1004,
                        "remaining_time": 445.5776978,
                        "learn": [
                          0.7603139032
                        ]
                      },
                      {
                        "passed_time": 2298.751035,
                        "iteration": 1005,
                        "remaining_time": 443.2979132,
                        "learn": [
                          0.760252972
                        ]
                      },
                      {
                        "passed_time": 2300.812302,
                        "iteration": 1006,
                        "remaining_time": 440.9699843,
                        "learn": [
                          0.7601593818
                        ]
                      },
                      {
                        "passed_time": 2303.228676,
                        "iteration": 1007,
                        "remaining_time": 438.710224,
                        "learn": [
                          0.7600904939
                        ]
                      },
                      {
                        "passed_time": 2305.312635,
                        "iteration": 1008,
                        "remaining_time": 436.3872282,
                        "learn": [
                          0.7599870096
                        ]
                      },
                      {
                        "passed_time": 2307.577869,
                        "iteration": 1009,
                        "remaining_time": 434.098807,
                        "learn": [
                          0.7599204138
                        ]
                      },
                      {
                        "passed_time": 2309.80014,
                        "iteration": 1010,
                        "remaining_time": 431.8024,
                        "learn": [
                          0.759868997
                        ]
                      },
                      {
                        "passed_time": 2312.356685,
                        "iteration": 1011,
                        "remaining_time": 429.568238,
                        "learn": [
                          0.7597444811
                        ]
                      },
                      {
                        "passed_time": 2314.96087,
                        "iteration": 1012,
                        "remaining_time": 427.3422337,
                        "learn": [
                          0.7596189604
                        ]
                      },
                      {
                        "passed_time": 2317.33827,
                        "iteration": 1013,
                        "remaining_time": 425.0738839,
                        "learn": [
                          0.7595182739
                        ]
                      },
                      {
                        "passed_time": 2319.199875,
                        "iteration": 1014,
                        "remaining_time": 422.7113074,
                        "learn": [
                          0.7594601834
                        ]
                      },
                      {
                        "passed_time": 2321.828658,
                        "iteration": 1015,
                        "remaining_time": 420.4886545,
                        "learn": [
                          0.7593660696
                        ]
                      },
                      {
                        "passed_time": 2324.484419,
                        "iteration": 1016,
                        "remaining_time": 418.2700576,
                        "learn": [
                          0.7592928112
                        ]
                      },
                      {
                        "passed_time": 2326.61378,
                        "iteration": 1017,
                        "remaining_time": 415.9564911,
                        "learn": [
                          0.7591967886
                        ]
                      },
                      {
                        "passed_time": 2328.946387,
                        "iteration": 1018,
                        "remaining_time": 413.6793876,
                        "learn": [
                          0.7590920546
                        ]
                      },
                      {
                        "passed_time": 2331.180524,
                        "iteration": 1019,
                        "remaining_time": 411.3847983,
                        "learn": [
                          0.7590215768
                        ]
                      },
                      {
                        "passed_time": 2333.077248,
                        "iteration": 1020,
                        "remaining_time": 409.0311727,
                        "learn": [
                          0.7589270896
                        ]
                      },
                      {
                        "passed_time": 2335.093293,
                        "iteration": 1021,
                        "remaining_time": 406.6992233,
                        "learn": [
                          0.7588625557
                        ]
                      },
                      {
                        "passed_time": 2336.904865,
                        "iteration": 1022,
                        "remaining_time": 404.3325133,
                        "learn": [
                          0.7587510962
                        ]
                      },
                      {
                        "passed_time": 2338.673328,
                        "iteration": 1023,
                        "remaining_time": 401.9594783,
                        "learn": [
                          0.7586677851
                        ]
                      },
                      {
                        "passed_time": 2341.302312,
                        "iteration": 1024,
                        "remaining_time": 399.734541,
                        "learn": [
                          0.7585598068
                        ]
                      },
                      {
                        "passed_time": 2343.652049,
                        "iteration": 1025,
                        "remaining_time": 397.4614586,
                        "learn": [
                          0.7584921886
                        ]
                      },
                      {
                        "passed_time": 2346.327128,
                        "iteration": 1026,
                        "remaining_time": 395.2430313,
                        "learn": [
                          0.7584043127
                        ]
                      },
                      {
                        "passed_time": 2348.477606,
                        "iteration": 1027,
                        "remaining_time": 392.9359419,
                        "learn": [
                          0.7583475149
                        ]
                      },
                      {
                        "passed_time": 2350.608491,
                        "iteration": 1028,
                        "remaining_time": 390.6259008,
                        "learn": [
                          0.7582744458
                        ]
                      },
                      {
                        "passed_time": 2352.889514,
                        "iteration": 1029,
                        "remaining_time": 388.3409877,
                        "learn": [
                          0.758163747
                        ]
                      },
                      {
                        "passed_time": 2355.496157,
                        "iteration": 1030,
                        "remaining_time": 386.1094573,
                        "learn": [
                          0.7580625877
                        ]
                      },
                      {
                        "passed_time": 2358.005682,
                        "iteration": 1031,
                        "remaining_time": 383.8613901,
                        "learn": [
                          0.7580113976
                        ]
                      },
                      {
                        "passed_time": 2360.595253,
                        "iteration": 1032,
                        "remaining_time": 381.6257573,
                        "learn": [
                          0.7579231033
                        ]
                      },
                      {
                        "passed_time": 2363.217728,
                        "iteration": 1033,
                        "remaining_time": 379.3947223,
                        "learn": [
                          0.7578456747
                        ]
                      },
                      {
                        "passed_time": 2365.893651,
                        "iteration": 1034,
                        "remaining_time": 377.1714516,
                        "learn": [
                          0.7577757319
                        ]
                      },
                      {
                        "passed_time": 2368.397267,
                        "iteration": 1035,
                        "remaining_time": 374.9200307,
                        "learn": [
                          0.7576627737
                        ]
                      },
                      {
                        "passed_time": 2370.595719,
                        "iteration": 1036,
                        "remaining_time": 372.6201564,
                        "learn": [
                          0.757536892
                        ]
                      },
                      {
                        "passed_time": 2372.887096,
                        "iteration": 1037,
                        "remaining_time": 370.3349802,
                        "learn": [
                          0.7574757523
                        ]
                      },
                      {
                        "passed_time": 2375.476415,
                        "iteration": 1038,
                        "remaining_time": 368.0959604,
                        "learn": [
                          0.7573964075
                        ]
                      },
                      {
                        "passed_time": 2377.833221,
                        "iteration": 1039,
                        "remaining_time": 365.8204955,
                        "learn": [
                          0.7572843116
                        ]
                      },
                      {
                        "passed_time": 2380.056461,
                        "iteration": 1040,
                        "remaining_time": 363.5244738,
                        "learn": [
                          0.7571436194
                        ]
                      },
                      {
                        "passed_time": 2382.678506,
                        "iteration": 1041,
                        "remaining_time": 361.2890633,
                        "learn": [
                          0.7570494478
                        ]
                      },
                      {
                        "passed_time": 2385.446786,
                        "iteration": 1042,
                        "remaining_time": 359.0749237,
                        "learn": [
                          0.7569468496
                        ]
                      },
                      {
                        "passed_time": 2387.883498,
                        "iteration": 1043,
                        "remaining_time": 356.8101779,
                        "learn": [
                          0.7568712583
                        ]
                      },
                      {
                        "passed_time": 2390.196855,
                        "iteration": 1044,
                        "remaining_time": 354.5268063,
                        "learn": [
                          0.7567895911
                        ]
                      },
                      {
                        "passed_time": 2392.715392,
                        "iteration": 1045,
                        "remaining_time": 352.2735854,
                        "learn": [
                          0.7567114229
                        ]
                      },
                      {
                        "passed_time": 2395.337067,
                        "iteration": 1046,
                        "remaining_time": 350.0349296,
                        "learn": [
                          0.7566221126
                        ]
                      },
                      {
                        "passed_time": 2397.480187,
                        "iteration": 1047,
                        "remaining_time": 347.726134,
                        "learn": [
                          0.7565606922
                        ]
                      },
                      {
                        "passed_time": 2399.446204,
                        "iteration": 1048,
                        "remaining_time": 345.3921608,
                        "learn": [
                          0.7565059658
                        ]
                      },
                      {
                        "passed_time": 2401.876776,
                        "iteration": 1049,
                        "remaining_time": 343.1252537,
                        "learn": [
                          0.7563920306
                        ]
                      },
                      {
                        "passed_time": 2404.467153,
                        "iteration": 1050,
                        "remaining_time": 340.8806906,
                        "learn": [
                          0.7562600909
                        ]
                      },
                      {
                        "passed_time": 2406.69772,
                        "iteration": 1051,
                        "remaining_time": 338.5848504,
                        "learn": [
                          0.7561564402
                        ]
                      },
                      {
                        "passed_time": 2409.315635,
                        "iteration": 1052,
                        "remaining_time": 336.3432083,
                        "learn": [
                          0.7560260303
                        ]
                      },
                      {
                        "passed_time": 2411.987497,
                        "iteration": 1053,
                        "remaining_time": 334.108325,
                        "learn": [
                          0.7559297212
                        ]
                      },
                      {
                        "passed_time": 2414.167236,
                        "iteration": 1054,
                        "remaining_time": 331.8049755,
                        "learn": [
                          0.755834428
                        ]
                      },
                      {
                        "passed_time": 2416.654675,
                        "iteration": 1055,
                        "remaining_time": 329.5438194,
                        "learn": [
                          0.7557187812
                        ]
                      },
                      {
                        "passed_time": 2418.670007,
                        "iteration": 1056,
                        "remaining_time": 327.2183642,
                        "learn": [
                          0.7556414396
                        ]
                      },
                      {
                        "passed_time": 2420.908585,
                        "iteration": 1057,
                        "remaining_time": 324.9234584,
                        "learn": [
                          0.7555357618
                        ]
                      },
                      {
                        "passed_time": 2423.667108,
                        "iteration": 1058,
                        "remaining_time": 322.6978869,
                        "learn": [
                          0.7554153403
                        ]
                      },
                      {
                        "passed_time": 2426.156855,
                        "iteration": 1059,
                        "remaining_time": 320.4358111,
                        "learn": [
                          0.7553238815
                        ]
                      },
                      {
                        "passed_time": 2428.637343,
                        "iteration": 1060,
                        "remaining_time": 318.172093,
                        "learn": [
                          0.7552501792
                        ]
                      },
                      {
                        "passed_time": 2430.621106,
                        "iteration": 1061,
                        "remaining_time": 315.8434205,
                        "learn": [
                          0.7551710848
                        ]
                      },
                      {
                        "passed_time": 2433.155344,
                        "iteration": 1062,
                        "remaining_time": 313.5863425,
                        "learn": [
                          0.7550555743
                        ]
                      },
                      {
                        "passed_time": 2435.769225,
                        "iteration": 1063,
                        "remaining_time": 311.3389234,
                        "learn": [
                          0.7549247206
                        ]
                      },
                      {
                        "passed_time": 2438.23625,
                        "iteration": 1064,
                        "remaining_time": 309.0722007,
                        "learn": [
                          0.7548823484
                        ]
                      },
                      {
                        "passed_time": 2440.770026,
                        "iteration": 1065,
                        "remaining_time": 306.8134929,
                        "learn": [
                          0.7547972526
                        ]
                      },
                      {
                        "passed_time": 2443.291899,
                        "iteration": 1066,
                        "remaining_time": 304.5527859,
                        "learn": [
                          0.7547303715
                        ]
                      },
                      {
                        "passed_time": 2445.13505,
                        "iteration": 1067,
                        "remaining_time": 302.2077028,
                        "learn": [
                          0.7546475289
                        ]
                      },
                      {
                        "passed_time": 2447.486787,
                        "iteration": 1068,
                        "remaining_time": 299.9258832,
                        "learn": [
                          0.7545613282
                        ]
                      },
                      {
                        "passed_time": 2449.719074,
                        "iteration": 1069,
                        "remaining_time": 297.6294203,
                        "learn": [
                          0.7544673185
                        ]
                      },
                      {
                        "passed_time": 2451.527018,
                        "iteration": 1070,
                        "remaining_time": 295.2819657,
                        "learn": [
                          0.7544273645
                        ]
                      },
                      {
                        "passed_time": 2453.586913,
                        "iteration": 1071,
                        "remaining_time": 292.9656015,
                        "learn": [
                          0.7543178231
                        ]
                      },
                      {
                        "passed_time": 2455.959068,
                        "iteration": 1072,
                        "remaining_time": 290.6866743,
                        "learn": [
                          0.7542476477
                        ]
                      },
                      {
                        "passed_time": 2458.569131,
                        "iteration": 1073,
                        "remaining_time": 288.4354846,
                        "learn": [
                          0.7541173267
                        ]
                      },
                      {
                        "passed_time": 2460.497045,
                        "iteration": 1074,
                        "remaining_time": 286.1043075,
                        "learn": [
                          0.7540475348
                        ]
                      },
                      {
                        "passed_time": 2462.468144,
                        "iteration": 1075,
                        "remaining_time": 283.7788568,
                        "learn": [
                          0.7539629924
                        ]
                      },
                      {
                        "passed_time": 2464.872742,
                        "iteration": 1076,
                        "remaining_time": 281.5035722,
                        "learn": [
                          0.7538196702
                        ]
                      },
                      {
                        "passed_time": 2467.087307,
                        "iteration": 1077,
                        "remaining_time": 279.2065412,
                        "learn": [
                          0.7537481083
                        ]
                      },
                      {
                        "passed_time": 2469.382505,
                        "iteration": 1078,
                        "remaining_time": 276.9187053,
                        "learn": [
                          0.7536843794
                        ]
                      },
                      {
                        "passed_time": 2471.444103,
                        "iteration": 1079,
                        "remaining_time": 274.6049004,
                        "learn": [
                          0.7535819988
                        ]
                      },
                      {
                        "passed_time": 2473.440573,
                        "iteration": 1080,
                        "remaining_time": 272.2843924,
                        "learn": [
                          0.7535432786
                        ]
                      },
                      {
                        "passed_time": 2475.377364,
                        "iteration": 1081,
                        "remaining_time": 269.957975,
                        "learn": [
                          0.7534552858
                        ]
                      },
                      {
                        "passed_time": 2477.750406,
                        "iteration": 1082,
                        "remaining_time": 267.6794068,
                        "learn": [
                          0.7533642586
                        ]
                      },
                      {
                        "passed_time": 2479.781612,
                        "iteration": 1083,
                        "remaining_time": 265.3640839,
                        "learn": [
                          0.753292065
                        ]
                      },
                      {
                        "passed_time": 2482.347266,
                        "iteration": 1084,
                        "remaining_time": 263.1059314,
                        "learn": [
                          0.7532100354
                        ]
                      },
                      {
                        "passed_time": 2484.458493,
                        "iteration": 1085,
                        "remaining_time": 260.7995103,
                        "learn": [
                          0.7531698427
                        ]
                      },
                      {
                        "passed_time": 2487.186792,
                        "iteration": 1086,
                        "remaining_time": 258.5575966,
                        "learn": [
                          0.7531063062
                        ]
                      },
                      {
                        "passed_time": 2489.705859,
                        "iteration": 1087,
                        "remaining_time": 256.2932502,
                        "learn": [
                          0.7530435072
                        ]
                      },
                      {
                        "passed_time": 2492.17378,
                        "iteration": 1088,
                        "remaining_time": 254.0232227,
                        "learn": [
                          0.752938799
                        ]
                      },
                      {
                        "passed_time": 2494.652711,
                        "iteration": 1089,
                        "remaining_time": 251.7539433,
                        "learn": [
                          0.7528253444
                        ]
                      },
                      {
                        "passed_time": 2497.088355,
                        "iteration": 1090,
                        "remaining_time": 249.4799548,
                        "learn": [
                          0.7527358137
                        ]
                      },
                      {
                        "passed_time": 2499.251937,
                        "iteration": 1091,
                        "remaining_time": 247.178763,
                        "learn": [
                          0.7525974712
                        ]
                      },
                      {
                        "passed_time": 2501.344309,
                        "iteration": 1092,
                        "remaining_time": 244.8708519,
                        "learn": [
                          0.752526341
                        ]
                      },
                      {
                        "passed_time": 2503.907364,
                        "iteration": 1093,
                        "remaining_time": 242.6089402,
                        "learn": [
                          0.7524102745
                        ]
                      },
                      {
                        "passed_time": 2506.091351,
                        "iteration": 1094,
                        "remaining_time": 240.3101295,
                        "learn": [
                          0.7523527537
                        ]
                      },
                      {
                        "passed_time": 2508.420987,
                        "iteration": 1095,
                        "remaining_time": 238.0253492,
                        "learn": [
                          0.7522335995
                        ]
                      },
                      {
                        "passed_time": 2511.35704,
                        "iteration": 1096,
                        "remaining_time": 235.7974249,
                        "learn": [
                          0.7521312702
                        ]
                      },
                      {
                        "passed_time": 2513.786038,
                        "iteration": 1097,
                        "remaining_time": 233.5211073,
                        "learn": [
                          0.7520747237
                        ]
                      },
                      {
                        "passed_time": 2515.633004,
                        "iteration": 1098,
                        "remaining_time": 231.1910222,
                        "learn": [
                          0.7520342236
                        ]
                      },
                      {
                        "passed_time": 2517.788405,
                        "iteration": 1099,
                        "remaining_time": 228.889855,
                        "learn": [
                          0.7519453824
                        ]
                      },
                      {
                        "passed_time": 2520.048627,
                        "iteration": 1100,
                        "remaining_time": 226.5983779,
                        "learn": [
                          0.7518735657
                        ]
                      },
                      {
                        "passed_time": 2522.315745,
                        "iteration": 1101,
                        "remaining_time": 224.3075707,
                        "learn": [
                          0.7517486701
                        ]
                      },
                      {
                        "passed_time": 2524.919285,
                        "iteration": 1102,
                        "remaining_time": 222.0463923,
                        "learn": [
                          0.7516796086
                        ]
                      },
                      {
                        "passed_time": 2527.05396,
                        "iteration": 1103,
                        "remaining_time": 219.7438226,
                        "learn": [
                          0.7515954108
                        ]
                      },
                      {
                        "passed_time": 2529.663147,
                        "iteration": 1104,
                        "remaining_time": 217.482352,
                        "learn": [
                          0.751506475
                        ]
                      },
                      {
                        "passed_time": 2532.216505,
                        "iteration": 1105,
                        "remaining_time": 215.2155077,
                        "learn": [
                          0.7513976042
                        ]
                      },
                      {
                        "passed_time": 2534.744349,
                        "iteration": 1106,
                        "remaining_time": 212.9460022,
                        "learn": [
                          0.7513455765
                        ]
                      },
                      {
                        "passed_time": 2536.790975,
                        "iteration": 1107,
                        "remaining_time": 210.6360737,
                        "learn": [
                          0.7513029935
                        ]
                      },
                      {
                        "passed_time": 2539.029788,
                        "iteration": 1108,
                        "remaining_time": 208.3423902,
                        "learn": [
                          0.7511947527
                        ]
                      },
                      {
                        "passed_time": 2540.995343,
                        "iteration": 1109,
                        "remaining_time": 206.0266494,
                        "learn": [
                          0.7511389115
                        ]
                      },
                      {
                        "passed_time": 2543.437507,
                        "iteration": 1110,
                        "remaining_time": 203.7497192,
                        "learn": [
                          0.7510315593
                        ]
                      },
                      {
                        "passed_time": 2545.778025,
                        "iteration": 1111,
                        "remaining_time": 201.4644481,
                        "learn": [
                          0.7509718852
                        ]
                      },
                      {
                        "passed_time": 2548.203934,
                        "iteration": 1112,
                        "remaining_time": 199.1857522,
                        "learn": [
                          0.7508654237
                        ]
                      },
                      {
                        "passed_time": 2550.213424,
                        "iteration": 1113,
                        "remaining_time": 196.8746449,
                        "learn": [
                          0.7508048322
                        ]
                      },
                      {
                        "passed_time": 2552.26358,
                        "iteration": 1114,
                        "remaining_time": 194.5671787,
                        "learn": [
                          0.7506987696
                        ]
                      },
                      {
                        "passed_time": 2554.447191,
                        "iteration": 1115,
                        "remaining_time": 192.2702187,
                        "learn": [
                          0.7506454629
                        ]
                      },
                      {
                        "passed_time": 2557.011439,
                        "iteration": 1116,
                        "remaining_time": 190.0017452,
                        "learn": [
                          0.7505658749
                        ]
                      },
                      {
                        "passed_time": 2559.713909,
                        "iteration": 1117,
                        "remaining_time": 187.7428807,
                        "learn": [
                          0.7504861147
                        ]
                      },
                      {
                        "passed_time": 2562.094302,
                        "iteration": 1118,
                        "remaining_time": 185.4599092,
                        "learn": [
                          0.7503956827
                        ]
                      },
                      {
                        "passed_time": 2564.550876,
                        "iteration": 1119,
                        "remaining_time": 183.1822054,
                        "learn": [
                          0.7502941674
                        ]
                      },
                      {
                        "passed_time": 2566.505912,
                        "iteration": 1120,
                        "remaining_time": 180.8688377,
                        "learn": [
                          0.7502430482
                        ]
                      },
                      {
                        "passed_time": 2568.541265,
                        "iteration": 1121,
                        "remaining_time": 178.5616922,
                        "learn": [
                          0.7501060789
                        ]
                      },
                      {
                        "passed_time": 2571.05207,
                        "iteration": 1122,
                        "remaining_time": 176.2876308,
                        "learn": [
                          0.7500378812
                        ]
                      },
                      {
                        "passed_time": 2573.312505,
                        "iteration": 1123,
                        "remaining_time": 173.9962192,
                        "learn": [
                          0.7499703849
                        ]
                      },
                      {
                        "passed_time": 2575.895853,
                        "iteration": 1124,
                        "remaining_time": 171.7263902,
                        "learn": [
                          0.7498808957
                        ]
                      },
                      {
                        "passed_time": 2578.493078,
                        "iteration": 1125,
                        "remaining_time": 169.4569163,
                        "learn": [
                          0.749758619
                        ]
                      },
                      {
                        "passed_time": 2580.484887,
                        "iteration": 1126,
                        "remaining_time": 167.1476457,
                        "learn": [
                          0.7496762287
                        ]
                      },
                      {
                        "passed_time": 2582.579408,
                        "iteration": 1127,
                        "remaining_time": 164.8454941,
                        "learn": [
                          0.7496031475
                        ]
                      },
                      {
                        "passed_time": 2584.971211,
                        "iteration": 1128,
                        "remaining_time": 162.5624057,
                        "learn": [
                          0.7495237776
                        ]
                      },
                      {
                        "passed_time": 2587.198399,
                        "iteration": 1129,
                        "remaining_time": 160.2689274,
                        "learn": [
                          0.7493952953
                        ]
                      },
                      {
                        "passed_time": 2589.165564,
                        "iteration": 1130,
                        "remaining_time": 157.9597029,
                        "learn": [
                          0.749314202
                        ]
                      },
                      {
                        "passed_time": 2591.571485,
                        "iteration": 1131,
                        "remaining_time": 155.677439,
                        "learn": [
                          0.7492510611
                        ]
                      },
                      {
                        "passed_time": 2594.000089,
                        "iteration": 1132,
                        "remaining_time": 153.3962983,
                        "learn": [
                          0.7491766147
                        ]
                      },
                      {
                        "passed_time": 2595.776549,
                        "iteration": 1133,
                        "remaining_time": 151.076942,
                        "learn": [
                          0.7491380043
                        ]
                      },
                      {
                        "passed_time": 2598.04311,
                        "iteration": 1134,
                        "remaining_time": 148.7866098,
                        "learn": [
                          0.7490725067
                        ]
                      },
                      {
                        "passed_time": 2600.355252,
                        "iteration": 1135,
                        "remaining_time": 146.4988874,
                        "learn": [
                          0.7490256941
                        ]
                      },
                      {
                        "passed_time": 2602.940203,
                        "iteration": 1136,
                        "remaining_time": 144.2262381,
                        "learn": [
                          0.7489016382
                        ]
                      },
                      {
                        "passed_time": 2605.023551,
                        "iteration": 1137,
                        "remaining_time": 141.9257119,
                        "learn": [
                          0.7488376936
                        ]
                      },
                      {
                        "passed_time": 2607.179556,
                        "iteration": 1138,
                        "remaining_time": 139.6294582,
                        "learn": [
                          0.7487263448
                        ]
                      },
                      {
                        "passed_time": 2609.347721,
                        "iteration": 1139,
                        "remaining_time": 137.3340906,
                        "learn": [
                          0.7486121759
                        ]
                      },
                      {
                        "passed_time": 2612.007672,
                        "iteration": 1140,
                        "remaining_time": 135.0643757,
                        "learn": [
                          0.748517642
                        ]
                      },
                      {
                        "passed_time": 2614.71828,
                        "iteration": 1141,
                        "remaining_time": 132.7965501,
                        "learn": [
                          0.7484134064
                        ]
                      },
                      {
                        "passed_time": 2617.140713,
                        "iteration": 1142,
                        "remaining_time": 130.5135789,
                        "learn": [
                          0.7483658123
                        ]
                      },
                      {
                        "passed_time": 2619.43274,
                        "iteration": 1143,
                        "remaining_time": 128.2239803,
                        "learn": [
                          0.748331502
                        ]
                      },
                      {
                        "passed_time": 2621.662306,
                        "iteration": 1144,
                        "remaining_time": 125.9313772,
                        "learn": [
                          0.7482662326
                        ]
                      },
                      {
                        "passed_time": 2624.017487,
                        "iteration": 1145,
                        "remaining_time": 123.6448031,
                        "learn": [
                          0.7481499023
                        ]
                      },
                      {
                        "passed_time": 2626.596552,
                        "iteration": 1146,
                        "remaining_time": 121.3684545,
                        "learn": [
                          0.7480974115
                        ]
                      },
                      {
                        "passed_time": 2629.266057,
                        "iteration": 1147,
                        "remaining_time": 119.0956751,
                        "learn": [
                          0.7480282031
                        ]
                      },
                      {
                        "passed_time": 2631.511112,
                        "iteration": 1148,
                        "remaining_time": 116.8033653,
                        "learn": [
                          0.7479539593
                        ]
                      },
                      {
                        "passed_time": 2633.732278,
                        "iteration": 1149,
                        "remaining_time": 114.510099,
                        "learn": [
                          0.7479019671
                        ]
                      },
                      {
                        "passed_time": 2636.044662,
                        "iteration": 1150,
                        "remaining_time": 112.2208414,
                        "learn": [
                          0.7478057885
                        ]
                      },
                      {
                        "passed_time": 2637.857581,
                        "iteration": 1151,
                        "remaining_time": 109.9107326,
                        "learn": [
                          0.7477765032
                        ]
                      },
                      {
                        "passed_time": 2639.95329,
                        "iteration": 1152,
                        "remaining_time": 107.6130136,
                        "learn": [
                          0.7477312546
                        ]
                      },
                      {
                        "passed_time": 2642.528593,
                        "iteration": 1153,
                        "remaining_time": 105.3347619,
                        "learn": [
                          0.7476411594
                        ]
                      },
                      {
                        "passed_time": 2644.787075,
                        "iteration": 1154,
                        "remaining_time": 103.0436523,
                        "learn": [
                          0.7475935303
                        ]
                      },
                      {
                        "passed_time": 2647.46694,
                        "iteration": 1155,
                        "remaining_time": 100.7686378,
                        "learn": [
                          0.7474556266
                        ]
                      },
                      {
                        "passed_time": 2650.061799,
                        "iteration": 1156,
                        "remaining_time": 98.48976434,
                        "learn": [
                          0.7473883011
                        ]
                      },
                      {
                        "passed_time": 2652.503068,
                        "iteration": 1157,
                        "remaining_time": 96.20477449,
                        "learn": [
                          0.7473259576
                        ]
                      },
                      {
                        "passed_time": 2654.45255,
                        "iteration": 1158,
                        "remaining_time": 93.90211782,
                        "learn": [
                          0.7472061175
                        ]
                      },
                      {
                        "passed_time": 2657.086305,
                        "iteration": 1159,
                        "remaining_time": 91.62366568,
                        "learn": [
                          0.7471087625
                        ]
                      },
                      {
                        "passed_time": 2659.257976,
                        "iteration": 1160,
                        "remaining_time": 89.3290793,
                        "learn": [
                          0.746966014
                        ]
                      },
                      {
                        "passed_time": 2661.120806,
                        "iteration": 1161,
                        "remaining_time": 87.02460467,
                        "learn": [
                          0.7469167708
                        ]
                      },
                      {
                        "passed_time": 2663.610302,
                        "iteration": 1162,
                        "remaining_time": 84.74082646,
                        "learn": [
                          0.7468746119
                        ]
                      },
                      {
                        "passed_time": 2665.59791,
                        "iteration": 1163,
                        "remaining_time": 82.44117247,
                        "learn": [
                          0.7467887192
                        ]
                      },
                      {
                        "passed_time": 2668.184036,
                        "iteration": 1164,
                        "remaining_time": 80.16003541,
                        "learn": [
                          0.7467341451
                        ]
                      },
                      {
                        "passed_time": 2670.172383,
                        "iteration": 1165,
                        "remaining_time": 77.86094426,
                        "learn": [
                          0.7466897414
                        ]
                      },
                      {
                        "passed_time": 2672.126296,
                        "iteration": 1166,
                        "remaining_time": 75.56141198,
                        "learn": [
                          0.74663326
                        ]
                      },
                      {
                        "passed_time": 2674.542182,
                        "iteration": 1167,
                        "remaining_time": 73.27512826,
                        "learn": [
                          0.7466050392
                        ]
                      },
                      {
                        "passed_time": 2676.763038,
                        "iteration": 1168,
                        "remaining_time": 70.98345096,
                        "learn": [
                          0.7465600431
                        ]
                      },
                      {
                        "passed_time": 2679.360729,
                        "iteration": 1169,
                        "remaining_time": 68.70155716,
                        "learn": [
                          0.7465031955
                        ]
                      },
                      {
                        "passed_time": 2681.932741,
                        "iteration": 1170,
                        "remaining_time": 66.41848803,
                        "learn": [
                          0.7464251676
                        ]
                      },
                      {
                        "passed_time": 2684.399446,
                        "iteration": 1171,
                        "remaining_time": 64.13240996,
                        "learn": [
                          0.7463916821
                        ]
                      },
                      {
                        "passed_time": 2686.970459,
                        "iteration": 1172,
                        "remaining_time": 61.84842488,
                        "learn": [
                          0.7462932259
                        ]
                      },
                      {
                        "passed_time": 2689.545138,
                        "iteration": 1173,
                        "remaining_time": 59.56403202,
                        "learn": [
                          0.7462087398
                        ]
                      },
                      {
                        "passed_time": 2691.967275,
                        "iteration": 1174,
                        "remaining_time": 57.27589946,
                        "learn": [
                          0.7461450763
                        ]
                      },
                      {
                        "passed_time": 2694.189622,
                        "iteration": 1175,
                        "remaining_time": 54.98346168,
                        "learn": [
                          0.7460743807
                        ]
                      },
                      {
                        "passed_time": 2696.275667,
                        "iteration": 1176,
                        "remaining_time": 52.68847947,
                        "learn": [
                          0.746014608
                        ]
                      },
                      {
                        "passed_time": 2698.67665,
                        "iteration": 1177,
                        "remaining_time": 50.3997337,
                        "learn": [
                          0.7459344012
                        ]
                      },
                      {
                        "passed_time": 2700.863389,
                        "iteration": 1178,
                        "remaining_time": 48.10698148,
                        "learn": [
                          0.7458519389
                        ]
                      },
                      {
                        "passed_time": 2703.450438,
                        "iteration": 1179,
                        "remaining_time": 45.82119386,
                        "learn": [
                          0.7457941251
                        ]
                      },
                      {
                        "passed_time": 2705.681287,
                        "iteration": 1180,
                        "remaining_time": 43.52916549,
                        "learn": [
                          0.7457467851
                        ]
                      },
                      {
                        "passed_time": 2708.419537,
                        "iteration": 1181,
                        "remaining_time": 41.24496757,
                        "learn": [
                          0.7456915489
                        ]
                      },
                      {
                        "passed_time": 2710.73112,
                        "iteration": 1182,
                        "remaining_time": 38.95387071,
                        "learn": [
                          0.7456452182
                        ]
                      },
                      {
                        "passed_time": 2713.030712,
                        "iteration": 1183,
                        "remaining_time": 36.66257719,
                        "learn": [
                          0.7455679699
                        ]
                      },
                      {
                        "passed_time": 2715.710352,
                        "iteration": 1184,
                        "remaining_time": 34.3760804,
                        "learn": [
                          0.7454791183
                        ]
                      },
                      {
                        "passed_time": 2717.92465,
                        "iteration": 1185,
                        "remaining_time": 32.08342757,
                        "learn": [
                          0.745422508
                        ]
                      },
                      {
                        "passed_time": 2720.505572,
                        "iteration": 1186,
                        "remaining_time": 29.79492202,
                        "learn": [
                          0.7453534163
                        ]
                      },
                      {
                        "passed_time": 2722.594766,
                        "iteration": 1187,
                        "remaining_time": 27.50095723,
                        "learn": [
                          0.7452528074
                        ]
                      },
                      {
                        "passed_time": 2725.141482,
                        "iteration": 1188,
                        "remaining_time": 25.21156964,
                        "learn": [
                          0.7452018124
                        ]
                      },
                      {
                        "passed_time": 2727.731571,
                        "iteration": 1189,
                        "remaining_time": 22.92211404,
                        "learn": [
                          0.7451484786
                        ]
                      },
                      {
                        "passed_time": 2729.954457,
                        "iteration": 1190,
                        "remaining_time": 20.62937877,
                        "learn": [
                          0.7450703679
                        ]
                      },
                      {
                        "passed_time": 2732.453516,
                        "iteration": 1191,
                        "remaining_time": 18.3386142,
                        "learn": [
                          0.7450340542
                        ]
                      },
                      {
                        "passed_time": 2734.895606,
                        "iteration": 1192,
                        "remaining_time": 16.04716617,
                        "learn": [
                          0.7449518827
                        ]
                      },
                      {
                        "passed_time": 2736.84843,
                        "iteration": 1193,
                        "remaining_time": 13.75300719,
                        "learn": [
                          0.744862034
                        ]
                      },
                      {
                        "passed_time": 2739.085994,
                        "iteration": 1194,
                        "remaining_time": 11.46061085,
                        "learn": [
                          0.744663709
                        ]
                      },
                      {
                        "passed_time": 2741.179972,
                        "iteration": 1195,
                        "remaining_time": 9.167825995,
                        "learn": [
                          0.7445953382
                        ]
                      },
                      {
                        "passed_time": 2743.802713,
                        "iteration": 1196,
                        "remaining_time": 6.876698528,
                        "learn": [
                          0.7445040746
                        ]
                      },
                      {
                        "passed_time": 2746.041845,
                        "iteration": 1197,
                        "remaining_time": 4.584377037,
                        "learn": [
                          0.7444229586
                        ]
                      },
                      {
                        "passed_time": 2748.66772,
                        "iteration": 1198,
                        "remaining_time": 2.292466822,
                        "learn": [
                          0.7443135153
                        ]
                      },
                      {
                        "passed_time": 2750.849355,
                        "iteration": 1199,
                        "remaining_time": 0,
                        "learn": [
                          0.7442353546
                        ]
                      }
                    ]
                  },
                  "total_iterations": 1200,
                  "passed_iterations": 1199
                },
                "path": "catboost_info",
                "name": "catboost_info"
              }
            },
            "_view_module": "catboost-widget",
            "_model_module_version": "^1.0.0",
            "_view_count": null,
            "_view_module_version": "^1.0.0",
            "layout": "IPY_MODEL_87cc51d7ed474687a88a8fda3e5f6853",
            "_model_module": "catboost-widget"
          }
        }
      }
    }
  },
  "cells": [
    {
      "cell_type": "markdown",
      "metadata": {
        "id": "Zqhl9Log9vUZ"
      },
      "source": [
        "# install stuff"
      ]
    },
    {
      "cell_type": "code",
      "metadata": {
        "id": "pwAQnete9vUg"
      },
      "source": [
        "from IPython.display import clear_output\n",
        "! pip3 install pyspark pandas scikit-learn\n",
        "clear_output()"
      ],
      "execution_count": 1,
      "outputs": []
    },
    {
      "cell_type": "markdown",
      "metadata": {
        "id": "SeCL6SXs9vUh"
      },
      "source": [
        "# setup pyspark"
      ]
    },
    {
      "cell_type": "code",
      "metadata": {
        "id": "dNDYPcDD9vUi"
      },
      "source": [
        "import pyspark.sql\n",
        "from pyspark.sql import functions as sf\n",
        "import pyspark"
      ],
      "execution_count": 2,
      "outputs": []
    },
    {
      "cell_type": "code",
      "metadata": {
        "id": "Hpi2bNP_9vUj"
      },
      "source": [
        "sparkConf = pyspark.SparkConf() \\\n",
        "    .set(\"spark.executor.memory\", \"1024m\")\\\n",
        "    .set(\"spark.driver.memory\", \"1024m\")\n",
        "ss = pyspark.sql.SparkSession.builder.config(conf=sparkConf).master('local[1]').getOrCreate()"
      ],
      "execution_count": 3,
      "outputs": []
    },
    {
      "cell_type": "markdown",
      "metadata": {
        "id": "RSis_gcY9vUk"
      },
      "source": [
        "# load data"
      ]
    },
    {
      "cell_type": "code",
      "metadata": {
        "colab": {
          "base_uri": "https://localhost:8080/"
        },
        "id": "AFQvzjPGuvn7",
        "outputId": "0a3d690c-bf92-494b-9526-0ff8407a2c53"
      },
      "source": [
        "! gdown https://drive.google.com/uc?id=1o_L2a62TCVTgCZfY08N6oMGeyY2tTTol"
      ],
      "execution_count": 4,
      "outputs": [
        {
          "output_type": "stream",
          "text": [
            "Downloading...\n",
            "From: https://drive.google.com/uc?id=1o_L2a62TCVTgCZfY08N6oMGeyY2tTTol\n",
            "To: /content/hw_data.zip\n",
            "763MB [00:07, 108MB/s] \n"
          ],
          "name": "stdout"
        }
      ]
    },
    {
      "cell_type": "code",
      "metadata": {
        "id": "XeqhIwCi_5JN"
      },
      "source": [
        "! unzip hw_data.zip\n",
        "clear_output()"
      ],
      "execution_count": 5,
      "outputs": []
    },
    {
      "cell_type": "code",
      "metadata": {
        "id": "8Y4kOfXV9vUl"
      },
      "source": [
        "train_data = ss.read.orc('/content/posts_train.orc')\n",
        "test_data = ss.read.orc('/content/posts_test.orc')\n",
        "channel_data = ss.read.orc('/content/channels_orc')"
      ],
      "execution_count": 6,
      "outputs": []
    },
    {
      "cell_type": "markdown",
      "metadata": {
        "id": "CTFuXqql9vUm"
      },
      "source": [
        "# make features"
      ]
    },
    {
      "cell_type": "code",
      "metadata": {
        "id": "cDEOQAx9B2XS"
      },
      "source": [
        "def show(df):\n",
        "  return df.limit(50).toPandas()"
      ],
      "execution_count": 7,
      "outputs": []
    },
    {
      "cell_type": "markdown",
      "metadata": {
        "id": "uA7zj93gXKWD"
      },
      "source": [
        "Выделение года в отдельную фичу"
      ]
    },
    {
      "cell_type": "code",
      "metadata": {
        "id": "Uai9mv21M4Dc"
      },
      "source": [
        "@sf.udf\n",
        "def year(date):\n",
        "  t = date[:4]\n",
        "  try: \n",
        "    t \n",
        "  except:\n",
        "    t = -1\n",
        "  return t\n",
        "  \n",
        "train_data = train_data.withColumn('year', year('date'))\n",
        "test_data = test_data.withColumn('year', year('date'))"
      ],
      "execution_count": 8,
      "outputs": []
    },
    {
      "cell_type": "code",
      "metadata": {
        "id": "_oj9OS1wP9n-"
      },
      "source": [
        "train_data = train_data.withColumn('year', sf.col('year').cast('int'))\n",
        "test_data = test_data.withColumn('year', sf.col('year').cast('int'))"
      ],
      "execution_count": 9,
      "outputs": []
    },
    {
      "cell_type": "markdown",
      "metadata": {
        "id": "CaYJDrtfXU6K"
      },
      "source": [
        "Выделение месяца в отдельную фичу"
      ]
    },
    {
      "cell_type": "code",
      "metadata": {
        "id": "vsfui0pnPXY4"
      },
      "source": [
        "@sf.udf\n",
        "def month(date):\n",
        "  t = date[5:7]\n",
        "  try: \n",
        "    t \n",
        "  except:\n",
        "    t = -1\n",
        "  return t\n",
        "  \n",
        "train_data = train_data.withColumn('month', month('date'))\n",
        "test_data = test_data.withColumn('month', month('date'))"
      ],
      "execution_count": 10,
      "outputs": []
    },
    {
      "cell_type": "code",
      "metadata": {
        "id": "YWBSh9WJPz_B"
      },
      "source": [
        "train_data = train_data.withColumn('month', sf.col('month').cast('int'))\n",
        "test_data = test_data.withColumn('month', sf.col('month').cast('int'))"
      ],
      "execution_count": 11,
      "outputs": []
    },
    {
      "cell_type": "markdown",
      "metadata": {
        "id": "j5rvllnIXvEb"
      },
      "source": [
        "Выделение дня в отдельную фичу"
      ]
    },
    {
      "cell_type": "code",
      "metadata": {
        "id": "MCgO72-JQxbd"
      },
      "source": [
        "@sf.udf\n",
        "def day(date):\n",
        "  t = date[8:10]\n",
        "  try: \n",
        "    t \n",
        "  except:\n",
        "    t = -1\n",
        "  return t\n",
        "  \n",
        "train_data = train_data.withColumn('day', day('date'))\n",
        "test_data = test_data.withColumn('day', day('date'))"
      ],
      "execution_count": 12,
      "outputs": []
    },
    {
      "cell_type": "code",
      "metadata": {
        "id": "ubcxTQUFQxbi"
      },
      "source": [
        "train_data = train_data.withColumn('day', sf.col('day').cast('int'))\n",
        "test_data = test_data.withColumn('day', sf.col('day').cast('int'))"
      ],
      "execution_count": 13,
      "outputs": []
    },
    {
      "cell_type": "markdown",
      "metadata": {
        "id": "E-Tl1U9RX2c1"
      },
      "source": [
        "Выделение часа в отдельную фичу"
      ]
    },
    {
      "cell_type": "code",
      "metadata": {
        "id": "em23A-q3RKuH"
      },
      "source": [
        "@sf.udf\n",
        "def hour(date):\n",
        "  t = date[11:13]\n",
        "  try: \n",
        "    t \n",
        "  except:\n",
        "    t = -1\n",
        "  return t\n",
        "  \n",
        "train_data = train_data.withColumn('hour', hour('date'))\n",
        "test_data = test_data.withColumn('hour', hour('date'))"
      ],
      "execution_count": 14,
      "outputs": []
    },
    {
      "cell_type": "code",
      "metadata": {
        "id": "pP3aNnmmRKuJ"
      },
      "source": [
        "train_data = train_data.withColumn('hour', sf.col('hour').cast('int'))\n",
        "test_data = test_data.withColumn('hour', sf.col('hour').cast('int'))"
      ],
      "execution_count": 15,
      "outputs": []
    },
    {
      "cell_type": "markdown",
      "metadata": {
        "id": "jmHN6GIPX9fv"
      },
      "source": [
        "Выделение минут в отдельную фичу"
      ]
    },
    {
      "cell_type": "code",
      "metadata": {
        "id": "BQuyoPu_Rq63"
      },
      "source": [
        "@sf.udf\n",
        "def minute(date):\n",
        "  t = date[14:16]\n",
        "  try: \n",
        "    t \n",
        "  except:\n",
        "    t = -1\n",
        "  return t\n",
        "  \n",
        "train_data = train_data.withColumn('minute', minute('date'))\n",
        "test_data = test_data.withColumn('minute', minute('date'))"
      ],
      "execution_count": 16,
      "outputs": []
    },
    {
      "cell_type": "code",
      "metadata": {
        "id": "LzM5ALMjRq66"
      },
      "source": [
        "train_data = train_data.withColumn('minute', sf.col('minute').cast('int'))\n",
        "test_data = test_data.withColumn('minute', sf.col('minute').cast('int'))"
      ],
      "execution_count": 17,
      "outputs": []
    },
    {
      "cell_type": "markdown",
      "metadata": {
        "id": "OCkJVEr5YZGp"
      },
      "source": [
        "Фича date больше не нужна"
      ]
    },
    {
      "cell_type": "code",
      "metadata": {
        "id": "ZVsTtYi5Qt7u"
      },
      "source": [
        "train_data = train_data.drop('date')\n",
        "test_data = test_data.drop('date')"
      ],
      "execution_count": 18,
      "outputs": []
    },
    {
      "cell_type": "markdown",
      "metadata": {
        "id": "km1XJ8jSdSRf"
      },
      "source": [
        "## 1. Фичи, использующие текстовые поля"
      ]
    },
    {
      "cell_type": "markdown",
      "metadata": {
        "id": "Xd-mgpqhdKPr"
      },
      "source": [
        "- Определение количества слов в тексте"
      ]
    },
    {
      "cell_type": "code",
      "metadata": {
        "id": "wnCN2aYTcVn3"
      },
      "source": [
        "train_data = train_data.withColumn('word_count', sf.size(sf.split(sf.col('text'), ' ')))\n",
        "test_data = test_data.withColumn('word_count', sf.size(sf.split(sf.col('text'), ' ')))"
      ],
      "execution_count": 19,
      "outputs": []
    },
    {
      "cell_type": "markdown",
      "metadata": {
        "id": "b36oQPqjdiAc"
      },
      "source": [
        "- определение наличия хэшэй в тексте. Популярные темы и явления отмечаются хэшами, по которым удобно переходить, следовательно, такие посты будут иметь больше просмотров. "
      ]
    },
    {
      "cell_type": "code",
      "metadata": {
        "id": "QV3lPu6qcVz5"
      },
      "source": [
        "train_data = train_data.withColumn('hash_count', sf.col('text').like('%' + '#' + '%'))\n",
        "test_data = test_data.withColumn('hash_count', sf.col('text').like('%' + '#' + '%'))"
      ],
      "execution_count": 20,
      "outputs": []
    },
    {
      "cell_type": "code",
      "metadata": {
        "id": "R3vXu5wjuOF9"
      },
      "source": [
        "train_data = train_data.drop('text')\n",
        "test_data = test_data.drop('text')\n",
        "train_data = train_data.drop('forwarded_id')\n",
        "test_data = test_data.drop('forwarded_id')"
      ],
      "execution_count": 21,
      "outputs": []
    },
    {
      "cell_type": "markdown",
      "metadata": {
        "id": "Q_TG0vh3oHAm"
      },
      "source": [
        "## 2. Фичи, использующие метаданные каналов"
      ]
    },
    {
      "cell_type": "markdown",
      "metadata": {
        "id": "wfSeAMfcsI-0"
      },
      "source": [
        "Из channel_data я решила отобрать post_count и user_count."
      ]
    },
    {
      "cell_type": "code",
      "metadata": {
        "id": "FP6G1F3kpDDN"
      },
      "source": [
        "def make_features(df):\n",
        "    cols = ['channel_id']\n",
        "    if 'post_count' in df.columns:\n",
        "        cols.append('post_count')\n",
        "    if 'user_count' in df.columns:\n",
        "        cols.append('user_count')\n",
        "    return df.select(*cols)"
      ],
      "execution_count": 22,
      "outputs": []
    },
    {
      "cell_type": "code",
      "metadata": {
        "id": "Vln0D4Ehr7Pk"
      },
      "source": [
        "channel_count = make_features(channel_data).cache()"
      ],
      "execution_count": 23,
      "outputs": []
    },
    {
      "cell_type": "code",
      "metadata": {
        "id": "tC681uG-ms53"
      },
      "source": [
        "train_data = train_data.join(channel_count, on='channel_id', how='left')\n",
        "test_data = test_data.join(channel_count, on='channel_id', how='left')"
      ],
      "execution_count": 24,
      "outputs": []
    },
    {
      "cell_type": "code",
      "metadata": {
        "id": "MIHuCvZUYWuZ"
      },
      "source": [
        "train_data = train_data.withColumn('post_count', sf.col('post_count').cast('int'))\n",
        "test_data = test_data.withColumn('post_count', sf.col('post_count').cast('int'))\n",
        "train_data = train_data.withColumn('user_count', sf.col('user_count').cast('int'))\n",
        "test_data = test_data.withColumn('user_count', sf.col('user_count').cast('int'))"
      ],
      "execution_count": 25,
      "outputs": []
    },
    {
      "cell_type": "markdown",
      "metadata": {
        "id": "_u5KSwMK_lML"
      },
      "source": [
        "## 3. Фичи, использующие window aggregation"
      ]
    },
    {
      "cell_type": "code",
      "metadata": {
        "id": "XRWdz5Ac_1Qn"
      },
      "source": [
        "from pyspark.sql.window import Window\n",
        "from pyspark.sql.functions import col, avg, sum"
      ],
      "execution_count": 26,
      "outputs": []
    },
    {
      "cell_type": "markdown",
      "metadata": {
        "id": "KmwbEAFJEst8"
      },
      "source": [
        "- Посчитаем среднее количество слов в постах каждого канала."
      ]
    },
    {
      "cell_type": "code",
      "metadata": {
        "id": "23xX31JH_1eX"
      },
      "source": [
        "window_chan  = Window.partitionBy(\"channel_id\")"
      ],
      "execution_count": 27,
      "outputs": []
    },
    {
      "cell_type": "code",
      "metadata": {
        "id": "4i2h0MV6_1qa"
      },
      "source": [
        "train_data = train_data.withColumn(\"avg\", avg(col(\"word_count\")).over(window_chan))\n",
        "test_data = test_data.withColumn(\"avg\", avg(col(\"word_count\")).over(window_chan))"
      ],
      "execution_count": 28,
      "outputs": []
    },
    {
      "cell_type": "markdown",
      "metadata": {
        "id": "-jjewk6oM-Ni"
      },
      "source": [
        "- Посчитаем количество постов в течение года"
      ]
    },
    {
      "cell_type": "code",
      "metadata": {
        "id": "l5XWpUK-Nj9E"
      },
      "source": [
        "window_year  = Window.partitionBy(\"channel_id\") \\\n",
        "          .orderBy('year') \\\n",
        "          .rangeBetween(-1, 0)"
      ],
      "execution_count": 29,
      "outputs": []
    },
    {
      "cell_type": "code",
      "metadata": {
        "id": "VSsellpdNL_e"
      },
      "source": [
        "train_data = train_data.withColumn('post_count_year', sf.count('id').over(window_year)) \\\n",
        "  .filter(sf.col('year') != -1).orderBy('year')\n",
        "test_data = test_data.withColumn('post_count_year', sf.count('id').over(window_year)) \\\n",
        "  .filter(sf.col('year') != -1).orderBy('year')"
      ],
      "execution_count": 30,
      "outputs": []
    },
    {
      "cell_type": "code",
      "metadata": {
        "colab": {
          "base_uri": "https://localhost:8080/"
        },
        "id": "9OBMyeDLtKzJ",
        "outputId": "1a31a72d-13d2-40bc-e68c-97b7f64618ff"
      },
      "source": [
        "train_data.cache()\n",
        "test_data.cache()"
      ],
      "execution_count": 31,
      "outputs": [
        {
          "output_type": "execute_result",
          "data": {
            "text/plain": [
              "DataFrame[channel_id: int, id: int, tg_id: int, has_image: string, is_forwarded: string, year: int, month: int, day: int, hour: int, minute: int, word_count: int, hash_count: boolean, post_count: int, user_count: int, avg: double, post_count_year: bigint]"
            ]
          },
          "metadata": {
            "tags": []
          },
          "execution_count": 31
        }
      ]
    },
    {
      "cell_type": "code",
      "metadata": {
        "id": "Hri8819aKplI"
      },
      "source": [
        "train_data.write.csv('train', mode='overwrite', header=True)\n",
        "test_data.write.csv('test', mode='overwrite', header=True)"
      ],
      "execution_count": 32,
      "outputs": []
    },
    {
      "cell_type": "markdown",
      "metadata": {
        "id": "eX9SMWQw9vUp"
      },
      "source": [
        "# load features to pandas\n",
        "you also can use .toPandas()"
      ]
    },
    {
      "cell_type": "code",
      "metadata": {
        "id": "kh_TdKMO9vUp"
      },
      "source": [
        "import subprocess\n",
        "import glob\n",
        "import os\n",
        "import shutil\n",
        "import pandas as pd\n",
        "\n",
        "def load_and_merge_csv(path, **kwargs):\n",
        "    dfs = []\n",
        "    for g in glob.glob(os.path.join(path, '*.csv')):\n",
        "        dfs.append(pd.read_csv(g, **kwargs))\n",
        "    res = pd.concat(dfs)\n",
        "    res = res.set_index('id')\n",
        "    return res"
      ],
      "execution_count": 33,
      "outputs": []
    },
    {
      "cell_type": "code",
      "metadata": {
        "id": "x4KjVZTi9vUq"
      },
      "source": [
        "trainXY = load_and_merge_csv('train')\n",
        "testX = load_and_merge_csv('test')"
      ],
      "execution_count": 34,
      "outputs": []
    },
    {
      "cell_type": "code",
      "metadata": {
        "id": "dxsrvVBIwkr7"
      },
      "source": [
        "import numpy as np"
      ],
      "execution_count": 35,
      "outputs": []
    },
    {
      "cell_type": "code",
      "metadata": {
        "id": "9J8eBFZnwxoJ"
      },
      "source": [
        "X_train = trainXY.loc[:, trainXY.columns != 'views']\n",
        "y_train = trainXY.loc[:, trainXY.columns == 'views']"
      ],
      "execution_count": 36,
      "outputs": []
    },
    {
      "cell_type": "code",
      "metadata": {
        "id": "tBZm6oEoCG7r"
      },
      "source": [
        "y_train = np.log(y_train + 100)"
      ],
      "execution_count": 37,
      "outputs": []
    },
    {
      "cell_type": "code",
      "metadata": {
        "colab": {
          "base_uri": "https://localhost:8080/"
        },
        "id": "qGdm6HxUZWUm",
        "outputId": "f2b2a82a-4796-4fdf-aa0b-9ad8081c2af3"
      },
      "source": [
        "X_train.info(verbose=True)"
      ],
      "execution_count": 38,
      "outputs": [
        {
          "output_type": "stream",
          "text": [
            "<class 'pandas.core.frame.DataFrame'>\n",
            "Int64Index: 5460759 entries, 39956839 to 28680033\n",
            "Data columns (total 15 columns):\n",
            " #   Column           Dtype  \n",
            "---  ------           -----  \n",
            " 0   channel_id       int64  \n",
            " 1   tg_id            int64  \n",
            " 2   has_image        object \n",
            " 3   is_forwarded     object \n",
            " 4   year             int64  \n",
            " 5   month            int64  \n",
            " 6   day              int64  \n",
            " 7   hour             int64  \n",
            " 8   minute           int64  \n",
            " 9   word_count       int64  \n",
            " 10  hash_count       object \n",
            " 11  post_count       int64  \n",
            " 12  user_count       int64  \n",
            " 13  avg              float64\n",
            " 14  post_count_year  int64  \n",
            "dtypes: float64(1), int64(11), object(3)\n",
            "memory usage: 666.6+ MB\n"
          ],
          "name": "stdout"
        }
      ]
    },
    {
      "cell_type": "code",
      "metadata": {
        "colab": {
          "base_uri": "https://localhost:8080/"
        },
        "id": "B2UZz5p-YsfB",
        "outputId": "00171957-6e49-48f3-81a6-dea57f0ced7b"
      },
      "source": [
        "X_train.isnull().sum(axis = 0)"
      ],
      "execution_count": 39,
      "outputs": [
        {
          "output_type": "execute_result",
          "data": {
            "text/plain": [
              "channel_id               0\n",
              "tg_id                    0\n",
              "has_image                0\n",
              "is_forwarded             0\n",
              "year                     0\n",
              "month                    0\n",
              "day                      0\n",
              "hour                     0\n",
              "minute                   0\n",
              "word_count               0\n",
              "hash_count         1490599\n",
              "post_count               0\n",
              "user_count               0\n",
              "avg                      0\n",
              "post_count_year          0\n",
              "dtype: int64"
            ]
          },
          "metadata": {
            "tags": []
          },
          "execution_count": 39
        }
      ]
    },
    {
      "cell_type": "code",
      "metadata": {
        "colab": {
          "base_uri": "https://localhost:8080/"
        },
        "id": "W_O9WNm4ZDCj",
        "outputId": "e483dc47-b60e-4130-fb0e-9259258860aa"
      },
      "source": [
        "testX.isnull().sum(axis = 0)"
      ],
      "execution_count": 40,
      "outputs": [
        {
          "output_type": "execute_result",
          "data": {
            "text/plain": [
              "channel_id             0\n",
              "tg_id                  0\n",
              "has_image              0\n",
              "is_forwarded           0\n",
              "year                   0\n",
              "month                  0\n",
              "day                    0\n",
              "hour                   0\n",
              "minute                 0\n",
              "word_count             0\n",
              "hash_count         50578\n",
              "post_count             0\n",
              "user_count             0\n",
              "avg                    0\n",
              "post_count_year        0\n",
              "dtype: int64"
            ]
          },
          "metadata": {
            "tags": []
          },
          "execution_count": 40
        }
      ]
    },
    {
      "cell_type": "markdown",
      "metadata": {
        "id": "z6vgL6Ifb0hp"
      },
      "source": [
        "Заполнение ячеек, содержащих nan"
      ]
    },
    {
      "cell_type": "code",
      "metadata": {
        "colab": {
          "base_uri": "https://localhost:8080/"
        },
        "id": "UTQQVZ0EbRZc",
        "outputId": "d8987339-685f-4394-85db-52c879d3a9a9"
      },
      "source": [
        "X_train['hash_count'].fillna('unknown', inplace = True)\n",
        "testX['hash_count'].fillna('unknown', inplace = True)"
      ],
      "execution_count": 46,
      "outputs": [
        {
          "output_type": "stream",
          "text": [
            "/usr/local/lib/python3.7/dist-packages/pandas/core/series.py:4536: SettingWithCopyWarning: \n",
            "A value is trying to be set on a copy of a slice from a DataFrame\n",
            "\n",
            "See the caveats in the documentation: https://pandas.pydata.org/pandas-docs/stable/user_guide/indexing.html#returning-a-view-versus-a-copy\n",
            "  downcast=downcast,\n"
          ],
          "name": "stderr"
        }
      ]
    },
    {
      "cell_type": "markdown",
      "metadata": {
        "id": "CNtyoCRH9vUr"
      },
      "source": [
        "# train your model and predict test"
      ]
    },
    {
      "cell_type": "code",
      "metadata": {
        "id": "MnBgq1QGvHMt"
      },
      "source": [
        "! pip install catboost\n",
        "clear_output()"
      ],
      "execution_count": 41,
      "outputs": []
    },
    {
      "cell_type": "code",
      "metadata": {
        "id": "kIjebbFdvswM"
      },
      "source": [
        "from catboost import CatBoostRegressor"
      ],
      "execution_count": 42,
      "outputs": []
    },
    {
      "cell_type": "code",
      "metadata": {
        "id": "B2WL20H1vs2H"
      },
      "source": [
        "cat_features = ['has_image', 'is_forwarded', 'hash_count']"
      ],
      "execution_count": 43,
      "outputs": []
    },
    {
      "cell_type": "code",
      "metadata": {
        "id": "egRPKeCdv35C"
      },
      "source": [
        "model = CatBoostRegressor(iterations = 1200,\n",
        "    random_seed=42,\n",
        "    verbose = 100)"
      ],
      "execution_count": 44,
      "outputs": []
    },
    {
      "cell_type": "code",
      "metadata": {
        "colab": {
          "base_uri": "https://localhost:8080/",
          "height": 252,
          "referenced_widgets": [
            "3422c1e71ab2421ca81452baae58d15e"
          ]
        },
        "id": "u6yUIBUpv4DK",
        "outputId": "6709a5d1-4e2e-434f-fd16-d4e20a817ffb"
      },
      "source": [
        "model.fit(\n",
        "    X_train, y_train,\n",
        "    cat_features=cat_features,\n",
        "    logging_level='Verbose',  \n",
        "    plot=True);"
      ],
      "execution_count": 48,
      "outputs": [
        {
          "output_type": "display_data",
          "data": {
            "application/vnd.jupyter.widget-view+json": {
              "model_id": "3422c1e71ab2421ca81452baae58d15e",
              "version_minor": 0,
              "version_major": 2
            },
            "text/plain": [
              "MetricVisualizer(layout=Layout(align_self='stretch', height='500px'))"
            ]
          },
          "metadata": {
            "tags": []
          }
        },
        {
          "output_type": "stream",
          "text": [
            "Learning rate set to 0.157201\n",
            "0:\tlearn: 1.4129604\ttotal: 3.3s\tremaining: 1h 6m 2s\n",
            "100:\tlearn: 0.9962308\ttotal: 3m 43s\tremaining: 40m 31s\n",
            "200:\tlearn: 0.9278870\ttotal: 7m 27s\tremaining: 37m 5s\n",
            "300:\tlearn: 0.8850545\ttotal: 11m 15s\tremaining: 33m 36s\n",
            "400:\tlearn: 0.8543944\ttotal: 15m 2s\tremaining: 29m 58s\n",
            "500:\tlearn: 0.8306925\ttotal: 18m 51s\tremaining: 26m 19s\n",
            "600:\tlearn: 0.8119592\ttotal: 22m 35s\tremaining: 22m 31s\n",
            "700:\tlearn: 0.7956399\ttotal: 26m 28s\tremaining: 18m 51s\n",
            "800:\tlearn: 0.7824234\ttotal: 30m 24s\tremaining: 15m 8s\n",
            "900:\tlearn: 0.7704689\ttotal: 34m 16s\tremaining: 11m 22s\n",
            "1000:\tlearn: 0.7607227\ttotal: 38m 6s\tremaining: 7m 34s\n",
            "1100:\tlearn: 0.7518736\ttotal: 42m\tremaining: 3m 46s\n",
            "1199:\tlearn: 0.7442354\ttotal: 45m 50s\tremaining: 0us\n"
          ],
          "name": "stdout"
        }
      ]
    },
    {
      "cell_type": "code",
      "metadata": {
        "id": "DC47D0GDv4L6"
      },
      "source": [
        "preds_gb = model.predict(testX)"
      ],
      "execution_count": 51,
      "outputs": []
    },
    {
      "cell_type": "code",
      "metadata": {
        "colab": {
          "base_uri": "https://localhost:8080/"
        },
        "id": "il1w7TlK2Y7-",
        "outputId": "db86bf36-5b3f-48cf-d32f-1204a96fcc20"
      },
      "source": [
        "preds_gb"
      ],
      "execution_count": 52,
      "outputs": [
        {
          "output_type": "execute_result",
          "data": {
            "text/plain": [
              "array([8.89232394, 8.89232394, 8.89232394, ..., 8.66932226, 7.71420155,\n",
              "       7.72195262])"
            ]
          },
          "metadata": {
            "tags": []
          },
          "execution_count": 52
        }
      ]
    },
    {
      "cell_type": "code",
      "metadata": {
        "id": "lxwEXzjc9vUs"
      },
      "source": [
        "assert preds_gb.shape == (244386,)"
      ],
      "execution_count": 53,
      "outputs": []
    },
    {
      "cell_type": "markdown",
      "metadata": {
        "id": "qcK1AqJ59vUt"
      },
      "source": [
        "# submit"
      ]
    },
    {
      "cell_type": "code",
      "metadata": {
        "id": "IAfDRX6B9vUt",
        "colab": {
          "base_uri": "https://localhost:8080/"
        },
        "outputId": "7415d73f-ba57-4e72-be6c-7e869a9a51c1"
      },
      "source": [
        "! curl -H 'Cache-Control: no-cache' https://raw.githubusercontent.com/mike0sv/lsml_submit_server/2021/src/client.py -o client.py"
      ],
      "execution_count": 54,
      "outputs": [
        {
          "output_type": "stream",
          "text": [
            "  % Total    % Received % Xferd  Average Speed   Time    Time     Time  Current\n",
            "                                 Dload  Upload   Total   Spent    Left  Speed\n",
            "100  1906  100  1906    0     0   9724      0 --:--:-- --:--:-- --:--:--  9724\n"
          ],
          "name": "stdout"
        }
      ]
    },
    {
      "cell_type": "code",
      "metadata": {
        "id": "A-565Lqb9vUt"
      },
      "source": [
        "import client"
      ],
      "execution_count": 55,
      "outputs": []
    },
    {
      "cell_type": "code",
      "metadata": {
        "id": "4HoaZD069vUu",
        "colab": {
          "base_uri": "https://localhost:8080/"
        },
        "outputId": "7517c63d-a391-46ac-f6f0-3a1aed8a66a4"
      },
      "source": [
        "client.make_eval(pd.DataFrame({'views': preds_gb}, index=testX.index),  final=True)"
      ],
      "execution_count": 56,
      "outputs": [
        {
          "output_type": "stream",
          "text": [
            "Enter username:\n",
            "user15\n",
            "Enter password:\n",
            "··········\n"
          ],
          "name": "stdout"
        },
        {
          "output_type": "execute_result",
          "data": {
            "text/plain": [
              "{'data': {'mape': 13.005709215101932,\n",
              "  'mean_absolute_error': 0.978996519831543,\n",
              "  'mean_squared_error': 1.7351197777819296,\n",
              "  'rmse': 1.3172394534715128,\n",
              "  'rmspe': 20.03280290995948},\n",
              " 'ok': True}"
            ]
          },
          "metadata": {
            "tags": []
          },
          "execution_count": 56
        }
      ]
    },
    {
      "cell_type": "code",
      "metadata": {
        "id": "2DwGIdVX9vUu",
        "colab": {
          "base_uri": "https://localhost:8080/"
        },
        "outputId": "0efde9ef-9e95-4bd2-a151-f4b5994af6f1"
      },
      "source": [
        "client.check_results()"
      ],
      "execution_count": 57,
      "outputs": [
        {
          "output_type": "execute_result",
          "data": {
            "text/plain": [
              "{'2021-06-12': [{'baseline_beaten': False,\n",
              "   'is_final': False,\n",
              "   'metrics': {'mape': 451555.5305036703,\n",
              "    'mean_absolute_error': 39931.497573789195,\n",
              "    'mean_squared_error': 18144074756.68306,\n",
              "    'rmse': 134699.94341751988,\n",
              "    'rmspe': 1432182.57162512}},\n",
              "  {'baseline_beaten': True,\n",
              "   'is_final': False,\n",
              "   'metrics': {'mape': 11.406853562182242,\n",
              "    'mean_absolute_error': 0.8446788675221267,\n",
              "    'mean_squared_error': 1.4115751139845738,\n",
              "    'rmse': 1.1880972662137448,\n",
              "    'rmspe': 18.925928461450223}}],\n",
              " '2021-06-13': [{'baseline_beaten': True,\n",
              "   'is_final': True,\n",
              "   'metrics': {'mape': 13.005709215101932,\n",
              "    'mean_absolute_error': 0.978996519831543,\n",
              "    'mean_squared_error': 1.7351197777819296,\n",
              "    'rmse': 1.3172394534715128,\n",
              "    'rmspe': 20.03280290995948}}]}"
            ]
          },
          "metadata": {
            "tags": []
          },
          "execution_count": 57
        }
      ]
    },
    {
      "cell_type": "code",
      "metadata": {
        "id": "2-2kNx292CF6"
      },
      "source": [
        ""
      ],
      "execution_count": null,
      "outputs": []
    }
  ]
}